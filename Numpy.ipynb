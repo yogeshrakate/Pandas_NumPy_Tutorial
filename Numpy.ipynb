{
 "cells": [
  {
   "cell_type": "markdown",
   "id": "154ed3e8",
   "metadata": {},
   "source": [
    "## NumPy\n",
    "- [NumPy - Ndarray Object](#NumPy---Ndarray-Object)<br>\n",
    "- [NumPy - Array Attributes](#NumPy---Array-Attributes)<br>\n",
    "- [NumPy - Array Creation Routines](#NumPy---Array-Creation-Routines)<br>\n",
    "- [NumPy - Array From Existing Data](#NumPy---Array-From-Existing-Data)<br>\n",
    "- [NumPy - Array From Numerical Ranges](#NumPy---Array-From-Numerical-Ranges)<br>\n",
    "- [NumPy - Indexing & Slicing](#NumPy---Indexing-&-Slicing)<br>\n",
    "- [NumPy - Broadcasting](#NumPy---Broadcasting)<br>\n",
    "- [NumPy - Iterating Over Array](#NumPy---Iterating-Over-Array)<br>\n",
    "- [NumPy - Array Manipulation(Splitting Arrays)](#NumPy---Array-Manipulation(Splitting-Arrays))<br>\n",
    "- [NumPy - Array Manipulation(Joining Arrays)](#NumPy---Array-Manipulation(Joining-Arrays))<br>\n",
    "- [NumPy - Array Manipulation(Adding/Removing Elements)](#NumPy---Array-Manipulation(Adding/Removing-Elements))<br>\n",
    "- [NumPy - String Operations](#NumPy---String-Operations)<br>\n",
    "- [NumPy - Mathematical Functions](#NumPy---Mathematical-Functions)<br>\n",
    "- [NumPy - Sort, Search & Counting Functions](#NumPy---Sort,-Search-&-Counting-Functions)<br>"
   ]
  },
  {
   "cell_type": "markdown",
   "id": "d24b593b",
   "metadata": {},
   "source": [
    "### NumPy - Ndarray Object\n",
    "#### Ndarray : N-dimensional array\n",
    "numpy.array creates an ndarray from any object exposing array interface, or from any method that returns an array. It uses following syntax\n",
    "\n",
    "<p style=\"background-color:yellow\">SYNTAX - numpy.array(object, dtype = None, copy = True, order = None, subok = False, ndmin = 0)</p>"
   ]
  },
  {
   "cell_type": "code",
   "execution_count": 1,
   "id": "053ca219",
   "metadata": {},
   "outputs": [],
   "source": [
    "import numpy as np"
   ]
  },
  {
   "cell_type": "code",
   "execution_count": 2,
   "id": "3f1074bb",
   "metadata": {},
   "outputs": [
    {
     "name": "stdout",
     "output_type": "stream",
     "text": [
      "[1 2 3]\n"
     ]
    }
   ],
   "source": [
    "a = np.array([1,2,3]) \n",
    "print(a)"
   ]
  },
  {
   "cell_type": "code",
   "execution_count": 3,
   "id": "279c11b8",
   "metadata": {},
   "outputs": [
    {
     "name": "stdout",
     "output_type": "stream",
     "text": [
      "[[1 2]\n",
      " [3 4]]\n"
     ]
    }
   ],
   "source": [
    "# more than one dimensions \n",
    "a = np.array([[1, 2], [3, 4]]) \n",
    "print(a)"
   ]
  },
  {
   "cell_type": "code",
   "execution_count": 4,
   "id": "63056259",
   "metadata": {},
   "outputs": [
    {
     "name": "stdout",
     "output_type": "stream",
     "text": [
      "[[[1 2 3 4 5]]]\n"
     ]
    }
   ],
   "source": [
    "# minimum dimensions \n",
    "a = np.array([1, 2, 3,4,5], ndmin = 3) \n",
    "print(a)"
   ]
  },
  {
   "cell_type": "code",
   "execution_count": 5,
   "id": "d6873449",
   "metadata": {},
   "outputs": [
    {
     "name": "stdout",
     "output_type": "stream",
     "text": [
      "[1.+0.j 2.+0.j 3.+0.j]\n"
     ]
    }
   ],
   "source": [
    "# dtype parameter \n",
    "a = np.array([1, 2, 3], dtype = complex) \n",
    "print(a)"
   ]
  },
  {
   "cell_type": "markdown",
   "id": "dd5e0f20",
   "metadata": {},
   "source": [
    "[<p style=\"text-align:right\">[Back to top]</p>](#NumPy)"
   ]
  },
  {
   "cell_type": "markdown",
   "id": "5acf347b",
   "metadata": {},
   "source": [
    "### NumPy - Array Attributes\n",
    "* [ndarray.shape](#ndarray.shape)<br>\n",
    "* [ndarray.reshape](#ndarray.reshape)<br>\n",
    "* [ndarray.ndim](#ndarray.ndim)<br>"
   ]
  },
  {
   "cell_type": "markdown",
   "id": "9902e747",
   "metadata": {},
   "source": [
    "#### ndarray.shape\n",
    "This array attribute returns a tuple consisting of array dimensions."
   ]
  },
  {
   "cell_type": "code",
   "execution_count": 6,
   "id": "642b344f",
   "metadata": {},
   "outputs": [
    {
     "name": "stdout",
     "output_type": "stream",
     "text": [
      "(2, 3)\n"
     ]
    },
    {
     "data": {
      "text/plain": [
       "array([[1, 2, 3],\n",
       "       [4, 5, 6]])"
      ]
     },
     "execution_count": 6,
     "metadata": {},
     "output_type": "execute_result"
    }
   ],
   "source": [
    "a = np.array([[1,2,3],[4,5,6]]) \n",
    "print(a.shape)\n",
    "a"
   ]
  },
  {
   "cell_type": "code",
   "execution_count": 7,
   "id": "bfe331bd",
   "metadata": {},
   "outputs": [
    {
     "data": {
      "text/plain": [
       "array([[1, 2],\n",
       "       [3, 4],\n",
       "       [5, 6]])"
      ]
     },
     "execution_count": 7,
     "metadata": {},
     "output_type": "execute_result"
    }
   ],
   "source": [
    "# this ndarray can be reshaped\n",
    "a.shape = (3,2) \n",
    "a"
   ]
  },
  {
   "cell_type": "markdown",
   "id": "642a8ff3",
   "metadata": {},
   "source": [
    "#### ndarray.reshape\n",
    "This array attribute returns a reshaped array."
   ]
  },
  {
   "cell_type": "code",
   "execution_count": 8,
   "id": "d51799ff",
   "metadata": {},
   "outputs": [
    {
     "data": {
      "text/plain": [
       "array([[1, 2],\n",
       "       [3, 4],\n",
       "       [5, 6]])"
      ]
     },
     "execution_count": 8,
     "metadata": {},
     "output_type": "execute_result"
    }
   ],
   "source": [
    "# another way to reshape an array\n",
    "a = np.array([[1,2,3],[4,5,6]]) \n",
    "b = a.reshape(3,2) \n",
    "b"
   ]
  },
  {
   "cell_type": "markdown",
   "id": "05b32fc1",
   "metadata": {},
   "source": [
    "#### ndarray.ndim\n",
    "This array attribute returns the number of array dimensions."
   ]
  },
  {
   "cell_type": "code",
   "execution_count": 9,
   "id": "50d34412",
   "metadata": {},
   "outputs": [
    {
     "name": "stdout",
     "output_type": "stream",
     "text": [
      "1\n",
      "[ 0  1  2  3  4  5  6  7  8  9 10 11 12 13 14 15 16 17 18 19 20 21 22 23]\n"
     ]
    }
   ],
   "source": [
    "# an array of evenly spaced numbers \n",
    "a = np.arange(24) \n",
    "print(a.ndim)\n",
    "print(a)"
   ]
  },
  {
   "cell_type": "code",
   "execution_count": 10,
   "id": "70ce824f",
   "metadata": {},
   "outputs": [
    {
     "name": "stdout",
     "output_type": "stream",
     "text": [
      "3\n",
      "[[[ 0  1  2]\n",
      "  [ 3  4  5]\n",
      "  [ 6  7  8]\n",
      "  [ 9 10 11]]\n",
      "\n",
      " [[12 13 14]\n",
      "  [15 16 17]\n",
      "  [18 19 20]\n",
      "  [21 22 23]]]\n"
     ]
    }
   ],
   "source": [
    "# now reshape it \n",
    "b = a.reshape(2,4,3) \n",
    "print(b.ndim)\n",
    "print(b)\n",
    "# b is having three dimensions"
   ]
  },
  {
   "cell_type": "markdown",
   "id": "27b3bc35",
   "metadata": {},
   "source": [
    "[<p style=\"text-align:right\">[Back to top]</p>](#NumPy)"
   ]
  },
  {
   "cell_type": "markdown",
   "id": "d34cb076",
   "metadata": {},
   "source": [
    "### NumPy - Array Creation Routines\n",
    "* [numpy.full](#numpy.full)<br>\n",
    "* [numpy.full_like](#numpy.full_like)<br>\n",
    "* [numpy.empty](#numpy.empty)<br>\n",
    "* [numpy.empty_like](#numpy.empty_like)<br>\n",
    "* [numpy.zeros](#numpy.zeros)<br>\n",
    "* [numpy.zeros_like](#numpy.zeros_like)<br>\n",
    "* [numpy.ones](#numpy.ones)<br>\n",
    "* [numpy.ones_like](#numpy.ones_like)<br>\n",
    "* [numpy.eye](#numpy.eye)<br>\n",
    "* [numpy.identity](#numpy.identity)<br>"
   ]
  },
  {
   "cell_type": "markdown",
   "id": "70973ba3",
   "metadata": {},
   "source": [
    "#### numpy.full\n",
    "Return a new array of given shape and type, filled with fill_value.\n",
    "<p style=\"background-color:yellow\">SYNTAX - numpy.full(shape, fill_value, dtype=None, order='C', *, like=None)</p>"
   ]
  },
  {
   "cell_type": "code",
   "execution_count": 11,
   "id": "2a58c377",
   "metadata": {},
   "outputs": [
    {
     "name": "stdout",
     "output_type": "stream",
     "text": [
      "[[inf inf]\n",
      " [inf inf]]\n",
      "\n",
      "[[nan nan]\n",
      " [nan nan]]\n",
      "\n",
      "[[10 10]\n",
      " [10 10]]\n",
      "\n",
      "[[1 2]\n",
      " [1 2]]\n"
     ]
    }
   ],
   "source": [
    "print(np.full((2, 2), np.inf))\n",
    "print()\n",
    "print(np.full((2, 2), np.nan))\n",
    "print()\n",
    "print(np.full((2, 2), 10))\n",
    "print()\n",
    "print(np.full((2, 2), [1, 2]))"
   ]
  },
  {
   "cell_type": "markdown",
   "id": "8b246092",
   "metadata": {},
   "source": [
    "#### numpy.full_like\n",
    "Return a full array with the same shape and type as a given array.\n",
    "<p style=\"background-color:yellow\">SYNTAX - numpy.full_like(a, fill_value, dtype=None, order='K', subok=True, shape=None)</p>"
   ]
  },
  {
   "cell_type": "code",
   "execution_count": 12,
   "id": "0b50f84e",
   "metadata": {},
   "outputs": [
    {
     "name": "stdout",
     "output_type": "stream",
     "text": [
      "[0 1 2 3 4 5]\n",
      "\n",
      "[1 1 1 1 1 1]\n",
      "\n",
      "[0 0 0 0 0 0]\n",
      "\n",
      "[0.1 0.1 0.1 0.1 0.1 0.1]\n",
      "\n",
      "[nan nan nan nan nan nan]\n"
     ]
    }
   ],
   "source": [
    "x = np.arange(6, dtype=int)\n",
    "print(x)\n",
    "print()\n",
    "print(np.full_like(x, 1))\n",
    "print()\n",
    "print(np.full_like(x, 0.1))\n",
    "print()\n",
    "print(np.full_like(x, 0.1, dtype=float))\n",
    "print()\n",
    "print(np.full_like(x, np.nan, dtype=np.double))"
   ]
  },
  {
   "cell_type": "code",
   "execution_count": 13,
   "id": "46ace750",
   "metadata": {},
   "outputs": [
    {
     "name": "stdout",
     "output_type": "stream",
     "text": [
      "[[1 2 3]\n",
      " [4 5 6]]\n",
      "\n",
      "[[5 5 5]\n",
      " [5 5 5]]\n"
     ]
    }
   ],
   "source": [
    "a = np.array([[1,2,3],[4,5,6]]) \n",
    "print(a)\n",
    "print()\n",
    "print(np.full_like(a, 5))"
   ]
  },
  {
   "cell_type": "code",
   "execution_count": 14,
   "id": "b986c919",
   "metadata": {},
   "outputs": [
    {
     "name": "stdout",
     "output_type": "stream",
     "text": [
      "[[[0 0 0]\n",
      "  [0 0 0]]\n",
      "\n",
      " [[0 0 0]\n",
      "  [0 0 0]]]\n",
      "\n",
      "[[[  0   0 255]\n",
      "  [  0   0 255]]\n",
      "\n",
      " [[  0   0 255]\n",
      "  [  0   0 255]]]\n"
     ]
    }
   ],
   "source": [
    "a = np.zeros([2, 2, 3], dtype=int)\n",
    "print(a)\n",
    "print()\n",
    "print(np.full_like(a, [0, 0, 255]))"
   ]
  },
  {
   "cell_type": "markdown",
   "id": "11a61981",
   "metadata": {},
   "source": [
    "#### numpy.empty\n",
    "It creates an uninitialized array of specified shape and dtype. It uses the following constructor\n",
    "<p style=\"background-color:yellow\">SYNTAX - numpy.empty(shape, dtype = float, order = 'C')</p>"
   ]
  },
  {
   "cell_type": "code",
   "execution_count": 15,
   "id": "7e5c62df",
   "metadata": {},
   "outputs": [
    {
     "data": {
      "text/plain": [
       "array([[1, 2],\n",
       "       [3, 4],\n",
       "       [5, 6]])"
      ]
     },
     "execution_count": 15,
     "metadata": {},
     "output_type": "execute_result"
    }
   ],
   "source": [
    "x = np.empty([3,2], dtype = int)\n",
    "x"
   ]
  },
  {
   "cell_type": "markdown",
   "id": "9f506070",
   "metadata": {},
   "source": [
    "#### numpy.empty_like\n",
    "Return a new array with the same shape and type as a given array.\n",
    "<p style=\"background-color:yellow\">SYNTAX - numpy.empty_like(prototype, dtype=None, order='K', subok=True, shape=None)</p>"
   ]
  },
  {
   "cell_type": "code",
   "execution_count": 16,
   "id": "c0dc3037",
   "metadata": {},
   "outputs": [
    {
     "name": "stdout",
     "output_type": "stream",
     "text": [
      "[[5 5 5]\n",
      " [5 5 5]]\n"
     ]
    }
   ],
   "source": [
    "a = ([1,2,3], [4,5,6])\n",
    "print(np.empty_like(a))"
   ]
  },
  {
   "cell_type": "code",
   "execution_count": 17,
   "id": "c7a0220a",
   "metadata": {},
   "outputs": [
    {
     "name": "stdout",
     "output_type": "stream",
     "text": [
      "[[0.00000000e+000 1.25986740e-321 5.41108927e-312]\n",
      " [0.00000000e+000 1.25986740e-321 5.41108927e-312]]\n"
     ]
    }
   ],
   "source": [
    "a = np.array([[1., 2., 3.],[4.,5.,6.]])\n",
    "print(np.empty_like(a))"
   ]
  },
  {
   "cell_type": "markdown",
   "id": "11c13b6b",
   "metadata": {},
   "source": [
    "#### numpy.zeros\n",
    "Returns a new array of specified size, filled with zeros.\n",
    "<p style=\"background-color:yellow\">SYNTAX - numpy.zeros(shape, dtype = float, order = 'C')</p>"
   ]
  },
  {
   "cell_type": "code",
   "execution_count": 18,
   "id": "e1842629",
   "metadata": {},
   "outputs": [
    {
     "data": {
      "text/plain": [
       "array([0., 0., 0., 0., 0.])"
      ]
     },
     "execution_count": 18,
     "metadata": {},
     "output_type": "execute_result"
    }
   ],
   "source": [
    "# array of five zeros. Default dtype is float \n",
    "x = np.zeros(5)\n",
    "x"
   ]
  },
  {
   "cell_type": "code",
   "execution_count": 19,
   "id": "dc65f6fd",
   "metadata": {},
   "outputs": [
    {
     "data": {
      "text/plain": [
       "array([0, 0, 0, 0, 0])"
      ]
     },
     "execution_count": 19,
     "metadata": {},
     "output_type": "execute_result"
    }
   ],
   "source": [
    "x = np.zeros(5, dtype = int)\n",
    "x"
   ]
  },
  {
   "cell_type": "code",
   "execution_count": 20,
   "id": "92853234",
   "metadata": {},
   "outputs": [
    {
     "data": {
      "text/plain": [
       "array([[(0, 0), (0, 0)],\n",
       "       [(0, 0), (0, 0)]], dtype=[('x', '<i4'), ('y', '<i4')])"
      ]
     },
     "execution_count": 20,
     "metadata": {},
     "output_type": "execute_result"
    }
   ],
   "source": [
    "# custom type \n",
    "x = np.zeros((2,2), dtype = [('x', 'i4'), ('y', 'i4')])  \n",
    "x"
   ]
  },
  {
   "cell_type": "markdown",
   "id": "72e68813",
   "metadata": {},
   "source": [
    "#### numpy.zeros_like\n",
    "Return an array of zeros with the same shape and type as a given array.\n",
    "<p style=\"background-color:yellow\">SYNTAX - numpy.zeros_like(a, dtype=None, order='K', subok=True, shape=None)</p>"
   ]
  },
  {
   "cell_type": "code",
   "execution_count": 21,
   "id": "ca88f888",
   "metadata": {},
   "outputs": [
    {
     "name": "stdout",
     "output_type": "stream",
     "text": [
      "Given array is: \n",
      "[[1 2 3]\n",
      " [4 5 6]]\n",
      "\n",
      "New array of zeros with the same shape and type \n",
      "[[0 0 0]\n",
      " [0 0 0]]\n"
     ]
    }
   ],
   "source": [
    "x = np.asarray([[1,2,3],[4,5,6]])\n",
    "print(\"Given array is: \")\n",
    "print(x)\n",
    "print()\n",
    "\n",
    "y = np.zeros_like(x)\n",
    "print(\"New array of zeros with the same shape and type \")\n",
    "print(y)"
   ]
  },
  {
   "cell_type": "code",
   "execution_count": 22,
   "id": "881c3126",
   "metadata": {},
   "outputs": [
    {
     "name": "stdout",
     "output_type": "stream",
     "text": [
      "Given array is: \n",
      "[0. 1. 2.]\n",
      "\n",
      "New array of zeros with the same shape and type \n",
      "[0. 0. 0.]\n"
     ]
    }
   ],
   "source": [
    "x = np.arange(3, dtype=float)\n",
    "print(\"Given array is: \")\n",
    "print(x)\n",
    "print()\n",
    "\n",
    "y = np.zeros_like(x)\n",
    "print(\"New array of zeros with the same shape and type \")\n",
    "print(y)"
   ]
  },
  {
   "cell_type": "markdown",
   "id": "93d1bd8b",
   "metadata": {},
   "source": [
    "#### numpy.ones\n",
    "Returns a new array of specified size and type, filled with ones.\n",
    "<p style=\"background-color:yellow\">SYNTAX - numpy.ones(shape, dtype = None, order = 'C')</p>"
   ]
  },
  {
   "cell_type": "code",
   "execution_count": 23,
   "id": "cee53bc9",
   "metadata": {},
   "outputs": [
    {
     "data": {
      "text/plain": [
       "array([1., 1., 1., 1., 1.])"
      ]
     },
     "execution_count": 23,
     "metadata": {},
     "output_type": "execute_result"
    }
   ],
   "source": [
    "# array of five ones. Default dtype is float \n",
    "x = np.ones(5)\n",
    "x"
   ]
  },
  {
   "cell_type": "code",
   "execution_count": 24,
   "id": "a294a5bb",
   "metadata": {},
   "outputs": [
    {
     "data": {
      "text/plain": [
       "array([1, 1, 1, 1, 1])"
      ]
     },
     "execution_count": 24,
     "metadata": {},
     "output_type": "execute_result"
    }
   ],
   "source": [
    "# array of five ones.\n",
    "x = np.ones(5, dtype=int)\n",
    "x"
   ]
  },
  {
   "cell_type": "code",
   "execution_count": 25,
   "id": "ab3140c3",
   "metadata": {},
   "outputs": [
    {
     "name": "stdout",
     "output_type": "stream",
     "text": [
      "[[1 1]\n",
      " [1 1]]\n",
      "\n",
      "[[1 1 1 1]]\n"
     ]
    }
   ],
   "source": [
    "x = np.ones([2,2], dtype = int) \n",
    "print(x)\n",
    "print()\n",
    "print(x.reshape(1,4))"
   ]
  },
  {
   "cell_type": "markdown",
   "id": "04be6a24",
   "metadata": {},
   "source": [
    "#### numpy.ones_like\n",
    "Return an array of ones with the same shape and type as a given array.\n",
    "<p style=\"background-color:yellow\">SYNTAX - numpy.ones_like(a, dtype=None, order='K', subok=True, shape=None)</p>"
   ]
  },
  {
   "cell_type": "code",
   "execution_count": 26,
   "id": "cf483c62",
   "metadata": {},
   "outputs": [
    {
     "name": "stdout",
     "output_type": "stream",
     "text": [
      "Given array is: \n",
      "[[1. 2. 3.]\n",
      " [4. 5. 6.]]\n",
      "\n",
      "New array of ones with the same shape and type \n",
      "[[1. 1. 1.]\n",
      " [1. 1. 1.]]\n"
     ]
    }
   ],
   "source": [
    "x = np.asarray([[1,2,3],[4,5,6]], dtype=float)\n",
    "print(\"Given array is: \")\n",
    "print(x)\n",
    "print()\n",
    "\n",
    "y = np.ones_like(x)\n",
    "print(\"New array of ones with the same shape and type \")\n",
    "print(y)"
   ]
  },
  {
   "cell_type": "markdown",
   "id": "ef72df5d",
   "metadata": {},
   "source": [
    "#### numpy.eye\n",
    "Return a 2-D array with ones on the diagonal and zeros elsewhere.\n",
    "<p style=\"background-color:yellow\">SYNTAX - numpy.eye(N, M=None, k=0, dtype=float, order='C', *, like=None)</p>"
   ]
  },
  {
   "cell_type": "code",
   "execution_count": 27,
   "id": "65bb032a",
   "metadata": {
    "scrolled": true
   },
   "outputs": [
    {
     "name": "stdout",
     "output_type": "stream",
     "text": [
      "[[1 0]\n",
      " [0 1]]\n"
     ]
    }
   ],
   "source": [
    "print(np.eye(2, dtype=int))"
   ]
  },
  {
   "cell_type": "code",
   "execution_count": 28,
   "id": "cedf53ce",
   "metadata": {},
   "outputs": [
    {
     "name": "stdout",
     "output_type": "stream",
     "text": [
      "[[1. 0. 0.]\n",
      " [0. 1. 0.]\n",
      " [0. 0. 1.]]\n"
     ]
    }
   ],
   "source": [
    "print(np.eye(3))"
   ]
  },
  {
   "cell_type": "code",
   "execution_count": 29,
   "id": "acf586b4",
   "metadata": {
    "scrolled": false
   },
   "outputs": [
    {
     "name": "stdout",
     "output_type": "stream",
     "text": [
      "[[0 0 1 0 0]\n",
      " [0 0 0 1 0]\n",
      " [0 0 0 0 1]\n",
      " [0 0 0 0 0]\n",
      " [0 0 0 0 0]]\n"
     ]
    }
   ],
   "source": [
    "print(np.eye(5, k=2, dtype=int))"
   ]
  },
  {
   "cell_type": "code",
   "execution_count": 30,
   "id": "e5fda03d",
   "metadata": {
    "scrolled": true
   },
   "outputs": [
    {
     "name": "stdout",
     "output_type": "stream",
     "text": [
      "[[0 1 0 0 0]\n",
      " [0 0 1 0 0]\n",
      " [0 0 0 1 0]\n",
      " [0 0 0 0 1]\n",
      " [0 0 0 0 0]\n",
      " [0 0 0 0 0]\n",
      " [0 0 0 0 0]\n",
      " [0 0 0 0 0]\n",
      " [0 0 0 0 0]]\n"
     ]
    }
   ],
   "source": [
    "print(np.eye(9, k=1, M=5, dtype=int))"
   ]
  },
  {
   "cell_type": "markdown",
   "id": "f38bee97",
   "metadata": {},
   "source": [
    "#### numpy.identity\n",
    "Return the identity array. The identity array is a square array with ones on the main diagonal.\n",
    "<p style=\"background-color:yellow\">SYNTAX - numpy.identity(n, dtype=None, *, like=None)</p>"
   ]
  },
  {
   "cell_type": "code",
   "execution_count": 31,
   "id": "e5168bd0",
   "metadata": {
    "scrolled": true
   },
   "outputs": [
    {
     "name": "stdout",
     "output_type": "stream",
     "text": [
      "[[1. 0. 0.]\n",
      " [0. 1. 0.]\n",
      " [0. 0. 1.]]\n",
      "\n",
      "[[1. 0. 0. 0. 0. 0. 0.]\n",
      " [0. 1. 0. 0. 0. 0. 0.]\n",
      " [0. 0. 1. 0. 0. 0. 0.]\n",
      " [0. 0. 0. 1. 0. 0. 0.]\n",
      " [0. 0. 0. 0. 1. 0. 0.]\n",
      " [0. 0. 0. 0. 0. 1. 0.]\n",
      " [0. 0. 0. 0. 0. 0. 1.]]\n"
     ]
    }
   ],
   "source": [
    "print(np.identity(3))\n",
    "print()\n",
    "print(np.identity(7))"
   ]
  },
  {
   "cell_type": "markdown",
   "id": "732622a1",
   "metadata": {},
   "source": [
    "[<p style=\"text-align:right\">[Back to top]</p>](#NumPy)"
   ]
  },
  {
   "cell_type": "markdown",
   "id": "2c81f318",
   "metadata": {},
   "source": [
    "### NumPy - Array From Existing Data\n",
    "* [numpy.asarray](#numpy.asarray)<br>\n",
    "* [numpy.frombuffer](#numpy.frombuffer)<br>\n",
    "* [numpy.fromiter](#numpy.fromiter)<br>\n",
    "* [numpy.fromstring](#numpy.fromstring)<br>\n",
    "* [numpy.fromfunction](#numpy.fromfunction)<br>"
   ]
  },
  {
   "cell_type": "markdown",
   "id": "c032a92c",
   "metadata": {},
   "source": [
    "#### numpy.asarray\n",
    "This function is similar to numpy.array except for the fact that it has fewer parameters. This routine is useful for converting Python sequence into ndarray.\n",
    "<p style=\"background-color:yellow\">SYNTAX - numpy.asarray(a, dtype = None, order = None)</p>"
   ]
  },
  {
   "cell_type": "code",
   "execution_count": 32,
   "id": "30a430b9",
   "metadata": {},
   "outputs": [
    {
     "data": {
      "text/plain": [
       "array([1, 2, 3])"
      ]
     },
     "execution_count": 32,
     "metadata": {},
     "output_type": "execute_result"
    }
   ],
   "source": [
    "# convert list to ndarray \n",
    "x = [1,2,3] \n",
    "a = np.asarray(x)\n",
    "a"
   ]
  },
  {
   "cell_type": "code",
   "execution_count": 33,
   "id": "56f6e03b",
   "metadata": {},
   "outputs": [
    {
     "data": {
      "text/plain": [
       "array([1., 2., 3.])"
      ]
     },
     "execution_count": 33,
     "metadata": {},
     "output_type": "execute_result"
    }
   ],
   "source": [
    "# ndarray from tuple, and lets set the dtype as well\n",
    "x = (1,2,3) \n",
    "a = np.asarray(x, dtype=float) \n",
    "a"
   ]
  },
  {
   "cell_type": "code",
   "execution_count": 34,
   "id": "ad5a614a",
   "metadata": {},
   "outputs": [
    {
     "data": {
      "text/plain": [
       "array([(1, 2, 3), (4, 5)], dtype=object)"
      ]
     },
     "execution_count": 34,
     "metadata": {},
     "output_type": "execute_result"
    }
   ],
   "source": [
    "# ndarray from list of tuples \n",
    "x = [(1,2,3),(4,5)] \n",
    "a = np.asarray(x, dtype=object) \n",
    "a"
   ]
  },
  {
   "cell_type": "markdown",
   "id": "92286ae3",
   "metadata": {},
   "source": [
    "#### numpy.frombuffer\n",
    "This function interprets a buffer as one-dimensional array. Any object that exposes the buffer interface is used as parameter to return an ndarray.\n",
    "<p style=\"background-color:yellow\">SYNTAX - numpy.frombuffer(buffer, dtype = float, count = -1, offset = 0)</p>"
   ]
  },
  {
   "cell_type": "code",
   "execution_count": 35,
   "id": "580df6f4",
   "metadata": {},
   "outputs": [
    {
     "data": {
      "text/plain": [
       "array([1, 2], dtype=uint8)"
      ]
     },
     "execution_count": 35,
     "metadata": {},
     "output_type": "execute_result"
    }
   ],
   "source": [
    "s = b'\\x01\\x02'\n",
    "a = np.frombuffer(s, dtype=np.uint8)\n",
    "a"
   ]
  },
  {
   "cell_type": "code",
   "execution_count": 36,
   "id": "04658ba9",
   "metadata": {},
   "outputs": [
    {
     "data": {
      "text/plain": [
       "array([b'h', b'e', b'l', b'l', b'o', b' ', b'w', b'o', b'r', b'l', b'd'],\n",
       "      dtype='|S1')"
      ]
     },
     "execution_count": 36,
     "metadata": {},
     "output_type": "execute_result"
    }
   ],
   "source": [
    "s = b'hello world'\n",
    "a = np.frombuffer(s, dtype='S1')\n",
    "a"
   ]
  },
  {
   "cell_type": "code",
   "execution_count": 37,
   "id": "399a635b",
   "metadata": {},
   "outputs": [
    {
     "data": {
      "text/plain": [
       "array([b'w', b'o', b'r', b'l', b'd'], dtype='|S1')"
      ]
     },
     "execution_count": 37,
     "metadata": {},
     "output_type": "execute_result"
    }
   ],
   "source": [
    "s = b'hello world'\n",
    "a = np.frombuffer(s, dtype='S1', count=5, offset=6)\n",
    "a"
   ]
  },
  {
   "cell_type": "markdown",
   "id": "a1f6e70d",
   "metadata": {},
   "source": [
    "#### numpy.fromiter\n",
    "This function builds an ndarray object from any iterable object. A new one-dimensional array is returned by this function.\n",
    "<p style=\"background-color:yellow\">SYNTAX - numpy.fromiter(iterable, dtype, count = -1)</p>"
   ]
  },
  {
   "cell_type": "code",
   "execution_count": 38,
   "id": "339085ca",
   "metadata": {},
   "outputs": [
    {
     "data": {
      "text/plain": [
       "array([1., 2., 3., 4., 5.])"
      ]
     },
     "execution_count": 38,
     "metadata": {},
     "output_type": "execute_result"
    }
   ],
   "source": [
    "it = iter([1,2,3,4,5])\n",
    "x = np.fromiter(it, dtype = float) \n",
    "x"
   ]
  },
  {
   "cell_type": "code",
   "execution_count": 39,
   "id": "ee1d7cef",
   "metadata": {},
   "outputs": [
    {
     "data": {
      "text/plain": [
       "array([1, 2, 1])"
      ]
     },
     "execution_count": 39,
     "metadata": {},
     "output_type": "execute_result"
    }
   ],
   "source": [
    "x = np.fromiter((1,2,1), dtype = int)\n",
    "x"
   ]
  },
  {
   "cell_type": "markdown",
   "id": "3bbd4b15",
   "metadata": {},
   "source": [
    "#### numpy.fromstring\n",
    "A new 1-D array initialized from text data in a string.\n",
    "<p style=\"background-color:yellow\">SYNTAX - numpy.fromstring(string, dtype=float, count=-1, *, sep, like=None)</p>"
   ]
  },
  {
   "cell_type": "code",
   "execution_count": 40,
   "id": "ffb2b6d0",
   "metadata": {},
   "outputs": [
    {
     "name": "stdout",
     "output_type": "stream",
     "text": [
      "[1 2]\n",
      "[1 2]\n"
     ]
    }
   ],
   "source": [
    "print(np.fromstring('1 2', dtype=int, sep=' '))\n",
    "print(np.fromstring('1, 2', dtype=int, sep=','))"
   ]
  },
  {
   "cell_type": "code",
   "execution_count": 41,
   "id": "650e2cc6",
   "metadata": {},
   "outputs": [
    {
     "name": "stdout",
     "output_type": "stream",
     "text": [
      "[1 2 0 0 1]\n",
      "[1]\n"
     ]
    }
   ],
   "source": [
    "print(np.fromstring('1, 2', dtype=int, count=5, sep=','))\n",
    "print(np.fromstring('1, 2', dtype=int, count=1, sep=','))"
   ]
  },
  {
   "cell_type": "markdown",
   "id": "8774313b",
   "metadata": {},
   "source": [
    "#### numpy.fromfunction\n",
    "Construct an array by executing a function over each coordinate.\n",
    "The resulting array therefore has a value fn(x, y, z) at coordinate (x, y, z).\n",
    "<p style=\"background-color:yellow\">SYNTAX - numpy.fromfunction(function, shape, *, dtype=float, like=None, **kwargs)</p>"
   ]
  },
  {
   "cell_type": "code",
   "execution_count": 42,
   "id": "9b6780d4",
   "metadata": {},
   "outputs": [
    {
     "data": {
      "text/plain": [
       "array([[0., 0.],\n",
       "       [1., 1.]])"
      ]
     },
     "execution_count": 42,
     "metadata": {},
     "output_type": "execute_result"
    }
   ],
   "source": [
    "np.fromfunction(lambda i, j: i, (2, 2), dtype=float)"
   ]
  },
  {
   "cell_type": "code",
   "execution_count": 43,
   "id": "df2cfee2",
   "metadata": {},
   "outputs": [
    {
     "data": {
      "text/plain": [
       "array([[0., 1.],\n",
       "       [0., 1.]])"
      ]
     },
     "execution_count": 43,
     "metadata": {},
     "output_type": "execute_result"
    }
   ],
   "source": [
    "np.fromfunction(lambda i, j: j, (2, 2), dtype=float)"
   ]
  },
  {
   "cell_type": "code",
   "execution_count": 44,
   "id": "3a335c57",
   "metadata": {},
   "outputs": [
    {
     "data": {
      "text/plain": [
       "array([[ True, False, False],\n",
       "       [False,  True, False],\n",
       "       [False, False,  True]])"
      ]
     },
     "execution_count": 44,
     "metadata": {},
     "output_type": "execute_result"
    }
   ],
   "source": [
    "np.fromfunction(lambda i, j: i == j, (3, 3), dtype=int)"
   ]
  },
  {
   "cell_type": "code",
   "execution_count": 45,
   "id": "379db062",
   "metadata": {},
   "outputs": [
    {
     "data": {
      "text/plain": [
       "array([[0, 1, 2],\n",
       "       [1, 2, 3],\n",
       "       [2, 3, 4]])"
      ]
     },
     "execution_count": 45,
     "metadata": {},
     "output_type": "execute_result"
    }
   ],
   "source": [
    "np.fromfunction(lambda i, j: i + j, (3, 3), dtype=int)"
   ]
  },
  {
   "cell_type": "markdown",
   "id": "95cdb470",
   "metadata": {},
   "source": [
    "[<p style=\"text-align:right\">[Back to top]</p>](#NumPy)"
   ]
  },
  {
   "cell_type": "markdown",
   "id": "daeefe65",
   "metadata": {},
   "source": [
    "### NumPy - Array From Numerical Ranges\n",
    "* [numpy.arange](#numpy.arange)<br>\n",
    "* [numpy.linspace](#numpy.linspace)<br>\n",
    "* [numpy.logspace](#numpy.logspace)<br>"
   ]
  },
  {
   "cell_type": "markdown",
   "id": "8d8059a5",
   "metadata": {},
   "source": [
    "#### numpy.arange\n",
    "This function returns an ndarray object containing evenly spaced values within a given range. The format of the function is as follows −\n",
    "<p style=\"background-color:yellow\">SYNTAX - numpy.arange(start, stop, step, dtype)</p>"
   ]
  },
  {
   "cell_type": "code",
   "execution_count": 46,
   "id": "c5b9ce11",
   "metadata": {},
   "outputs": [
    {
     "data": {
      "text/plain": [
       "array([0., 1., 2., 3., 4.])"
      ]
     },
     "execution_count": 46,
     "metadata": {},
     "output_type": "execute_result"
    }
   ],
   "source": [
    "x = np.arange(5, dtype = float)\n",
    "x"
   ]
  },
  {
   "cell_type": "code",
   "execution_count": 47,
   "id": "81876635",
   "metadata": {},
   "outputs": [
    {
     "data": {
      "text/plain": [
       "array([10.+0.j, 12.+0.j, 14.+0.j, 16.+0.j, 18.+0.j])"
      ]
     },
     "execution_count": 47,
     "metadata": {},
     "output_type": "execute_result"
    }
   ],
   "source": [
    "x = np.arange(10, 20, 2, dtype = complex)\n",
    "x"
   ]
  },
  {
   "cell_type": "markdown",
   "id": "d890eafc",
   "metadata": {},
   "source": [
    "#### numpy.linspace\n",
    "This function is similar to arange() function. In this function, instead of step size, the number of evenly spaced values between the interval is specified. The usage of this function is as follows −\n",
    "<p style=\"background-color:yellow\">SYNTAX - numpy.linspace(start, stop, num, endpoint, retstep, dtype)</p>"
   ]
  },
  {
   "cell_type": "code",
   "execution_count": 48,
   "id": "cf2f36ef",
   "metadata": {},
   "outputs": [
    {
     "data": {
      "text/plain": [
       "array([10.        , 10.20408163, 10.40816327, 10.6122449 , 10.81632653,\n",
       "       11.02040816, 11.2244898 , 11.42857143, 11.63265306, 11.83673469,\n",
       "       12.04081633, 12.24489796, 12.44897959, 12.65306122, 12.85714286,\n",
       "       13.06122449, 13.26530612, 13.46938776, 13.67346939, 13.87755102,\n",
       "       14.08163265, 14.28571429, 14.48979592, 14.69387755, 14.89795918,\n",
       "       15.10204082, 15.30612245, 15.51020408, 15.71428571, 15.91836735,\n",
       "       16.12244898, 16.32653061, 16.53061224, 16.73469388, 16.93877551,\n",
       "       17.14285714, 17.34693878, 17.55102041, 17.75510204, 17.95918367,\n",
       "       18.16326531, 18.36734694, 18.57142857, 18.7755102 , 18.97959184,\n",
       "       19.18367347, 19.3877551 , 19.59183673, 19.79591837, 20.        ])"
      ]
     },
     "execution_count": 48,
     "metadata": {},
     "output_type": "execute_result"
    }
   ],
   "source": [
    "# default num is 50 \n",
    "# default endpoint is True, so include stop value\n",
    "# \"retstep\" is False by default, so not returning step size\n",
    "x = np.linspace(10,20)\n",
    "x"
   ]
  },
  {
   "cell_type": "code",
   "execution_count": 49,
   "id": "cd081214",
   "metadata": {},
   "outputs": [
    {
     "data": {
      "text/plain": [
       "array([10. , 12.5, 15. , 17.5, 20. ])"
      ]
     },
     "execution_count": 49,
     "metadata": {},
     "output_type": "execute_result"
    }
   ],
   "source": [
    "# default num is 50 =========== lets change it\n",
    "# default endpoint is True, so include stop value\n",
    "# \"retstep\" is False by default, so not returning step size\n",
    "x = np.linspace(10,20,5)\n",
    "x"
   ]
  },
  {
   "cell_type": "code",
   "execution_count": 50,
   "id": "104f0c78",
   "metadata": {},
   "outputs": [
    {
     "data": {
      "text/plain": [
       "array([10., 12., 14., 16., 18.])"
      ]
     },
     "execution_count": 50,
     "metadata": {},
     "output_type": "execute_result"
    }
   ],
   "source": [
    "# default num is 50 =========== lets change it\n",
    "# default endpoint is True =========== lets change it\n",
    "# \"retstep\" is False by default, so not returning step size\n",
    "x = np.linspace(10,20,5,endpoint=False)\n",
    "x"
   ]
  },
  {
   "cell_type": "code",
   "execution_count": 51,
   "id": "8e34a9ea",
   "metadata": {},
   "outputs": [
    {
     "data": {
      "text/plain": [
       "(array([10., 12., 14., 16., 18.]), 2.0)"
      ]
     },
     "execution_count": 51,
     "metadata": {},
     "output_type": "execute_result"
    }
   ],
   "source": [
    "# default num is 50 =========== lets change it\n",
    "# default endpoint is True =========== lets change it\n",
    "# \"retstep\" is False by default =========== lets change it\n",
    "x = np.linspace(10,20,5,endpoint=False,retstep=True)\n",
    "x"
   ]
  },
  {
   "cell_type": "markdown",
   "id": "b4cde61d",
   "metadata": {},
   "source": [
    "#### numpy.logspace\n",
    "This function returns an ndarray object that contains the numbers that are evenly spaced on a log scale. Start and stop endpoints of the scale are indices of the base, usually 10.\n",
    "<p style=\"background-color:yellow\">SYNTAX - numpy.logspace(start, stop, num, endpoint, base, dtype)</p>"
   ]
  },
  {
   "cell_type": "code",
   "execution_count": 52,
   "id": "56f9e96a",
   "metadata": {},
   "outputs": [
    {
     "data": {
      "text/plain": [
       "array([ 10.        ,  10.48113134,  10.98541142,  11.51395399,\n",
       "        12.06792641,  12.64855217,  13.25711366,  13.89495494,\n",
       "        14.56348478,  15.26417967,  15.9985872 ,  16.76832937,\n",
       "        17.57510625,  18.42069969,  19.30697729,  20.23589648,\n",
       "        21.20950888,  22.22996483,  23.29951811,  24.42053095,\n",
       "        25.59547923,  26.82695795,  28.11768698,  29.47051703,\n",
       "        30.88843596,  32.37457543,  33.93221772,  35.56480306,\n",
       "        37.2759372 ,  39.06939937,  40.94915062,  42.9193426 ,\n",
       "        44.98432669,  47.14866363,  49.41713361,  51.79474679,\n",
       "        54.28675439,  56.89866029,  59.63623317,  62.50551925,\n",
       "        65.51285569,  68.6648845 ,  71.9685673 ,  75.43120063,\n",
       "        79.06043211,  82.86427729,  86.85113738,  91.0298178 ,\n",
       "        95.40954763, 100.        ])"
      ]
     },
     "execution_count": 52,
     "metadata": {},
     "output_type": "execute_result"
    }
   ],
   "source": [
    "# default num is 50 \n",
    "# default endpoint is True \n",
    "# default base is 10 \n",
    "a = np.logspace(1.0, 2.0) \n",
    "a"
   ]
  },
  {
   "cell_type": "code",
   "execution_count": 53,
   "id": "b100c0ec",
   "metadata": {},
   "outputs": [
    {
     "data": {
      "text/plain": [
       "array([ 10.        ,  17.7827941 ,  31.6227766 ,  56.23413252,\n",
       "       100.        ])"
      ]
     },
     "execution_count": 53,
     "metadata": {},
     "output_type": "execute_result"
    }
   ],
   "source": [
    "# default num is 50 =========== lets change it\n",
    "# default endpoint is True \n",
    "# default base is 10 \n",
    "a = np.logspace(1.0, 2.0, 5) \n",
    "a"
   ]
  },
  {
   "cell_type": "code",
   "execution_count": 54,
   "id": "b9d2679e",
   "metadata": {},
   "outputs": [
    {
     "data": {
      "text/plain": [
       "array([10.        , 15.84893192, 25.11886432, 39.81071706, 63.09573445])"
      ]
     },
     "execution_count": 54,
     "metadata": {},
     "output_type": "execute_result"
    }
   ],
   "source": [
    "# default num is 50 =========== lets change it\n",
    "# default endpoint is True =========== lets change it\n",
    "# default base is 10 \n",
    "a = np.logspace(1.0, 2.0, 5, endpoint=False) \n",
    "a"
   ]
  },
  {
   "cell_type": "code",
   "execution_count": 55,
   "id": "90bd0121",
   "metadata": {},
   "outputs": [
    {
     "data": {
      "text/plain": [
       "array([2.        , 2.29739671, 2.63901582, 3.03143313, 3.48220225])"
      ]
     },
     "execution_count": 55,
     "metadata": {},
     "output_type": "execute_result"
    }
   ],
   "source": [
    "# default num is 50 =========== lets change it\n",
    "# default endpoint is True =========== lets change it\n",
    "# default base is 10 =========== lets change it\n",
    "a = np.logspace(1.0, 2.0, 5, endpoint=False, base=2) \n",
    "a"
   ]
  },
  {
   "cell_type": "markdown",
   "id": "f44402fc",
   "metadata": {},
   "source": [
    "[<p style=\"text-align:right\">[Back to top]</p>](#NumPy)"
   ]
  },
  {
   "cell_type": "markdown",
   "id": "215b46bd",
   "metadata": {},
   "source": [
    "### NumPy - Indexing & Slicing\n",
    "Basic slicing is an extension of Python's basic concept of slicing to n dimensions. A Python slice object is constructed by giving start, stop, and step parameters to the built-in slice function. This slice object is passed to the array to extract a part of array."
   ]
  },
  {
   "cell_type": "code",
   "execution_count": 56,
   "id": "1e58f23b",
   "metadata": {},
   "outputs": [
    {
     "name": "stdout",
     "output_type": "stream",
     "text": [
      "[0 1 2 3 4 5 6 7 8 9]\n",
      "[2 4 6]\n",
      "[2 4 6]\n"
     ]
    }
   ],
   "source": [
    "a = np.arange(10) \n",
    "print(a)\n",
    "print(a[slice(2,7,2)])\n",
    "print(a[2:7:2])"
   ]
  },
  {
   "cell_type": "code",
   "execution_count": 57,
   "id": "f46785c2",
   "metadata": {},
   "outputs": [
    {
     "name": "stdout",
     "output_type": "stream",
     "text": [
      "4\n"
     ]
    }
   ],
   "source": [
    "# slice single item \n",
    "print(a[4])"
   ]
  },
  {
   "cell_type": "code",
   "execution_count": 58,
   "id": "faa6de60",
   "metadata": {},
   "outputs": [
    {
     "name": "stdout",
     "output_type": "stream",
     "text": [
      "[3 4 5 6 7 8 9]\n"
     ]
    }
   ],
   "source": [
    "# slice items starting from a specific index \n",
    "print(a[3:])"
   ]
  },
  {
   "cell_type": "code",
   "execution_count": 59,
   "id": "11bc3aa1",
   "metadata": {},
   "outputs": [
    {
     "name": "stdout",
     "output_type": "stream",
     "text": [
      "[3 4 5]\n"
     ]
    }
   ],
   "source": [
    "# slice items between indexes \n",
    "print(a[3:6])"
   ]
  },
  {
   "cell_type": "code",
   "execution_count": 60,
   "id": "86921ae9",
   "metadata": {},
   "outputs": [
    {
     "name": "stdout",
     "output_type": "stream",
     "text": [
      "Original array is\n",
      "[[1 2 3]\n",
      " [3 4 5]\n",
      " [4 5 6]]\n",
      "\n",
      "Now we will slice the array from the index a[1:]\n",
      "[[3 4 5]\n",
      " [4 5 6]]\n"
     ]
    }
   ],
   "source": [
    "# Lets consider a multidimentional ndarray\n",
    "a = np.array([[1,2,3],[3,4,5],[4,5,6]]) \n",
    "print('Original array is') \n",
    "print(a)\n",
    "print()\n",
    "print('Now we will slice the array from the index a[1:]') \n",
    "print(a[1:])"
   ]
  },
  {
   "cell_type": "code",
   "execution_count": 61,
   "id": "f3d0a7ae",
   "metadata": {},
   "outputs": [
    {
     "name": "stdout",
     "output_type": "stream",
     "text": [
      "Our array is:\n",
      "[[1 2 3]\n",
      " [4 5 6]\n",
      " [7 8 9]]\n",
      "\n",
      "\n",
      "The items in the second column are:\n",
      "[2 5 8]\n",
      "\n",
      "\n",
      "The items column 1 onwards are:\n",
      "[[2 3]\n",
      " [5 6]\n",
      " [8 9]]\n",
      "\n",
      "\n",
      "The items till column 1 are:\n",
      "[[1 2]\n",
      " [4 5]\n",
      " [7 8]]\n",
      "\n",
      "\n",
      "The items in the second row are:\n",
      "[4 5 6]\n",
      "\n",
      "\n",
      "The items row 1 onwards are:\n",
      "[[4 5 6]\n",
      " [7 8 9]]\n",
      "\n",
      "\n",
      "The items till row 1 are:\n",
      "[[1 2 3]\n",
      " [4 5 6]]\n"
     ]
    }
   ],
   "source": [
    "a = np.array([[1,2,3],[4,5,6],[7,8,9]]) \n",
    "\n",
    "print('Our array is:')\n",
    "print(a)\n",
    "print('\\n')\n",
    "\n",
    "# this returns array of items in the second column \n",
    "print('The items in the second column are:')\n",
    "print(a[...,1])\n",
    "print('\\n')\n",
    "\n",
    "# Now we will slice all items from column 1 onwards \n",
    "print('The items column 1 onwards are:')\n",
    "print(a[...,1:])\n",
    "print('\\n')\n",
    "\n",
    "# Now we will slice all items till column 1 skipping rest columns \n",
    "print('The items till column 1 are:')\n",
    "print(a[...,:2])\n",
    "print('\\n')\n",
    "\n",
    "# Now we will slice all items from the second row \n",
    "print('The items in the second row are:')\n",
    "print(a[1,...])\n",
    "print('\\n')\n",
    "\n",
    "# Now we will slice all items from row 1 onwards \n",
    "print('The items row 1 onwards are:')\n",
    "print(a[1:,...])\n",
    "print('\\n')\n",
    "\n",
    "# Now we will slice all items till row 1 skipping rest rows \n",
    "print('The items till row 1 are:')\n",
    "print(a[:2,...])"
   ]
  },
  {
   "cell_type": "code",
   "execution_count": 62,
   "id": "58560fc7",
   "metadata": {},
   "outputs": [
    {
     "name": "stdout",
     "output_type": "stream",
     "text": [
      "Our array is:\n",
      "[[ 0  1  2]\n",
      " [ 3  4  5]\n",
      " [ 6  7  8]\n",
      " [ 9 10 11]]\n",
      "\n",
      "\n",
      "The corner elements of this array are:\n",
      "[[ 0  2]\n",
      " [ 9 11]]\n"
     ]
    }
   ],
   "source": [
    "x = np.array([[ 0,  1,  2],[ 3,  4,  5],[ 6,  7,  8],[ 9, 10, 11]]) \n",
    "   \n",
    "print('Our array is:')\n",
    "print(x)\n",
    "print('\\n')\n",
    "\n",
    "rows = np.array([[0,0],[3,3]])\n",
    "cols = np.array([[0,2],[0,2]]) \n",
    "y = x[rows,cols] \n",
    "   \n",
    "print('The corner elements of this array are:')\n",
    "print(y)"
   ]
  },
  {
   "cell_type": "markdown",
   "id": "c1ca64aa",
   "metadata": {},
   "source": [
    "[<p style=\"text-align:right\">[Back to top]</p>](#NumPy)"
   ]
  },
  {
   "cell_type": "markdown",
   "id": "c2b0c0a7",
   "metadata": {},
   "source": [
    "### NumPy - Broadcasting\n",
    "The term broadcasting refers to the ability of NumPy to treat arrays of different shapes during arithmetic operations."
   ]
  },
  {
   "cell_type": "code",
   "execution_count": 63,
   "id": "e681c8ad",
   "metadata": {},
   "outputs": [
    {
     "name": "stdout",
     "output_type": "stream",
     "text": [
      "Adding two arrays\n",
      "[11 22 33 44]\n",
      "\n",
      "Subtracting two arrays\n",
      "[ 9 18 27 36]\n",
      "\n",
      "Multiplying two arrays\n",
      "[ 10  40  90 160]\n",
      "\n",
      "Deviding two arrays\n",
      "[10. 10. 10. 10.]\n"
     ]
    }
   ],
   "source": [
    "a = np.array([1,2,3,4]) \n",
    "b = np.array([10,20,30,40]) \n",
    "print(\"Adding two arrays\")\n",
    "print(a+b)\n",
    "print()\n",
    "print(\"Subtracting two arrays\")\n",
    "print(b-a)\n",
    "print()\n",
    "print(\"Multiplying two arrays\")\n",
    "print(a * b)\n",
    "print()\n",
    "print(\"Deviding two arrays\")\n",
    "print(b/a)"
   ]
  },
  {
   "cell_type": "code",
   "execution_count": 64,
   "id": "cd95173d",
   "metadata": {},
   "outputs": [
    {
     "name": "stdout",
     "output_type": "stream",
     "text": [
      "First array:\n",
      "[[ 0.  0.  0.]\n",
      " [10. 10. 10.]\n",
      " [20. 20. 20.]\n",
      " [30. 30. 30.]]\n",
      "\n",
      "\n",
      "Second array:\n",
      "[1. 2. 3.]\n",
      "\n",
      "\n",
      "First Array + Second Array\n",
      "[[ 1.  2.  3.]\n",
      " [11. 12. 13.]\n",
      " [21. 22. 23.]\n",
      " [31. 32. 33.]]\n"
     ]
    }
   ],
   "source": [
    "a = np.array([[0.0,0.0,0.0],[10.0,10.0,10.0],[20.0,20.0,20.0],[30.0,30.0,30.0]]) \n",
    "b = np.array([1.0,2.0,3.0])\n",
    "print('First array:')\n",
    "print(a)\n",
    "print('\\n')\n",
    "   \n",
    "print('Second array:')\n",
    "print(b)\n",
    "print('\\n')\n",
    "   \n",
    "print('First Array + Second Array')\n",
    "print(a + b)"
   ]
  },
  {
   "cell_type": "code",
   "execution_count": 65,
   "id": "062e679e",
   "metadata": {},
   "outputs": [
    {
     "name": "stdout",
     "output_type": "stream",
     "text": [
      "First array:\n",
      "[[ 0  0  0]\n",
      " [10 10 10]\n",
      " [20 20 20]\n",
      " [30 30 30]]\n",
      "\n",
      "\n",
      "Second array:\n",
      "[2 3 4]\n",
      "\n",
      "\n",
      "First Array + Second Array\n",
      "[[ 2  3  4]\n",
      " [12 13 14]\n",
      " [22 23 24]\n",
      " [32 33 34]]\n"
     ]
    }
   ],
   "source": [
    "a = np.array([[0,0,0],[10,10,10],[20,20,20],[30,30,30]]) \n",
    "b = np.array([2,3,4])\n",
    "print('First array:')\n",
    "print(a)\n",
    "print('\\n')\n",
    "   \n",
    "print('Second array:')\n",
    "print(b)\n",
    "print('\\n')\n",
    "   \n",
    "print('First Array + Second Array')\n",
    "print(a + b)"
   ]
  },
  {
   "cell_type": "code",
   "execution_count": 66,
   "id": "00072ff4",
   "metadata": {},
   "outputs": [
    {
     "name": "stdout",
     "output_type": "stream",
     "text": [
      "ValueError: operands could not be broadcast together with shapes (4,) (3,)\n"
     ]
    }
   ],
   "source": [
    "try:\n",
    "    a = np.array([0.0, 10.0, 20.0, 30.0])\n",
    "    b = np.array([1.0, 2.0, 3.0])\n",
    "    print(a + b)\n",
    "except:\n",
    "    print(\"ValueError: operands could not be broadcast together with shapes (4,) (3,)\")"
   ]
  },
  {
   "cell_type": "code",
   "execution_count": 67,
   "id": "d5ed7463",
   "metadata": {},
   "outputs": [
    {
     "data": {
      "text/plain": [
       "array([[ 1.,  2.,  3.],\n",
       "       [11., 12., 13.],\n",
       "       [21., 22., 23.],\n",
       "       [31., 32., 33.]])"
      ]
     },
     "execution_count": 67,
     "metadata": {},
     "output_type": "execute_result"
    }
   ],
   "source": [
    "a = np.array([0.0, 10.0, 20.0, 30.0])\n",
    "b = np.array([1.0, 2.0, 3.0])\n",
    "a[:, np.newaxis] + b"
   ]
  },
  {
   "cell_type": "markdown",
   "id": "4b8f6404",
   "metadata": {},
   "source": [
    "[<p style=\"text-align:right\">[Back to top]</p>](#NumPy)"
   ]
  },
  {
   "cell_type": "markdown",
   "id": "2ca20225",
   "metadata": {},
   "source": [
    "### NumPy - Iterating Over Array\n",
    "NumPy package contains an iterator object numpy.nditer. It is an efficient multidimensional iterator object using which it is possible to iterate over an array."
   ]
  },
  {
   "cell_type": "code",
   "execution_count": 68,
   "id": "5f06c7d6",
   "metadata": {},
   "outputs": [
    {
     "name": "stdout",
     "output_type": "stream",
     "text": [
      "Original array is:\n",
      "[[ 0  5 10 15]\n",
      " [20 25 30 35]\n",
      " [40 45 50 55]]\n",
      "\n",
      "\n",
      "Modified array is:\n",
      "0 5 10 15 20 25 30 35 40 45 50 55 "
     ]
    }
   ],
   "source": [
    "a = np.arange(0,60,5)\n",
    "a = a.reshape(3,4)\n",
    "\n",
    "print('Original array is:')\n",
    "print(a)\n",
    "print('\\n')\n",
    "\n",
    "print('Modified array is:')\n",
    "for x in np.nditer(a):\n",
    "    print(x,end=\" \")"
   ]
  },
  {
   "cell_type": "code",
   "execution_count": 69,
   "id": "f06cc2b1",
   "metadata": {},
   "outputs": [
    {
     "name": "stdout",
     "output_type": "stream",
     "text": [
      "Original array is:\n",
      "[[ 0  5 10 15]\n",
      " [20 25 30 35]\n",
      " [40 45 50 55]]\n",
      "\n",
      "\n",
      "Transpose of the original array is:\n",
      "[[ 0 20 40]\n",
      " [ 5 25 45]\n",
      " [10 30 50]\n",
      " [15 35 55]]\n",
      "\n",
      "\n",
      "Modified array is:\n",
      "0 5 10 15 20 25 30 35 40 45 50 55 "
     ]
    }
   ],
   "source": [
    "a = np.arange(0,60,5) \n",
    "a = a.reshape(3,4) \n",
    "   \n",
    "print('Original array is:')\n",
    "print(a)\n",
    "print('\\n')\n",
    "   \n",
    "print('Transpose of the original array is:')\n",
    "b = a.T \n",
    "print(b)\n",
    "print('\\n')\n",
    "   \n",
    "print('Modified array is:')\n",
    "for x in np.nditer(b):\n",
    "    print(x,end=\" \")"
   ]
  },
  {
   "cell_type": "code",
   "execution_count": 70,
   "id": "e02b83c9",
   "metadata": {},
   "outputs": [
    {
     "name": "stdout",
     "output_type": "stream",
     "text": [
      "Original array is:\n",
      "[[ 0  5 10 15]\n",
      " [20 25 30 35]\n",
      " [40 45 50 55]]\n",
      "\n",
      "\n",
      "Transpose of the original array is:\n",
      "[[ 0 20 40]\n",
      " [ 5 25 45]\n",
      " [10 30 50]\n",
      " [15 35 55]]\n",
      "\n",
      "\n",
      "Sorted in C-style order:\n",
      "[[ 0 20 40]\n",
      " [ 5 25 45]\n",
      " [10 30 50]\n",
      " [15 35 55]]\n",
      "0 20 40 5 25 45 10 30 50 15 35 55 \n",
      "\n",
      "Sorted in F-style order:\n",
      "[[ 0 20 40]\n",
      " [ 5 25 45]\n",
      " [10 30 50]\n",
      " [15 35 55]]\n",
      "0 5 10 15 20 25 30 35 40 45 50 55 "
     ]
    }
   ],
   "source": [
    "a = np.arange(0,60,5)\n",
    "a = a.reshape(3,4)\n",
    "print('Original array is:')\n",
    "print(a)\n",
    "print('\\n')\n",
    "\n",
    "print('Transpose of the original array is:')\n",
    "b = a.T\n",
    "print(b)\n",
    "print('\\n')\n",
    "\n",
    "print('Sorted in C-style order:')\n",
    "c = b.copy(order = 'C')\n",
    "print(c)\n",
    "for x in np.nditer(c):\n",
    "    print(x,end=\" \")\n",
    "\n",
    "print('\\n')\n",
    "\n",
    "print('Sorted in F-style order:')\n",
    "c = b.copy(order = 'F')\n",
    "print(c)\n",
    "for x in np.nditer(c):\n",
    "    print(x,end=\" \")"
   ]
  },
  {
   "cell_type": "code",
   "execution_count": 71,
   "id": "ed2bbd89",
   "metadata": {},
   "outputs": [
    {
     "name": "stdout",
     "output_type": "stream",
     "text": [
      "Original array is:\n",
      "[[ 0  5 10 15]\n",
      " [20 25 30 35]\n",
      " [40 45 50 55]]\n",
      "\n",
      "\n",
      "Sorted in C-style order:\n",
      "0 5 10 15 20 25 30 35 40 45 50 55 \n",
      "\n",
      "Sorted in F-style order:\n",
      "0 20 40 5 25 45 10 30 50 15 35 55 "
     ]
    }
   ],
   "source": [
    "a = np.arange(0,60,5)\n",
    "a = a.reshape(3,4)\n",
    "\n",
    "print('Original array is:')\n",
    "print(a)\n",
    "print('\\n')\n",
    "\n",
    "print('Sorted in C-style order:')\n",
    "for x in np.nditer(a, order = 'C'):\n",
    "    print(x,end=\" \")\n",
    "print('\\n')\n",
    "\n",
    "print('Sorted in F-style order:')\n",
    "for x in np.nditer(a, order = 'F'):\n",
    "    print(x,end=\" \")"
   ]
  },
  {
   "cell_type": "code",
   "execution_count": 72,
   "id": "fbf8c13c",
   "metadata": {},
   "outputs": [
    {
     "name": "stdout",
     "output_type": "stream",
     "text": [
      "Original array is:\n",
      "[[ 0  5 10 15]\n",
      " [20 25 30 35]\n",
      " [40 45 50 55]]\n",
      "\n",
      "\n",
      "Changing values in the array\n",
      "[[ 5  5  5 15]\n",
      " [ 5 25  5 35]\n",
      " [ 5 45  5 55]]\n"
     ]
    }
   ],
   "source": [
    "a = np.arange(0,60,5)\n",
    "a = a.reshape(3,4)\n",
    "\n",
    "print('Original array is:')\n",
    "print(a)\n",
    "print('\\n')\n",
    "\n",
    "print('Changing values in the array')\n",
    "for x in np.nditer(a, op_flags = ['readwrite']):\n",
    "    if x%2==0:\n",
    "        x[...] = 5\n",
    "print(a)"
   ]
  },
  {
   "cell_type": "code",
   "execution_count": 73,
   "id": "7f279ebc",
   "metadata": {},
   "outputs": [
    {
     "name": "stdout",
     "output_type": "stream",
     "text": [
      "Original array is:\n",
      "[[ 0  5 10 15]\n",
      " [20 25 30 35]\n",
      " [40 45 50 55]]\n",
      "\n",
      "\n",
      "Modified array in C-style order is:\n",
      "[ 0  5 10 15 20 25 30 35 40 45 50 55]\n",
      "\n",
      "\n",
      "Modified array in F-style order is:\n",
      "[ 0 20 40]\n",
      "[ 5 25 45]\n",
      "[10 30 50]\n",
      "[15 35 55]\n"
     ]
    }
   ],
   "source": [
    "a = np.arange(0,60,5) \n",
    "a = a.reshape(3,4) \n",
    "\n",
    "print('Original array is:')\n",
    "print(a)\n",
    "print('\\n')\n",
    "\n",
    "print('Modified array in C-style order is:')\n",
    "for x in np.nditer(a, flags = ['external_loop'], order = 'C'):\n",
    "    print(x)\n",
    "print('\\n')\n",
    "\n",
    "print('Modified array in F-style order is:')\n",
    "for x in np.nditer(a, flags = ['external_loop'], order = 'F'):\n",
    "    print(x)"
   ]
  },
  {
   "cell_type": "code",
   "execution_count": 74,
   "id": "75575df1",
   "metadata": {},
   "outputs": [
    {
     "name": "stdout",
     "output_type": "stream",
     "text": [
      "First array is:\n",
      "[[ 0  5 10 15]\n",
      " [20 25 30 35]\n",
      " [40 45 50 55]]\n",
      "\n",
      "\n",
      "Second array is:\n",
      "[1 2 3 4]\n",
      "\n",
      "\n",
      "Modified array is:\n",
      "0:1 5:2 10:3 15:4 20:1 25:2 30:3 35:4 40:1 45:2 50:3 55:4 "
     ]
    }
   ],
   "source": [
    "a = np.arange(0,60,5) \n",
    "a = a.reshape(3,4) \n",
    "\n",
    "print('First array is:')\n",
    "print(a)\n",
    "print('\\n') \n",
    "\n",
    "print('Second array is:') \n",
    "b = np.array([1, 2, 3, 4], dtype = int) \n",
    "print(b)  \n",
    "print('\\n') \n",
    "\n",
    "print('Modified array is:') \n",
    "for x,y in np.nditer([a,b]): \n",
    "    print(\"%d:%d\" % (x,y), end=' ')"
   ]
  },
  {
   "cell_type": "markdown",
   "id": "8363395d",
   "metadata": {},
   "source": [
    "[<p style=\"text-align:right\">[Back to top]</p>](#NumPy)"
   ]
  },
  {
   "cell_type": "markdown",
   "id": "923f869b",
   "metadata": {},
   "source": [
    "### NumPy - Array Manipulation(Splitting Arrays)\n",
    "* [numpy.split](#numpy.split)<br>\n",
    "* [numpy.array_split](#numpy.array_split)<br>\n",
    "* [numpy.dsplit](#numpy.dsplit)<br>\n",
    "* [numpy.hsplit](#numpy.hsplit)<br>\n",
    "* [numpy.vsplit](#numpy.vsplit)<br>"
   ]
  },
  {
   "cell_type": "markdown",
   "id": "ec615001",
   "metadata": {},
   "source": [
    "#### numpy.split\n",
    "Split an array into multiple sub-arrays of equal size as views into ary.\n",
    "<p style=\"background-color:yellow\">SYNTAX - numpy.split(ary, indices_or_sections, axis=0)</p>"
   ]
  },
  {
   "cell_type": "code",
   "execution_count": 75,
   "id": "2a854e55",
   "metadata": {},
   "outputs": [
    {
     "name": "stdout",
     "output_type": "stream",
     "text": [
      "original array is: \n",
      "[0. 1. 2. 3. 4. 5. 6. 7. 8.]\n",
      "\n",
      "\n",
      "using split operation\n",
      "new array is: \n",
      "[array([0., 1., 2.]), array([3., 4., 5.]), array([6., 7., 8.])]\n"
     ]
    }
   ],
   "source": [
    "x = np.arange(9.0)\n",
    "print(\"original array is: \")\n",
    "print(x)\n",
    "print('\\n')\n",
    "\n",
    "print(\"using split operation\")\n",
    "print(\"new array is: \")\n",
    "y=np.split(x, 3)\n",
    "print(y)"
   ]
  },
  {
   "cell_type": "code",
   "execution_count": 76,
   "id": "03ee8261",
   "metadata": {},
   "outputs": [
    {
     "name": "stdout",
     "output_type": "stream",
     "text": [
      "ValueError: array split does not result in an equal division\n"
     ]
    }
   ],
   "source": [
    "try:\n",
    "    x = np.arange(9.0)\n",
    "    np.split(x, 4)\n",
    "except:\n",
    "    print(\"ValueError: array split does not result in an equal division\")"
   ]
  },
  {
   "cell_type": "markdown",
   "id": "82015db5",
   "metadata": {},
   "source": [
    "indices_or_sections : int or 1-D array\n",
    "If indices_or_sections is an integer, N, the array will be divided into N equal arrays along axis. If such a split is not possible, an error is raised.<br>\n",
    "If indices_or_sections is a 1-D array of sorted integers, the entries indicate where along axis the array is split. For example, [2, 3] would, for axis=0, result in<br>\n",
    "* ary[:2]<br>\n",
    "* ary[2:3]<br>\n",
    "* ary[3:]<br>\n",
    "\n",
    "If an index exceeds the dimension of the array along axis, an empty sub-array is returned correspondingly."
   ]
  },
  {
   "cell_type": "code",
   "execution_count": 77,
   "id": "265f5dda",
   "metadata": {},
   "outputs": [
    {
     "name": "stdout",
     "output_type": "stream",
     "text": [
      "original array is: \n",
      "[0 1 2 3 4 5 6 7]\n",
      "\n",
      "\n",
      "using split operation\n",
      "new array is: \n",
      "[array([0, 1, 2]), array([3, 4, 5, 6]), array([7]), array([], dtype=int32)]\n"
     ]
    }
   ],
   "source": [
    "x = np.arange(8)\n",
    "print(\"original array is: \")\n",
    "print(x)\n",
    "print('\\n')\n",
    "\n",
    "print(\"using split operation\")\n",
    "print(\"new array is: \")\n",
    "y = np.split(x, [3, 7, 10])\n",
    "print(y)"
   ]
  },
  {
   "cell_type": "markdown",
   "id": "0e5964ab",
   "metadata": {},
   "source": [
    "#### numpy.array_split\n",
    "Split an array into multiple sub-arrays of equal or near-equal size. Does not raise an exception if an equal division cannot be made.\n",
    "<p style=\"background-color:yellow\">SYNTAX - numpy.array_split(ary, indices_or_sections, axis=0)</p>"
   ]
  },
  {
   "cell_type": "code",
   "execution_count": 78,
   "id": "ad969c21",
   "metadata": {},
   "outputs": [
    {
     "name": "stdout",
     "output_type": "stream",
     "text": [
      "original array is: \n",
      "[0. 1. 2. 3. 4. 5. 6. 7. 8.]\n",
      "\n",
      "\n",
      "using array_split operation for equal size\n",
      "new array is: \n",
      "[array([0., 1., 2.]), array([3., 4., 5.]), array([6., 7., 8.])]\n",
      "\n",
      "\n",
      "using array_split operation for non equal size\n",
      "new array is: \n",
      "[array([0., 1., 2.]), array([3., 4.]), array([5., 6.]), array([7., 8.])]\n"
     ]
    }
   ],
   "source": [
    "x = np.arange(9.0)\n",
    "print(\"original array is: \")\n",
    "print(x)\n",
    "print('\\n')\n",
    "\n",
    "print(\"using array_split operation for equal size\")\n",
    "print(\"new array is: \")\n",
    "y=np.array_split(x, 3)\n",
    "print(y)\n",
    "print('\\n')\n",
    "\n",
    "print(\"using array_split operation for non equal size\")\n",
    "print(\"new array is: \")\n",
    "z=np.array_split(x, 4)\n",
    "print(z)"
   ]
  },
  {
   "cell_type": "markdown",
   "id": "f0640ebf",
   "metadata": {},
   "source": [
    "#### numpy.dsplit\n",
    "Split array into multiple sub-arrays along the 3rd axis (depth).\n",
    "<p style=\"background-color:yellow\">SYNTAX - numpy.dsplit(ary, indices_or_sections)</p>"
   ]
  },
  {
   "cell_type": "code",
   "execution_count": 79,
   "id": "6028c617",
   "metadata": {},
   "outputs": [
    {
     "name": "stdout",
     "output_type": "stream",
     "text": [
      "original array is: \n",
      "[[[ 0.  1.  2.  3.]\n",
      "  [ 4.  5.  6.  7.]]\n",
      "\n",
      " [[ 8.  9. 10. 11.]\n",
      "  [12. 13. 14. 15.]]]\n",
      "\n",
      "\n",
      "using dsplit operation\n",
      "new array is: \n",
      "[array([[[ 0.,  1.],\n",
      "        [ 4.,  5.]],\n",
      "\n",
      "       [[ 8.,  9.],\n",
      "        [12., 13.]]]), array([[[ 2.,  3.],\n",
      "        [ 6.,  7.]],\n",
      "\n",
      "       [[10., 11.],\n",
      "        [14., 15.]]])]\n",
      "\n",
      "\n",
      "using dsplit operation with sections\n",
      "new array is: \n",
      "[array([[[ 0.,  1.,  2.],\n",
      "        [ 4.,  5.,  6.]],\n",
      "\n",
      "       [[ 8.,  9., 10.],\n",
      "        [12., 13., 14.]]]), array([[[ 3.],\n",
      "        [ 7.]],\n",
      "\n",
      "       [[11.],\n",
      "        [15.]]]), array([], shape=(2, 2, 0), dtype=float64)]\n"
     ]
    }
   ],
   "source": [
    "x = np.arange(16.0).reshape(2, 2, 4)\n",
    "print(\"original array is: \")\n",
    "print(x)\n",
    "print('\\n')\n",
    "\n",
    "print(\"using dsplit operation\")\n",
    "print(\"new array is: \")\n",
    "y = np.dsplit(x, 2)\n",
    "print(y)\n",
    "print('\\n')\n",
    "\n",
    "print(\"using dsplit operation with sections\")\n",
    "print(\"new array is: \")\n",
    "z = np.dsplit(x, np.array([3, 6]))\n",
    "print(z)"
   ]
  },
  {
   "cell_type": "markdown",
   "id": "62bd8c4a",
   "metadata": {},
   "source": [
    "#### numpy.hsplit\n",
    "Split an array into multiple sub-arrays horizontally (column-wise).\n",
    "<p style=\"background-color:yellow\">SYNTAX - numpy.hsplit(ary, indices_or_sections)</p>"
   ]
  },
  {
   "cell_type": "code",
   "execution_count": 80,
   "id": "f734d705",
   "metadata": {},
   "outputs": [
    {
     "name": "stdout",
     "output_type": "stream",
     "text": [
      "original array is: \n",
      "[[ 0.  1.  2.  3.]\n",
      " [ 4.  5.  6.  7.]\n",
      " [ 8.  9. 10. 11.]\n",
      " [12. 13. 14. 15.]]\n",
      "\n",
      "\n",
      "using hsplit operation\n",
      "new array is: \n",
      "[array([[ 0.,  1.],\n",
      "       [ 4.,  5.],\n",
      "       [ 8.,  9.],\n",
      "       [12., 13.]]), array([[ 2.,  3.],\n",
      "       [ 6.,  7.],\n",
      "       [10., 11.],\n",
      "       [14., 15.]])]\n",
      "\n",
      "\n",
      "using hsplit operation with sections\n",
      "new array is: \n",
      "[array([[ 0.,  1.,  2.],\n",
      "       [ 4.,  5.,  6.],\n",
      "       [ 8.,  9., 10.],\n",
      "       [12., 13., 14.]]), array([[ 3.],\n",
      "       [ 7.],\n",
      "       [11.],\n",
      "       [15.]]), array([], shape=(4, 0), dtype=float64)]\n"
     ]
    }
   ],
   "source": [
    "x = np.arange(16.0).reshape(4, 4)\n",
    "print(\"original array is: \")\n",
    "print(x)\n",
    "print('\\n')\n",
    "\n",
    "print(\"using hsplit operation\")\n",
    "print(\"new array is: \")\n",
    "y = np.hsplit(x, 2)\n",
    "print(y)\n",
    "print('\\n')\n",
    "\n",
    "print(\"using hsplit operation with sections\")\n",
    "print(\"new array is: \")\n",
    "z = np.hsplit(x, np.array([3, 6]))\n",
    "print(z)"
   ]
  },
  {
   "cell_type": "code",
   "execution_count": 81,
   "id": "a7fe3bfc",
   "metadata": {},
   "outputs": [
    {
     "name": "stdout",
     "output_type": "stream",
     "text": [
      "original array is: \n",
      "[[[0. 1.]\n",
      "  [2. 3.]]\n",
      "\n",
      " [[4. 5.]\n",
      "  [6. 7.]]]\n",
      "\n",
      "\n",
      "using hsplit operation\n",
      "new array is: \n",
      "[array([[[0., 1.]],\n",
      "\n",
      "       [[4., 5.]]]), array([[[2., 3.]],\n",
      "\n",
      "       [[6., 7.]]])]\n",
      "\n",
      "\n"
     ]
    }
   ],
   "source": [
    "x = np.arange(8.0).reshape(2, 2, 2)\n",
    "print(\"original array is: \")\n",
    "print(x)\n",
    "print('\\n')\n",
    "\n",
    "print(\"using hsplit operation\")\n",
    "print(\"new array is: \")\n",
    "y = np.hsplit(x, 2)\n",
    "print(y)\n",
    "print('\\n')"
   ]
  },
  {
   "cell_type": "code",
   "execution_count": 82,
   "id": "df7458e6",
   "metadata": {
    "scrolled": true
   },
   "outputs": [
    {
     "name": "stdout",
     "output_type": "stream",
     "text": [
      "original array is: \n",
      "[0 1 2 3 4 5]\n",
      "\n",
      "\n",
      "using hsplit operation\n",
      "new array is: \n",
      "[array([0, 1, 2]), array([3, 4, 5])]\n",
      "\n",
      "\n"
     ]
    }
   ],
   "source": [
    "x = np.array([0, 1, 2, 3, 4, 5])\n",
    "print(\"original array is: \")\n",
    "print(x)\n",
    "print('\\n')\n",
    "\n",
    "print(\"using hsplit operation\")\n",
    "print(\"new array is: \")\n",
    "y = np.hsplit(x, 2)\n",
    "print(y)\n",
    "print('\\n')"
   ]
  },
  {
   "cell_type": "markdown",
   "id": "e31d2060",
   "metadata": {},
   "source": [
    "#### numpy.vsplit\n",
    "Split an array into multiple sub-arrays vertically (row-wise).\n",
    "<p style=\"background-color:yellow\">SYNTAX - numpy.vsplit(ary, indices_or_sections)</p>"
   ]
  },
  {
   "cell_type": "code",
   "execution_count": 83,
   "id": "86236d73",
   "metadata": {},
   "outputs": [
    {
     "name": "stdout",
     "output_type": "stream",
     "text": [
      "original array is: \n",
      "[[ 0.  1.  2.  3.]\n",
      " [ 4.  5.  6.  7.]\n",
      " [ 8.  9. 10. 11.]\n",
      " [12. 13. 14. 15.]]\n",
      "\n",
      "\n",
      "using vsplit operation\n",
      "new array is: \n",
      "[array([[0., 1., 2., 3.],\n",
      "       [4., 5., 6., 7.]]), array([[ 8.,  9., 10., 11.],\n",
      "       [12., 13., 14., 15.]])]\n",
      "\n",
      "\n",
      "using vsplit operation with sections\n",
      "new array is: \n",
      "[array([[ 0.,  1.,  2.,  3.],\n",
      "       [ 4.,  5.,  6.,  7.],\n",
      "       [ 8.,  9., 10., 11.]]), array([[12., 13., 14., 15.]]), array([], shape=(0, 4), dtype=float64)]\n"
     ]
    }
   ],
   "source": [
    "x = np.arange(16.0).reshape(4, 4)\n",
    "print(\"original array is: \")\n",
    "print(x)\n",
    "print('\\n')\n",
    "\n",
    "print(\"using vsplit operation\")\n",
    "print(\"new array is: \")\n",
    "y = np.vsplit(x, 2)\n",
    "print(y)\n",
    "print('\\n')\n",
    "\n",
    "print(\"using vsplit operation with sections\")\n",
    "print(\"new array is: \")\n",
    "z = np.vsplit(x, np.array([3, 6]))\n",
    "print(z)"
   ]
  },
  {
   "cell_type": "code",
   "execution_count": 84,
   "id": "b0c960a6",
   "metadata": {},
   "outputs": [
    {
     "name": "stdout",
     "output_type": "stream",
     "text": [
      "original array is: \n",
      "[[[0. 1.]\n",
      "  [2. 3.]]\n",
      "\n",
      " [[4. 5.]\n",
      "  [6. 7.]]]\n",
      "\n",
      "\n",
      "using vsplit operation\n",
      "new array is: \n",
      "[array([[[0., 1.],\n",
      "        [2., 3.]]]), array([[[4., 5.],\n",
      "        [6., 7.]]])]\n",
      "\n",
      "\n"
     ]
    }
   ],
   "source": [
    "x = np.arange(8.0).reshape(2, 2, 2)\n",
    "print(\"original array is: \")\n",
    "print(x)\n",
    "print('\\n')\n",
    "\n",
    "print(\"using vsplit operation\")\n",
    "print(\"new array is: \")\n",
    "y = np.vsplit(x, 2)\n",
    "print(y)\n",
    "print('\\n')"
   ]
  },
  {
   "cell_type": "markdown",
   "id": "c990dd9c",
   "metadata": {},
   "source": [
    "[<p style=\"text-align:right\">[Back to top]</p>](#NumPy)"
   ]
  },
  {
   "cell_type": "markdown",
   "id": "547ddf12",
   "metadata": {},
   "source": [
    "# NumPy - Array Manipulation(Joining Arrays)\n",
    "* [numpy.concatenate](#numpy.concatenate)<br>\n",
    "* [numpy.stack](#numpy.stack)<br>\n",
    "* [numpy.block](#numpy.block)<br>\n",
    "* [numpy.vstack](#numpy.vstack)<br>\n",
    "* [numpy.hstack](#numpy.hstack)<br>\n",
    "* [numpy.dstack](#numpy.dstack)<br>\n",
    "* [numpy.column_stack](#numpy.column_stack)<br>\n",
    "* [numpy.row_stack](#numpy.row_stack)<br>"
   ]
  },
  {
   "cell_type": "markdown",
   "id": "20f67542",
   "metadata": {},
   "source": [
    "#### numpy.concatenate\n",
    "Join a sequence of arrays along an existing axis.\n",
    "<p style=\"background-color:yellow\">SYNTAX - numpy.concatenate((a1, a2, ...), axis=0, out=None, dtype=None, casting=\"same_kind\")</p>"
   ]
  },
  {
   "cell_type": "code",
   "execution_count": 85,
   "id": "69c432b1",
   "metadata": {},
   "outputs": [
    {
     "name": "stdout",
     "output_type": "stream",
     "text": [
      "original first array is: \n",
      "[[1 2]\n",
      " [3 4]]\n",
      "\n",
      "\n",
      "original second array is: \n",
      "[[5 6]]\n",
      "\n",
      "\n",
      "Concatinating with axis=0: \n",
      "[[1 2]\n",
      " [3 4]\n",
      " [5 6]]\n",
      "\n",
      "\n"
     ]
    }
   ],
   "source": [
    "a = np.array([[1, 2], [3, 4]])\n",
    "b = np.array([[5, 6]])\n",
    "\n",
    "print(\"original first array is: \")\n",
    "print(a)\n",
    "print('\\n')\n",
    "print(\"original second array is: \")\n",
    "print(b)\n",
    "print('\\n')\n",
    "\n",
    "print(\"Concatinating with axis=0: \")\n",
    "c = np.concatenate((a, b), axis=0)\n",
    "print(c)\n",
    "print('\\n')"
   ]
  },
  {
   "cell_type": "code",
   "execution_count": 86,
   "id": "ddce1dbb",
   "metadata": {},
   "outputs": [
    {
     "name": "stdout",
     "output_type": "stream",
     "text": [
      "original first array is: \n",
      "[[1 2]\n",
      " [3 4]]\n",
      "\n",
      "\n",
      "original second array is: \n",
      "[[5 6]]\n",
      "\n",
      "\n",
      "Concatinating with axis=1: \n",
      "[[1 2 5]\n",
      " [3 4 6]]\n",
      "\n",
      "\n",
      "Concatinating with axis=None: \n",
      "[1 2 3 4 5 6]\n"
     ]
    }
   ],
   "source": [
    "a = np.array([[1, 2], [3, 4]])\n",
    "b = np.array([[5, 6]])\n",
    "\n",
    "print(\"original first array is: \")\n",
    "print(a)\n",
    "print('\\n')\n",
    "print(\"original second array is: \")\n",
    "print(b)\n",
    "print('\\n')\n",
    "\n",
    "print(\"Concatinating with axis=1: \")\n",
    "c = np.concatenate((a, b.T), axis=1)\n",
    "print(c)\n",
    "print('\\n')\n",
    "\n",
    "print(\"Concatinating with axis=None: \")\n",
    "d = np.concatenate((a, b), axis=None)\n",
    "print(d)"
   ]
  },
  {
   "cell_type": "code",
   "execution_count": 87,
   "id": "53a4eb57",
   "metadata": {},
   "outputs": [
    {
     "name": "stdout",
     "output_type": "stream",
     "text": [
      "original first masked array is: \n",
      "[0 -- 2]\n",
      "\n",
      "\n",
      "original second array is: \n",
      "[2 3 4]\n",
      "\n",
      "\n",
      "Concatinating masked array with array removing mask: \n",
      "[0 1 2 2 3 4]\n",
      "\n",
      "\n",
      "Concatinating masked array with array keeping original mask: \n",
      "[0 -- 2 2 3 4]\n"
     ]
    }
   ],
   "source": [
    "a = np.ma.arange(3)\n",
    "a[1] = np.ma.masked\n",
    "b = np.arange(2, 5)\n",
    "\n",
    "print(\"original first masked array is: \")\n",
    "print(a)\n",
    "print('\\n')\n",
    "print(\"original second array is: \")\n",
    "print(b)\n",
    "print('\\n')\n",
    "\n",
    "print(\"Concatinating masked array with array removing mask: \")\n",
    "c = np.concatenate([a, b])\n",
    "print(c)\n",
    "print('\\n')\n",
    "\n",
    "print(\"Concatinating masked array with array keeping original mask: \")\n",
    "d = np.ma.concatenate([a, b])\n",
    "print(d)"
   ]
  },
  {
   "cell_type": "markdown",
   "id": "83b3f057",
   "metadata": {},
   "source": [
    "#### numpy.stack\n",
    "Join a sequence of arrays along a new axis. The axis parameter specifies the index of the new axis in the dimensions of the result. For example, if axis=0 it will be the first dimension and if axis=-1 it will be the last dimension.\n",
    "<p style=\"background-color:yellow\">SYNTAX - numpy.stack(arrays, axis=0, out=None, *, dtype=None, casting='same_kind')</p>"
   ]
  },
  {
   "cell_type": "code",
   "execution_count": 88,
   "id": "aef4986e",
   "metadata": {},
   "outputs": [
    {
     "name": "stdout",
     "output_type": "stream",
     "text": [
      "original first array is: \n",
      "[1 2 3]\n",
      "\n",
      "\n",
      "original second array is: \n",
      "[4 5 6]\n",
      "\n",
      "\n",
      "Stack: \n",
      "[[1 2 3]\n",
      " [4 5 6]]\n",
      "\n",
      "\n",
      "Stack with axis=-1: \n",
      "[[1 4]\n",
      " [2 5]\n",
      " [3 6]]\n"
     ]
    }
   ],
   "source": [
    "a = np.array([1, 2, 3])\n",
    "b = np.array([4, 5, 6])\n",
    "\n",
    "print(\"original first array is: \")\n",
    "print(a)\n",
    "print('\\n')\n",
    "print(\"original second array is: \")\n",
    "print(b)\n",
    "print('\\n')\n",
    "\n",
    "print(\"Stack: \")\n",
    "c = np.stack((a, b))\n",
    "print(c)\n",
    "print('\\n')\n",
    "\n",
    "print(\"Stack with axis=-1: \")\n",
    "d = np.stack((a, b), axis=-1)\n",
    "print(d)"
   ]
  },
  {
   "cell_type": "code",
   "execution_count": 89,
   "id": "1bd407d6",
   "metadata": {},
   "outputs": [
    {
     "name": "stdout",
     "output_type": "stream",
     "text": [
      "original list of arrays is: \n",
      "[array([[ 1.25498107,  0.10112691,  1.18533385, -1.19612921],\n",
      "       [-1.24059569, -1.54898048,  1.14167266, -1.73047732],\n",
      "       [-1.20450406, -1.35533807,  0.30174896, -0.84814246]]), array([[-0.13680326,  0.46715643,  0.04927272, -0.62286563],\n",
      "       [-0.92598803, -0.179939  ,  0.37851287,  0.08769722],\n",
      "       [ 0.29923616, -0.45634984,  0.80444391, -1.78749117]]), array([[ 0.67223936, -0.48975658, -1.38735367,  1.53752037],\n",
      "       [-0.56408998,  0.86712161, -0.02752491, -0.10403814],\n",
      "       [ 0.04283001, -0.53534689,  0.25270915,  1.64136603]]), array([[-0.20400728,  0.46382205, -0.10719685,  0.80009724],\n",
      "       [-0.37951259,  0.65219234,  0.35017332, -2.53309939],\n",
      "       [ 0.02443087,  1.83709418, -1.70697069, -0.63050387]]), array([[ 0.561071  ,  0.90576587,  0.15369893, -0.83727263],\n",
      "       [ 0.95761219,  1.49344281, -1.6005411 , -0.43061558],\n",
      "       [-0.23706342, -2.3429115 ,  0.56810828,  1.54141484]]), array([[ 0.57697973,  1.15355763, -0.30311531,  0.7070585 ],\n",
      "       [-0.52660335,  0.26048033, -0.32597316, -0.32342346],\n",
      "       [ 2.57894564, -0.49259948, -0.77439362, -0.27192015]]), array([[-0.50227636, -0.45737269, -0.52620325, -1.19820092],\n",
      "       [-1.61278559,  0.30508377, -0.71797231, -0.08710188],\n",
      "       [ 0.27200493, -0.69405102, -0.79687312,  0.45792593]]), array([[ 0.43581336,  0.21968928,  0.76408013,  1.63354085],\n",
      "       [ 0.56041039,  1.71339548,  0.95774867,  0.70255168],\n",
      "       [-0.36322442,  0.33906811,  0.65729397, -0.19086777]]), array([[ 0.15153411, -0.13741544,  0.89277726, -0.74892587],\n",
      "       [-0.82496027,  0.46624746,  2.02833502, -0.77556769],\n",
      "       [ 0.38488406,  1.21222408, -1.12111155, -1.33753136]]), array([[-0.4985839 , -0.43629754, -0.37506825,  0.38312364],\n",
      "       [ 1.80819278,  0.32772137, -1.60988481,  2.26387086],\n",
      "       [ 0.96876466,  3.33013968,  2.31506855, -0.04810956]])]\n",
      "\n",
      "\n",
      "shape of Stack with axis=0: \n",
      "(10, 3, 4)\n",
      "\n",
      "\n",
      "shape of Stack with axis=1: \n",
      "(3, 10, 4)\n",
      "\n",
      "\n",
      "shape of Stack with axis=2: \n",
      "(3, 4, 10)\n"
     ]
    }
   ],
   "source": [
    "arrays = [np.random.randn(3, 4) for _ in range(10)]\n",
    "print(\"original list of arrays is: \")\n",
    "print(arrays)\n",
    "print('\\n')\n",
    "\n",
    "print(\"shape of Stack with axis=0: \")\n",
    "a = np.stack(arrays, axis=0).shape\n",
    "print(a)\n",
    "print('\\n')\n",
    "\n",
    "print(\"shape of Stack with axis=1: \")\n",
    "b = np.stack(arrays, axis=1).shape\n",
    "print(b)\n",
    "print('\\n')\n",
    "\n",
    "print(\"shape of Stack with axis=2: \")\n",
    "c = np.stack(arrays, axis=2).shape\n",
    "print(c)"
   ]
  },
  {
   "cell_type": "markdown",
   "id": "30133345",
   "metadata": {},
   "source": [
    "#### numpy.block\n",
    "Assemble an nd-array from nested lists of blocks.\n",
    "Blocks in the innermost lists are concatenated (see concatenate) along the last dimension (-1), then these are concatenated along the second-last dimension (-2), and so on until the outermost list is reached.\n",
    "Blocks can be of any dimension, but will not be broadcasted using the normal rules. Instead, leading axes of size 1 are inserted, to make block.ndim the same for all blocks. This is primarily useful for working with scalars, and means that code like np.block([v, 1]) is valid, where v.ndim == 1.\n",
    "When the nested list is two levels deep, this allows block matrices to be constructed from their components.\n",
    "<p style=\"background-color:yellow\">SYNTAX - numpy.block(arrays)</p>"
   ]
  },
  {
   "cell_type": "code",
   "execution_count": 90,
   "id": "82ca39ab",
   "metadata": {},
   "outputs": [
    {
     "name": "stdout",
     "output_type": "stream",
     "text": [
      "original first array is: \n",
      "[[2. 0.]\n",
      " [0. 2.]]\n",
      "\n",
      "\n",
      "original second array is: \n",
      "[[3. 0. 0.]\n",
      " [0. 3. 0.]\n",
      " [0. 0. 3.]]\n",
      "\n",
      "\n",
      "Block: \n",
      "[[2. 0. 0. 0. 0.]\n",
      " [0. 2. 0. 0. 0.]\n",
      " [1. 1. 3. 0. 0.]\n",
      " [1. 1. 0. 3. 0.]\n",
      " [1. 1. 0. 0. 3.]]\n",
      "\n",
      "\n"
     ]
    }
   ],
   "source": [
    "a = np.eye(2) * 2\n",
    "b = np.eye(3) * 3\n",
    "\n",
    "print(\"original first array is: \")\n",
    "print(a)\n",
    "print('\\n')\n",
    "print(\"original second array is: \")\n",
    "print(b)\n",
    "print('\\n')\n",
    "\n",
    "print(\"Block: \")\n",
    "c = np.block([[a, np.zeros((2, 3))], [np.ones((3, 2)), b]])\n",
    "print(c)\n",
    "print('\\n')\n",
    "\n",
    "# print(\"Concatinating with axis=None: \")\n",
    "# d = np.concatenate((a, b), axis=None)\n",
    "# print(d)"
   ]
  },
  {
   "cell_type": "code",
   "execution_count": 91,
   "id": "825aff4e",
   "metadata": {},
   "outputs": [
    {
     "name": "stdout",
     "output_type": "stream",
     "text": [
      "TypeError: arrays is a tuple. Only lists can be used to arrange blocks, and np.block does not allow implicit conversion from tuple to ndarray.\n",
      "\n",
      "\n",
      "[ 1  2  3  4  5  6 10]\n"
     ]
    }
   ],
   "source": [
    "a = np.array([1, 2, 3])\n",
    "b = np.array([4, 5, 6])\n",
    "try:\n",
    "    print(np.block((a, b, 10)))\n",
    "except:\n",
    "    print(\"TypeError: arrays is a tuple. Only lists can be used to arrange blocks, and np.block does not allow implicit conversion from tuple to ndarray.\")\n",
    "    print(\"\\n\")\n",
    "print(np.block([a, b, 10]))"
   ]
  },
  {
   "cell_type": "code",
   "execution_count": 92,
   "id": "396e8553",
   "metadata": {},
   "outputs": [
    {
     "name": "stdout",
     "output_type": "stream",
     "text": [
      "original first array is: \n",
      "[[1 1]\n",
      " [1 1]]\n",
      "\n",
      "\n",
      "original second array is: \n",
      "[[2 2]\n",
      " [2 2]]\n",
      "\n",
      "\n",
      "Block equivalent to hstack: \n",
      "[[1 1 2 2]\n",
      " [1 1 2 2]]\n",
      "\n",
      "\n",
      "Block equivalent to vstack: \n",
      "[[1 1]\n",
      " [1 1]\n",
      " [2 2]\n",
      " [2 2]]\n"
     ]
    }
   ],
   "source": [
    "a = np.ones((2, 2), int)\n",
    "b = 2 * a\n",
    "\n",
    "print(\"original first array is: \")\n",
    "print(a)\n",
    "print('\\n')\n",
    "print(\"original second array is: \")\n",
    "print(b)\n",
    "print('\\n')\n",
    "\n",
    "print(\"Block equivalent to hstack: \")\n",
    "c = np.block([a, b])\n",
    "print(c)\n",
    "print('\\n')\n",
    "\n",
    "print(\"Block equivalent to vstack: \")\n",
    "c = np.block([[a], [b]])\n",
    "print(c)"
   ]
  },
  {
   "cell_type": "markdown",
   "id": "9df05fdb",
   "metadata": {},
   "source": [
    "#### numpy.vstack\n",
    "Stack arrays in sequence vertically (row wise).\n",
    "This is equivalent to concatenation along the first axis after 1-D arrays of shape (N,) have been reshaped to (1,N). Rebuilds arrays divided by vsplit.\n",
    "This function makes most sense for arrays with up to 3 dimensions. For instance, for pixel-data with a height (first axis), width (second axis), and r/g/b channels (third axis). The functions concatenate, stack and block provide more general stacking and concatenation operations.\n",
    "np.row_stack is an alias for vstack. They are the same function.\n",
    "<p style=\"background-color:yellow\">SYNTAX - numpy.vstack(tup, *, dtype=None, casting='same_kind')</p>"
   ]
  },
  {
   "cell_type": "code",
   "execution_count": 93,
   "id": "055ca1bd",
   "metadata": {},
   "outputs": [
    {
     "name": "stdout",
     "output_type": "stream",
     "text": [
      "original first array is: \n",
      "[1 2 3]\n",
      "\n",
      "\n",
      "original second array is: \n",
      "[4 5 6]\n",
      "\n",
      "\n",
      "vstack: \n",
      "[[1 2 3]\n",
      " [4 5 6]]\n"
     ]
    }
   ],
   "source": [
    "a = np.array([1, 2, 3])\n",
    "b = np.array([4, 5, 6])\n",
    "\n",
    "print(\"original first array is: \")\n",
    "print(a)\n",
    "print('\\n')\n",
    "print(\"original second array is: \")\n",
    "print(b)\n",
    "print('\\n')\n",
    "\n",
    "print(\"vstack: \")\n",
    "c = np.vstack((a,b))\n",
    "print(c)"
   ]
  },
  {
   "cell_type": "code",
   "execution_count": 94,
   "id": "aea991e9",
   "metadata": {},
   "outputs": [
    {
     "name": "stdout",
     "output_type": "stream",
     "text": [
      "original first array is: \n",
      "[[1]\n",
      " [2]\n",
      " [3]]\n",
      "\n",
      "\n",
      "original second array is: \n",
      "[[4]\n",
      " [5]\n",
      " [6]]\n",
      "\n",
      "\n",
      "vstack: \n",
      "[[1]\n",
      " [2]\n",
      " [3]\n",
      " [4]\n",
      " [5]\n",
      " [6]]\n"
     ]
    }
   ],
   "source": [
    "a = np.array([[1], [2], [3]])\n",
    "b = np.array([[4], [5], [6]])\n",
    "\n",
    "print(\"original first array is: \")\n",
    "print(a)\n",
    "print('\\n')\n",
    "print(\"original second array is: \")\n",
    "print(b)\n",
    "print('\\n')\n",
    "\n",
    "print(\"vstack: \")\n",
    "c = np.vstack((a,b))\n",
    "print(c)"
   ]
  },
  {
   "cell_type": "markdown",
   "id": "eeea4f3e",
   "metadata": {},
   "source": [
    "#### numpy.hstack\n",
    "Stack arrays in sequence horizontally (column wise).\n",
    "This is equivalent to concatenation along the second axis, except for 1-D arrays where it concatenates along the first axis. Rebuilds arrays divided by hsplit.\n",
    "This function makes most sense for arrays with up to 3 dimensions. For instance, for pixel-data with a height (first axis), width (second axis), and r/g/b channels (third axis). The functions concatenate, stack and block provide more general stacking and concatenation operations.\n",
    "<p style=\"background-color:yellow\">SYNTAX - numpy.hstack(tup, *, dtype=None, casting='same_kind')</p>"
   ]
  },
  {
   "cell_type": "code",
   "execution_count": 95,
   "id": "a0500f7e",
   "metadata": {},
   "outputs": [
    {
     "name": "stdout",
     "output_type": "stream",
     "text": [
      "original first array is: \n",
      "[1 2 3]\n",
      "\n",
      "\n",
      "original second array is: \n",
      "[4 5 6]\n",
      "\n",
      "\n",
      "hstack: \n",
      "[1 2 3 4 5 6]\n"
     ]
    }
   ],
   "source": [
    "a = np.array([1, 2, 3])\n",
    "b = np.array([4, 5, 6])\n",
    "\n",
    "print(\"original first array is: \")\n",
    "print(a)\n",
    "print('\\n')\n",
    "print(\"original second array is: \")\n",
    "print(b)\n",
    "print('\\n')\n",
    "\n",
    "print(\"hstack: \")\n",
    "c = np.hstack((a,b))\n",
    "print(c)"
   ]
  },
  {
   "cell_type": "code",
   "execution_count": 96,
   "id": "391189f9",
   "metadata": {
    "scrolled": true
   },
   "outputs": [
    {
     "name": "stdout",
     "output_type": "stream",
     "text": [
      "original first array is: \n",
      "[[1]\n",
      " [2]\n",
      " [3]]\n",
      "\n",
      "\n",
      "original second array is: \n",
      "[[4]\n",
      " [5]\n",
      " [6]]\n",
      "\n",
      "\n",
      "hstack: \n",
      "[[1 4]\n",
      " [2 5]\n",
      " [3 6]]\n"
     ]
    }
   ],
   "source": [
    "a = np.array([[1], [2], [3]])\n",
    "b = np.array([[4], [5], [6]])\n",
    "\n",
    "print(\"original first array is: \")\n",
    "print(a)\n",
    "print('\\n')\n",
    "print(\"original second array is: \")\n",
    "print(b)\n",
    "print('\\n')\n",
    "\n",
    "print(\"hstack: \")\n",
    "c = np.hstack((a,b))\n",
    "print(c)"
   ]
  },
  {
   "cell_type": "markdown",
   "id": "852e0233",
   "metadata": {},
   "source": [
    "#### numpy.dstack\n",
    "Stack arrays in sequence depth wise (along third axis).\n",
    "This is equivalent to concatenation along the third axis after 2-D arrays of shape (M,N) have been reshaped to (M,N,1) and 1-D arrays of shape (N,) have been reshaped to (1,N,1). Rebuilds arrays divided by dsplit.\n",
    "This function makes most sense for arrays with up to 3 dimensions. For instance, for pixel-data with a height (first axis), width (second axis), and r/g/b channels (third axis). The functions concatenate, stack and block provide more general stacking and concatenation operations.\n",
    "<p style=\"background-color:yellow\">SYNTAX - numpy.dstack(tup)</p>"
   ]
  },
  {
   "cell_type": "code",
   "execution_count": 97,
   "id": "d1bbe92d",
   "metadata": {},
   "outputs": [
    {
     "name": "stdout",
     "output_type": "stream",
     "text": [
      "original first array is: \n",
      "[1 2 3 4]\n",
      "\n",
      "\n",
      "original second array is: \n",
      "[5 6 7 8]\n",
      "\n",
      "\n",
      "dstack: \n",
      "[[[1 5]\n",
      "  [2 6]\n",
      "  [3 7]\n",
      "  [4 8]]]\n"
     ]
    }
   ],
   "source": [
    "a = np.array((1,2,3,4))\n",
    "b = np.array((5,6,7,8))\n",
    "\n",
    "print(\"original first array is: \")\n",
    "print(a)\n",
    "print('\\n')\n",
    "print(\"original second array is: \")\n",
    "print(b)\n",
    "print('\\n')\n",
    "\n",
    "print(\"dstack: \")\n",
    "c = np.dstack((a,b))\n",
    "print(c)"
   ]
  },
  {
   "cell_type": "code",
   "execution_count": 98,
   "id": "99d45db3",
   "metadata": {},
   "outputs": [
    {
     "name": "stdout",
     "output_type": "stream",
     "text": [
      "original first array is: \n",
      "[[1]\n",
      " [2]\n",
      " [3]]\n",
      "\n",
      "\n",
      "original second array is: \n",
      "[[2]\n",
      " [3]\n",
      " [4]]\n",
      "\n",
      "\n",
      "dstack: \n",
      "[[[1 2]]\n",
      "\n",
      " [[2 3]]\n",
      "\n",
      " [[3 4]]]\n"
     ]
    }
   ],
   "source": [
    "a = np.array([[1],[2],[3]])\n",
    "b = np.array([[2],[3],[4]])\n",
    "\n",
    "print(\"original first array is: \")\n",
    "print(a)\n",
    "print('\\n')\n",
    "print(\"original second array is: \")\n",
    "print(b)\n",
    "print('\\n')\n",
    "\n",
    "print(\"dstack: \")\n",
    "c = np.dstack((a,b))\n",
    "print(c)"
   ]
  },
  {
   "cell_type": "markdown",
   "id": "eff40527",
   "metadata": {},
   "source": [
    "#### numpy.column_stack\n",
    "Stack 1-D arrays as columns into a 2-D array.\n",
    "Take a sequence of 1-D arrays and stack them as columns to make a single 2-D array. 2-D arrays are stacked as-is, just like with hstack. 1-D arrays are turned into 2-D columns first.\n",
    "<p style=\"background-color:yellow\">SYNTAX - numpy.column_stack(tup)</p>"
   ]
  },
  {
   "cell_type": "code",
   "execution_count": 99,
   "id": "4b7f8867",
   "metadata": {},
   "outputs": [
    {
     "name": "stdout",
     "output_type": "stream",
     "text": [
      "original first array is: \n",
      "[1 2 3 4]\n",
      "\n",
      "\n",
      "original second array is: \n",
      "[5 6 7 8]\n",
      "\n",
      "\n",
      "column_stack: \n",
      "[[1 5]\n",
      " [2 6]\n",
      " [3 7]\n",
      " [4 8]]\n"
     ]
    }
   ],
   "source": [
    "a = np.array((1,2,3,4))\n",
    "b = np.array((5,6,7,8))\n",
    "\n",
    "print(\"original first array is: \")\n",
    "print(a)\n",
    "print('\\n')\n",
    "print(\"original second array is: \")\n",
    "print(b)\n",
    "print('\\n')\n",
    "\n",
    "print(\"column_stack: \")\n",
    "c = np.column_stack((a,b))\n",
    "print(c)"
   ]
  },
  {
   "cell_type": "code",
   "execution_count": 100,
   "id": "108ef255",
   "metadata": {
    "scrolled": true
   },
   "outputs": [
    {
     "name": "stdout",
     "output_type": "stream",
     "text": [
      "original first array is: \n",
      "[[1]\n",
      " [2]\n",
      " [3]]\n",
      "\n",
      "\n",
      "original second array is: \n",
      "[[2]\n",
      " [3]\n",
      " [4]]\n",
      "\n",
      "\n",
      "column_stack: \n",
      "[[1 2]\n",
      " [2 3]\n",
      " [3 4]]\n"
     ]
    }
   ],
   "source": [
    "a = np.array([[1],[2],[3]])\n",
    "b = np.array([[2],[3],[4]])\n",
    "\n",
    "print(\"original first array is: \")\n",
    "print(a)\n",
    "print('\\n')\n",
    "print(\"original second array is: \")\n",
    "print(b)\n",
    "print('\\n')\n",
    "\n",
    "print(\"column_stack: \")\n",
    "c = np.column_stack((a,b))\n",
    "print(c)"
   ]
  },
  {
   "cell_type": "markdown",
   "id": "a37601c5",
   "metadata": {},
   "source": [
    "#### numpy.row_stack\n",
    "Stack arrays in sequence vertically (row wise).\n",
    "This is equivalent to concatenation along the first axis after 1-D arrays of shape (N,) have been reshaped to (1,N). Rebuilds arrays divided by vsplit.\n",
    "This function makes most sense for arrays with up to 3 dimensions. For instance, for pixel-data with a height (first axis), width (second axis), and r/g/b channels (third axis). The functions concatenate, stack and block provide more general stacking and concatenation operations.\n",
    "np.row_stack is an alias for vstack. They are the same function.\n",
    "<p style=\"background-color:yellow\">SYNTAX - numpy.row_stack(tup, *, dtype=None, casting='same_kind')</p>"
   ]
  },
  {
   "cell_type": "code",
   "execution_count": 101,
   "id": "0c400139",
   "metadata": {},
   "outputs": [
    {
     "name": "stdout",
     "output_type": "stream",
     "text": [
      "original first array is: \n",
      "[1 2 3 4]\n",
      "\n",
      "\n",
      "original second array is: \n",
      "[5 6 7 8]\n",
      "\n",
      "\n",
      "row_stack: \n",
      "[[1 2 3 4]\n",
      " [5 6 7 8]]\n"
     ]
    }
   ],
   "source": [
    "a = np.array((1,2,3,4))\n",
    "b = np.array((5,6,7,8))\n",
    "\n",
    "print(\"original first array is: \")\n",
    "print(a)\n",
    "print('\\n')\n",
    "print(\"original second array is: \")\n",
    "print(b)\n",
    "print('\\n')\n",
    "\n",
    "print(\"row_stack: \")\n",
    "c = np.row_stack((a,b))\n",
    "print(c)"
   ]
  },
  {
   "cell_type": "code",
   "execution_count": 102,
   "id": "b626b174",
   "metadata": {},
   "outputs": [
    {
     "name": "stdout",
     "output_type": "stream",
     "text": [
      "original first array is: \n",
      "[[1]\n",
      " [2]\n",
      " [3]]\n",
      "\n",
      "\n",
      "original second array is: \n",
      "[[2]\n",
      " [3]\n",
      " [4]]\n",
      "\n",
      "\n",
      "row_stack: \n",
      "[[1]\n",
      " [2]\n",
      " [3]\n",
      " [2]\n",
      " [3]\n",
      " [4]]\n"
     ]
    }
   ],
   "source": [
    "a = np.array([[1],[2],[3]])\n",
    "b = np.array([[2],[3],[4]])\n",
    "\n",
    "print(\"original first array is: \")\n",
    "print(a)\n",
    "print('\\n')\n",
    "print(\"original second array is: \")\n",
    "print(b)\n",
    "print('\\n')\n",
    "\n",
    "print(\"row_stack: \")\n",
    "c = np.row_stack((a,b))\n",
    "print(c)"
   ]
  },
  {
   "cell_type": "markdown",
   "id": "2d0c1c81",
   "metadata": {},
   "source": [
    "[<p style=\"text-align:right\">[Back to top]</p>](#NumPy)"
   ]
  },
  {
   "cell_type": "markdown",
   "id": "9bf5ff41",
   "metadata": {},
   "source": [
    "### NumPy - Array Manipulation(Adding/Removing Elements)\n",
    "* [numpy.tile](#numpy.tile)<br>\n",
    "* [numpy.repeat](#numpy.repeat)<br>\n",
    "* [numpy.delete](#numpy.delete)<br>\n",
    "* [numpy.insert](#numpy.insert)<br>\n",
    "* [numpy.append](#numpy.append)<br>\n",
    "* [numpy.resize](#numpy.resize)<br>"
   ]
  },
  {
   "cell_type": "markdown",
   "id": "75865f4b",
   "metadata": {},
   "source": [
    "#### numpy.tile\n",
    "Construct an array by repeating A the number of times given by reps.\n",
    "<p style=\"background-color:yellow\">SYNTAX - numpy.tile(A, reps)</p>"
   ]
  },
  {
   "cell_type": "code",
   "execution_count": 103,
   "id": "d2a40595",
   "metadata": {},
   "outputs": [
    {
     "name": "stdout",
     "output_type": "stream",
     "text": [
      "original array is: \n",
      "[0 1 2]\n",
      "\n",
      "\n",
      "using tile operation for creating 1-D array\n",
      "new array is: \n",
      "[0 1 2 0 1 2]\n",
      "\n",
      "\n",
      "using tile operation for creating 2-D array\n",
      "new array is: \n",
      "[[0 1 2 0 1 2]\n",
      " [0 1 2 0 1 2]]\n",
      "\n",
      "\n",
      "using tile operation for creating 3-D array\n",
      "new array is: \n",
      "[[[0 1 2 0 1 2]]\n",
      "\n",
      " [[0 1 2 0 1 2]]]\n"
     ]
    }
   ],
   "source": [
    "a = np.array([0, 1, 2])\n",
    "print(\"original array is: \")\n",
    "print(a)\n",
    "print('\\n')\n",
    "\n",
    "print(\"using tile operation for creating 1-D array\")\n",
    "print(\"new array is: \")\n",
    "b = np.tile(a, 2)\n",
    "print(b)\n",
    "print('\\n')\n",
    "\n",
    "print(\"using tile operation for creating 2-D array\")\n",
    "print(\"new array is: \")\n",
    "c = np.tile(a, (2, 2))\n",
    "print(c)\n",
    "print('\\n')\n",
    "\n",
    "print(\"using tile operation for creating 3-D array\")\n",
    "print(\"new array is: \")\n",
    "d = np.tile(a, (2, 1, 2))\n",
    "print(d)"
   ]
  },
  {
   "cell_type": "code",
   "execution_count": 104,
   "id": "f7048d1f",
   "metadata": {},
   "outputs": [
    {
     "name": "stdout",
     "output_type": "stream",
     "text": [
      "original 2-D array is: \n",
      "[[1 2]\n",
      " [3 4]]\n",
      "\n",
      "\n",
      "using tile operation\n",
      "new array is: \n",
      "[[1 2 1 2]\n",
      " [3 4 3 4]]\n",
      "\n",
      "\n",
      "using tile operation\n",
      "new array is: \n",
      "[[1 2]\n",
      " [3 4]\n",
      " [1 2]\n",
      " [3 4]]\n"
     ]
    }
   ],
   "source": [
    "a = np.array([[1, 2], [3, 4]])\n",
    "print(\"original 2-D array is: \")\n",
    "print(a)\n",
    "print('\\n')\n",
    "\n",
    "print(\"using tile operation\")\n",
    "print(\"new array is: \")\n",
    "b = np.tile(a, 2)\n",
    "print(b)\n",
    "print('\\n')\n",
    "\n",
    "print(\"using tile operation\")\n",
    "print(\"new array is: \")\n",
    "c = np.tile(a, (2, 1))\n",
    "print(c)"
   ]
  },
  {
   "cell_type": "code",
   "execution_count": 105,
   "id": "e5c2340b",
   "metadata": {},
   "outputs": [
    {
     "name": "stdout",
     "output_type": "stream",
     "text": [
      "original array is: \n",
      "[1 2 3 4]\n",
      "\n",
      "\n",
      "using tile operation\n",
      "new array is: \n",
      "[[1 2 3 4]\n",
      " [1 2 3 4]\n",
      " [1 2 3 4]\n",
      " [1 2 3 4]]\n"
     ]
    }
   ],
   "source": [
    "a = np.array([1,2,3,4])\n",
    "print(\"original array is: \")\n",
    "print(a)\n",
    "print('\\n')\n",
    "\n",
    "print(\"using tile operation\")\n",
    "print(\"new array is: \")\n",
    "b = np.tile(a, (4,1))\n",
    "print(b)"
   ]
  },
  {
   "cell_type": "markdown",
   "id": "0e7f8547",
   "metadata": {},
   "source": [
    "#### numpy.repeat\n",
    "Repeat elements of an array.\n",
    "<p style=\"background-color:yellow\">SYNTAX - numpy.repeat(a, repeats, axis=None)</p>"
   ]
  },
  {
   "cell_type": "code",
   "execution_count": 106,
   "id": "7a7afa79",
   "metadata": {},
   "outputs": [
    {
     "name": "stdout",
     "output_type": "stream",
     "text": [
      "repeating one digit multiple times in single array\n",
      "[3 3 3 3 3 3 3 3 3 3 3 3]\n",
      "\n",
      "\n",
      "original 2-D array is: \n",
      "[[1 2]\n",
      " [3 4]]\n",
      "\n",
      "\n",
      "using repeat operation\n",
      "new array with 3 reps is: \n",
      "[1 1 1 2 2 2 3 3 3 4 4 4]\n",
      "\n",
      "\n",
      "using repeat operation\n",
      "new array with 3 reps and axis=1 is: \n",
      "[[1 1 1 2 2 2]\n",
      " [3 3 3 4 4 4]]\n",
      "\n",
      "\n",
      "using repeat operation\n",
      "new array with 3 reps and axis=0 is: \n",
      "[[1 2]\n",
      " [1 2]\n",
      " [1 2]\n",
      " [3 4]\n",
      " [3 4]\n",
      " [3 4]]\n",
      "\n",
      "\n",
      "using repeat operation\n",
      "new array with [2, 4] reps and axis=0 is: \n",
      "[[1 2]\n",
      " [1 2]\n",
      " [3 4]\n",
      " [3 4]\n",
      " [3 4]\n",
      " [3 4]]\n",
      "\n",
      "\n",
      "using repeat operation\n",
      "new array with [2, 4] reps and axis=1 is: \n",
      "[[1 1 2 2 2 2]\n",
      " [3 3 4 4 4 4]]\n"
     ]
    }
   ],
   "source": [
    "print(\"repeating one digit multiple times in single array\")\n",
    "print(np.repeat(3, 12))\n",
    "print('\\n')\n",
    "\n",
    "a = np.array([[1,2],[3,4]])\n",
    "print(\"original 2-D array is: \")\n",
    "print(a)\n",
    "print('\\n')\n",
    "\n",
    "print(\"using repeat operation\")\n",
    "print(\"new array with 3 reps is: \")\n",
    "b = np.repeat(a, 3)\n",
    "print(b)\n",
    "print('\\n')\n",
    "\n",
    "print(\"using repeat operation\")\n",
    "print(\"new array with 3 reps and axis=1 is: \")\n",
    "c = np.repeat(a, 3, axis=1)\n",
    "print(c)\n",
    "print('\\n')\n",
    "\n",
    "print(\"using repeat operation\")\n",
    "print(\"new array with 3 reps and axis=0 is: \")\n",
    "d = np.repeat(a, 3, axis=0)\n",
    "print(d)\n",
    "print('\\n')\n",
    "\n",
    "print(\"using repeat operation\")\n",
    "print(\"new array with [2, 4] reps and axis=0 is: \")\n",
    "e = np.repeat(a, [2, 4], axis=0)\n",
    "print(e)\n",
    "print('\\n')\n",
    "\n",
    "print(\"using repeat operation\")\n",
    "print(\"new array with [2, 4] reps and axis=1 is: \")\n",
    "f = np.repeat(a, [2, 4], axis=1)\n",
    "print(f)"
   ]
  },
  {
   "cell_type": "markdown",
   "id": "393ae81a",
   "metadata": {},
   "source": [
    "#### numpy.delete\n",
    "Return a new array with sub-arrays along an axis deleted. For a one dimensional array, this returns those entries not returned by arr[obj].\n",
    "<p style=\"background-color:yellow\">SYNTAX - numpy.delete(arr, obj, axis=None)</p>"
   ]
  },
  {
   "cell_type": "code",
   "execution_count": 107,
   "id": "0377e4e2",
   "metadata": {},
   "outputs": [
    {
     "name": "stdout",
     "output_type": "stream",
     "text": [
      "original array is: \n",
      "[[ 1  2  3  4]\n",
      " [ 5  6  7  8]\n",
      " [ 9 10 11 12]]\n",
      "\n",
      "\n",
      "using delete operation\n",
      "new array with 2nd element deleted is: \n",
      "[ 1  2  4  5  6  7  8  9 10 11 12]\n",
      "\n",
      "\n",
      "using delete operation\n",
      "new array with 2nd row deleted is: \n",
      "[[1 2 3 4]\n",
      " [5 6 7 8]]\n",
      "\n",
      "\n",
      "using delete operation\n",
      "new array with 3rd column deleted is: \n",
      "[[ 1  2  3]\n",
      " [ 5  6  7]\n",
      " [ 9 10 11]]\n",
      "\n",
      "\n",
      "using delete operation\n",
      "new array with 0th and 2nd row deleted is: \n",
      "[[5 6 7 8]]\n"
     ]
    }
   ],
   "source": [
    "a = np.array([[1,2,3,4], [5,6,7,8], [9,10,11,12]])\n",
    "print(\"original array is: \")\n",
    "print(a)\n",
    "print('\\n')\n",
    "\n",
    "print(\"using delete operation\")\n",
    "print(\"new array with 2nd element deleted is: \")\n",
    "b = np.delete(a, 2)\n",
    "print(b)\n",
    "print('\\n')\n",
    "\n",
    "print(\"using delete operation\")\n",
    "print(\"new array with 2nd row deleted is: \")\n",
    "c = np.delete(a, 2, axis=0)\n",
    "print(c)\n",
    "print('\\n')\n",
    "\n",
    "print(\"using delete operation\")\n",
    "print(\"new array with 3rd column deleted is: \")\n",
    "d = np.delete(a, 3, axis=1)\n",
    "print(d)\n",
    "print('\\n')\n",
    "\n",
    "print(\"using delete operation\")\n",
    "print(\"new array with 0th and 2nd row deleted is: \")\n",
    "e = np.delete(a, [0,2], axis=0)\n",
    "print(e)"
   ]
  },
  {
   "cell_type": "markdown",
   "id": "e28d0e73",
   "metadata": {},
   "source": [
    "#### numpy.insert\n",
    "Insert values along the given axis before the given indices.\n",
    "<p style=\"background-color:yellow\">SYNTAX - numpy.insert(arr, obj, values, axis=None)</p>"
   ]
  },
  {
   "cell_type": "code",
   "execution_count": 108,
   "id": "b51c5386",
   "metadata": {},
   "outputs": [
    {
     "name": "stdout",
     "output_type": "stream",
     "text": [
      "original array is: \n",
      "[[1 2]\n",
      " [1 2]\n",
      " [1 2]]\n",
      "\n",
      "\n",
      "using insert operation\n",
      "new array with value inserted at 1st position is: \n",
      "[1 5 2 1 2 1 2]\n",
      "\n",
      "\n",
      "using insert operation\n",
      "new array with value inserted at 1st column is: \n",
      "[[1 5 2]\n",
      " [1 5 2]\n",
      " [1 5 2]]\n",
      "\n",
      "\n",
      "using insert operation\n",
      "new array with value inserted at 1st row is: \n",
      "[[1 2]\n",
      " [5 5]\n",
      " [1 2]\n",
      " [1 2]]\n"
     ]
    }
   ],
   "source": [
    "a = np.array([[1, 2], [1, 2], [1, 2]])\n",
    "print(\"original array is: \")\n",
    "print(a)\n",
    "print('\\n')\n",
    "\n",
    "print(\"using insert operation\")\n",
    "print(\"new array with value inserted at 1st position is: \")\n",
    "b = np.insert(a, 1, 5)\n",
    "print(b)\n",
    "print('\\n')\n",
    "\n",
    "print(\"using insert operation\")\n",
    "print(\"new array with value inserted at 1st column is: \")\n",
    "c = np.insert(a, 1, 5, axis=1)\n",
    "print(c)\n",
    "print('\\n')\n",
    "\n",
    "print(\"using insert operation\")\n",
    "print(\"new array with value inserted at 1st row is: \")\n",
    "c = np.insert(a, 1, 5, axis=0)\n",
    "print(c)"
   ]
  },
  {
   "cell_type": "code",
   "execution_count": 109,
   "id": "bd052e2f",
   "metadata": {},
   "outputs": [
    {
     "name": "stdout",
     "output_type": "stream",
     "text": [
      "original array is: \n",
      "[[1 2]\n",
      " [1 2]\n",
      " [1 2]]\n",
      "\n",
      "\n",
      "using insert operation\n",
      "new array with different values inserted at 1st column is: \n",
      "[[1 7 2]\n",
      " [1 8 2]\n",
      " [1 9 2]]\n",
      "\n",
      "\n",
      "using insert operation\n",
      "new array with different values inserted 0th and 2nd column is: \n",
      "[[ 23   1   2  30]\n",
      " [  5   1   2  44]\n",
      " [107   1   2  78]]\n"
     ]
    }
   ],
   "source": [
    "a = np.array([[1, 2], [1, 2], [1, 2]])\n",
    "print(\"original array is: \")\n",
    "print(a)\n",
    "print('\\n')\n",
    "\n",
    "print(\"using insert operation\")\n",
    "print(\"new array with different values inserted at 1st column is: \")\n",
    "b = np.insert(a, [1], [[7],[8],[9]], axis=1)\n",
    "print(b)\n",
    "print('\\n')\n",
    "\n",
    "print(\"using insert operation\")\n",
    "print(\"new array with different values inserted 0th and 2nd column is: \")\n",
    "b = np.insert(a, [0,2], [[23,30],[5,44],[107,78]], axis=1)\n",
    "print(b)"
   ]
  },
  {
   "cell_type": "markdown",
   "id": "497ac3ae",
   "metadata": {},
   "source": [
    "#### numpy.append\n",
    "Append values to the end of an array.\n",
    "<p style=\"background-color:yellow\">SYNTAX - numpy.append(arr, values, axis=None)</p>"
   ]
  },
  {
   "cell_type": "code",
   "execution_count": 110,
   "id": "565c01ba",
   "metadata": {},
   "outputs": [
    {
     "data": {
      "text/plain": [
       "array([1, 2, 3, 4, 5, 6])"
      ]
     },
     "execution_count": 110,
     "metadata": {},
     "output_type": "execute_result"
    }
   ],
   "source": [
    "# We can directly create an array from 2 lists with append\n",
    "# first list will be treated as arr, 2nd list will be treated as values\n",
    "\n",
    "l1 = [1,2,3]\n",
    "l2 = [4,5,6]\n",
    "a = np.append(l1,l2)\n",
    "a"
   ]
  },
  {
   "cell_type": "code",
   "execution_count": 111,
   "id": "4dda3a47",
   "metadata": {
    "scrolled": true
   },
   "outputs": [
    {
     "data": {
      "text/plain": [
       "array([[1, 2, 3],\n",
       "       [4, 5, 6],\n",
       "       [7, 8, 9]])"
      ]
     },
     "execution_count": 111,
     "metadata": {},
     "output_type": "execute_result"
    }
   ],
   "source": [
    "np.append([[1, 2, 3], [4, 5, 6]], [[7, 8, 9]], axis=0)"
   ]
  },
  {
   "cell_type": "code",
   "execution_count": 112,
   "id": "506eedf1",
   "metadata": {},
   "outputs": [
    {
     "name": "stdout",
     "output_type": "stream",
     "text": [
      "original array is: \n",
      "[[1 2]\n",
      " [1 2]\n",
      " [1 2]]\n",
      "\n",
      "\n",
      "using append operation\n",
      "new array with values append as row is: \n",
      "[[1 2]\n",
      " [1 2]\n",
      " [1 2]\n",
      " [7 8]]\n",
      "\n",
      "\n",
      "using append operation\n",
      "new array with values append as column is: \n",
      "[[1 2 1]\n",
      " [1 2 5]\n",
      " [1 2 8]]\n"
     ]
    }
   ],
   "source": [
    "a = np.array([[1, 2], [1, 2], [1, 2]])\n",
    "print(\"original array is: \")\n",
    "print(a)\n",
    "print('\\n')\n",
    "\n",
    "print(\"using append operation\")\n",
    "print(\"new array with values append as row is: \")\n",
    "b = np.append(a, [[7,8]], axis=0)\n",
    "print(b)\n",
    "print('\\n')\n",
    "\n",
    "print(\"using append operation\")\n",
    "print(\"new array with values append as column is: \")\n",
    "c = np.append(a, [[1],[5],[8]], axis=1)\n",
    "print(c)"
   ]
  },
  {
   "cell_type": "markdown",
   "id": "f9d4b4ae",
   "metadata": {},
   "source": [
    "#### numpy.resize\n",
    "Return a new array with the specified shape.If the new array is larger than the original array, then the new array is filled with repeated copies of a. Note that this behavior is different from a.resize(new_shape) which fills with zeros instead of repeated copies of a.\n",
    "<p style=\"background-color:yellow\">SYNTAX - numpy.resize(a, new_shape)</p>"
   ]
  },
  {
   "cell_type": "code",
   "execution_count": 113,
   "id": "721c4d79",
   "metadata": {},
   "outputs": [
    {
     "name": "stdout",
     "output_type": "stream",
     "text": [
      "original array is: \n",
      "[[0 1]\n",
      " [2 3]]\n",
      "\n",
      "\n",
      "using resize operation\n",
      "new array resized: \n",
      "[[0 1 2 3 0]]\n",
      "\n",
      "\n",
      "using resize operation\n",
      "new array resized: \n",
      "[[0 1 2 3 0 1 2 3 0 1 2 3 0 1 2]\n",
      " [3 0 1 2 3 0 1 2 3 0 1 2 3 0 1]\n",
      " [2 3 0 1 2 3 0 1 2 3 0 1 2 3 0]]\n"
     ]
    }
   ],
   "source": [
    "a=np.array([[0,1],[2,3]])\n",
    "print(\"original array is: \")\n",
    "print(a)\n",
    "print('\\n')\n",
    "\n",
    "print(\"using resize operation\")\n",
    "print(\"new array resized: \")\n",
    "b = np.resize(a, (1, 5))\n",
    "print(b)\n",
    "print('\\n')\n",
    "\n",
    "print(\"using resize operation\")\n",
    "print(\"new array resized: \")\n",
    "c = np.resize(a, (3, 15))\n",
    "print(c)"
   ]
  },
  {
   "cell_type": "markdown",
   "id": "52e95692",
   "metadata": {},
   "source": [
    "[<p style=\"text-align:right\">[Back to top]</p>](#NumPy)"
   ]
  },
  {
   "cell_type": "markdown",
   "id": "aa7e0a84",
   "metadata": {},
   "source": [
    "### NumPy - String Operations\n",
    "The methods in this module are based on the methods in String\n",
    "* [numpy.char.add](#numpy.char.add)<br>\n",
    "* [numpy.char.multiply](#numpy.char.multiply)<br>\n",
    "* [numpy.char.capitalize](#numpy.char.capitalize)<br>\n",
    "* [numpy.char.center](#numpy.char.center)<br>\n",
    "* [numpy.char.decode](#numpy.char.decode)<br>\n",
    "* [numpy.char.encode](#numpy.char.encode)<br>\n",
    "* [numpy.char.expandtabs](#numpy.char.expandtabs)<br>\n",
    "* [numpy.char.join](#numpy.char.join)<br>\n",
    "* [numpy.char.ljust](#numpy.char.ljust)<br>\n",
    "* [numpy.char.lower](#numpy.char.lower)<br>\n",
    "* [numpy.char.lstrip](#numpy.char.lstrip)<br>\n",
    "* [numpy.char.partition](#numpy.char.partition)<br>\n",
    "* [numpy.char.replace](#numpy.char.replace)<br>\n",
    "* [numpy.char.rjust](#numpy.char.rjust)<br>\n",
    "* [numpy.char.rpartition](#numpy.char.rpartition)<br>\n",
    "* [numpy.char.rsplit](#numpy.char.rsplit)<br>\n",
    "* [numpy.char.rstrip](#numpy.char.rstrip)<br>\n",
    "* [numpy.char.split](#numpy.char.split)<br>\n",
    "* [numpy.char.splitlines](#numpy.char.splitlines)<br>\n",
    "* [numpy.char.strip](#numpy.char.strip)<br>\n",
    "* [numpy.char.swapcase](#numpy.char.swapcase)<br>\n",
    "* [numpy.char.title](#numpy.char.title)<br>\n",
    "* [numpy.char.translate](#numpy.char.translate)<br>\n",
    "* [numpy.char.upper](#numpy.char.upper)<br>\n",
    "* [numpy.char.zfill](#numpy.char.zfill)<br>\n",
    "* [numpy.char.equal](#numpy.char.equal)<br>\n",
    "* [numpy.char.not_equal](#numpy.char.not_equal)<br>\n",
    "* [numpy.char.greater_equal](#numpy.char.greater_equal)<br>\n",
    "* [numpy.char.less_equal](#numpy.char.less_equal)<br>\n",
    "* [numpy.char.greater](#numpy.char.greater)<br>\n",
    "* [numpy.char.less](#numpy.char.less)<br>\n",
    "* [numpy.char.count](#numpy.char.count)<br>\n",
    "* [numpy.char.endswith](#numpy.char.endswith)<br>\n",
    "* [numpy.char.find](#numpy.char.find)<br>\n",
    "* [numpy.char.index](#numpy.char.index)<br>\n",
    "* [numpy.char.isalpha](#numpy.char.isalpha)<br>\n",
    "* [numpy.char.isalnum](#numpy.char.isalnum)<br>\n",
    "* [numpy.char.isdecimal](#numpy.char.isdecimal)<br>\n",
    "* [numpy.char.isdigit](#numpy.char.isdigit)<br>\n",
    "* [numpy.char.islower](#numpy.char.islower)<br>\n",
    "* [numpy.char.isnumeric](#numpy.char.isnumeric)<br>\n",
    "* [numpy.char.isspace](#numpy.char.isspace)<br>\n",
    "* [numpy.char.istitle](#numpy.char.istitle)<br>\n",
    "* [numpy.char.isupper](#numpy.char.isupper)<br>\n",
    "* [numpy.char.rfind](#numpy.char.rfind)<br>\n",
    "* [numpy.char.rindex](#numpy.char.rindex)<br>\n",
    "* [numpy.char.startswith](#numpy.char.startswith)<br>\n",
    "* [numpy.char.str_len](#numpy.char.str_len)<br>\n",
    "* [numpy.char.array](#numpy.char.array)<br>"
   ]
  },
  {
   "cell_type": "markdown",
   "id": "885de068",
   "metadata": {},
   "source": [
    "#### numpy.char.add\n",
    "Return element-wise string concatenation for two arrays of str or unicode.\n",
    "Arrays x1 and x2 must have the same shape.\n",
    "<p style=\"background-color:yellow\">SYNTAX - char.add(x1, x2)</p>"
   ]
  },
  {
   "cell_type": "code",
   "execution_count": 114,
   "id": "763cb11b",
   "metadata": {},
   "outputs": [
    {
     "data": {
      "text/plain": [
       "array(['TomCruise', 'RobertDowney', 'ChristianBale', 'TomHanks'],\n",
       "      dtype='<U15')"
      ]
     },
     "execution_count": 114,
     "metadata": {},
     "output_type": "execute_result"
    }
   ],
   "source": [
    "a = np.array([\"Tom\", \"Robert\", \"Christian\", \"Tom\"])\n",
    "b = np.array([\"Cruise\", \"Downey\", \"Bale\", \"Hanks\"])\n",
    "np.char.add(a,b)"
   ]
  },
  {
   "cell_type": "markdown",
   "id": "eee0a555",
   "metadata": {},
   "source": [
    "#### numpy.char.multiply\n",
    "Return (a * i), that is string multiple concatenation, element-wise.\n",
    "Values in i of less than 0 are treated as 0 (which yields an empty string).\n",
    "<p style=\"background-color:yellow\">SYNTAX - char.multiply(a, i)</p>"
   ]
  },
  {
   "cell_type": "code",
   "execution_count": 115,
   "id": "1309b4ac",
   "metadata": {},
   "outputs": [
    {
     "data": {
      "text/plain": [
       "array(['TomTomTom', 'RobertRobertRobert', 'ChristianChristianChristian',\n",
       "       'TomTomTom'], dtype='<U27')"
      ]
     },
     "execution_count": 115,
     "metadata": {},
     "output_type": "execute_result"
    }
   ],
   "source": [
    "a = np.array([\"Tom\", \"Robert\", \"Christian\", \"Tom\"])\n",
    "np.char.multiply(a, 3)"
   ]
  },
  {
   "cell_type": "markdown",
   "id": "a445adc8",
   "metadata": {},
   "source": [
    "#### numpy.char.capitalize\n",
    "Return a copy of a with only the first character of each element capitalized.\n",
    "<p style=\"background-color:yellow\">SYNTAX - char.capitalize(a)</p>"
   ]
  },
  {
   "cell_type": "code",
   "execution_count": 116,
   "id": "9db306ba",
   "metadata": {},
   "outputs": [
    {
     "data": {
      "text/plain": [
       "array(['Tom cruise', 'Robert downey', 'Christian bale', 'Tom hanks'],\n",
       "      dtype='<U14')"
      ]
     },
     "execution_count": 116,
     "metadata": {},
     "output_type": "execute_result"
    }
   ],
   "source": [
    "a = np.array([\"tom cruise\", \"RoberT DowneY\", \"cHRISTIAN bALE\", \"TOM HANKS\"])\n",
    "np.char.capitalize(a)"
   ]
  },
  {
   "cell_type": "markdown",
   "id": "9b8b52de",
   "metadata": {},
   "source": [
    "[<p style=\"text-align:right\">[Back to Current Topic]</p>](#NumPy---String-Operations)"
   ]
  },
  {
   "cell_type": "markdown",
   "id": "d488312f",
   "metadata": {},
   "source": [
    "#### numpy.char.center\n",
    "Return a copy of a with its elements centered in a string of length width.\n",
    "<p style=\"background-color:yellow\">SYNTAX - char.center(a, width, fillchar=' ')</p>"
   ]
  },
  {
   "cell_type": "code",
   "execution_count": 117,
   "id": "9b76bc78",
   "metadata": {},
   "outputs": [
    {
     "data": {
      "text/plain": [
       "array('        tom cruise       ', dtype='<U25')"
      ]
     },
     "execution_count": 117,
     "metadata": {},
     "output_type": "execute_result"
    }
   ],
   "source": [
    "a = np.array(\"tom cruise\")\n",
    "np.char.center(a, 25, fillchar=' ')"
   ]
  },
  {
   "cell_type": "markdown",
   "id": "a66387cf",
   "metadata": {},
   "source": [
    "#### numpy.char.decode\n",
    "The set of available codecs comes from the Python standard library, and may be extended at runtime.\n",
    "<p style=\"background-color:yellow\">SYNTAX - char.decode(a, encoding=None, errors=None)</p>"
   ]
  },
  {
   "cell_type": "code",
   "execution_count": 118,
   "id": "bb30fa6e",
   "metadata": {},
   "outputs": [
    {
     "data": {
      "text/plain": [
       "array('tom cruise', dtype='<U10')"
      ]
     },
     "execution_count": 118,
     "metadata": {},
     "output_type": "execute_result"
    }
   ],
   "source": [
    "a = np.array(b'tom cruise')\n",
    "np.char.decode(a)"
   ]
  },
  {
   "cell_type": "markdown",
   "id": "4cf7c13d",
   "metadata": {},
   "source": [
    "#### numpy.char.encode\n",
    "The set of available codecs comes from the Python standard library, and may be extended at runtime.\n",
    "<p style=\"background-color:yellow\">SYNTAX - char.encode(a, encoding=None, errors=None)</p>"
   ]
  },
  {
   "cell_type": "code",
   "execution_count": 119,
   "id": "7caf275b",
   "metadata": {},
   "outputs": [
    {
     "data": {
      "text/plain": [
       "array(b'tom cruise', dtype='|S10')"
      ]
     },
     "execution_count": 119,
     "metadata": {},
     "output_type": "execute_result"
    }
   ],
   "source": [
    "a = np.array(\"tom cruise\")\n",
    "np.char.encode(a)"
   ]
  },
  {
   "cell_type": "markdown",
   "id": "758aa9cc",
   "metadata": {},
   "source": [
    "[<p style=\"text-align:right\">[Back to Current Topic]</p>](#NumPy---String-Operations)"
   ]
  },
  {
   "cell_type": "markdown",
   "id": "2f5a5218",
   "metadata": {},
   "source": [
    "#### numpy.char.expandtabs\n",
    "Return a copy of each string element where all tab characters are replaced by one or more spaces.\n",
    "<p style=\"background-color:yellow\">SYNTAX - char.expandtabs(a, tabsize=8)</p>"
   ]
  },
  {
   "cell_type": "code",
   "execution_count": 120,
   "id": "d83f3528",
   "metadata": {},
   "outputs": [
    {
     "name": "stdout",
     "output_type": "stream",
     "text": [
      "Original array is: \n"
     ]
    },
    {
     "data": {
      "text/plain": [
       "array('tom cruise\\tRoberT DowneY\\tcHRISTIAN bALE\\tTOM HANKS', dtype='<U49')"
      ]
     },
     "execution_count": 120,
     "metadata": {},
     "output_type": "execute_result"
    }
   ],
   "source": [
    "a = np.array(\"tom cruise\\tRoberT DowneY\\tcHRISTIAN bALE\\tTOM HANKS\")\n",
    "print(\"Original array is: \")\n",
    "a"
   ]
  },
  {
   "cell_type": "code",
   "execution_count": 121,
   "id": "5742123b",
   "metadata": {},
   "outputs": [
    {
     "name": "stdout",
     "output_type": "stream",
     "text": [
      "Array after expandtabs is: \n"
     ]
    },
    {
     "data": {
      "text/plain": [
       "array('tom cruise      RoberT DowneY   cHRISTIAN bALE  TOM HANKS',\n",
       "      dtype='<U57')"
      ]
     },
     "execution_count": 121,
     "metadata": {},
     "output_type": "execute_result"
    }
   ],
   "source": [
    "print(\"Array after expandtabs is: \")\n",
    "np.char.expandtabs(a)"
   ]
  },
  {
   "cell_type": "markdown",
   "id": "4c3c9665",
   "metadata": {},
   "source": [
    "#### numpy.char.join\n",
    "Return a string which is the concatenation of the strings in the sequence seq.\n",
    "<p style=\"background-color:yellow\">SYNTAX - char.join(sep, seq)</p>"
   ]
  },
  {
   "cell_type": "code",
   "execution_count": 122,
   "id": "a30b1dfa",
   "metadata": {},
   "outputs": [
    {
     "data": {
      "text/plain": [
       "array(['T-o-m', 'R-o-b-e-r-t', 'C-h-r-i-s-t-i-a-n', 'T-o-m'], dtype='<U17')"
      ]
     },
     "execution_count": 122,
     "metadata": {},
     "output_type": "execute_result"
    }
   ],
   "source": [
    "a = np.array([\"Tom\", \"Robert\", \"Christian\", \"Tom\"])\n",
    "np.char.join(\"-\",a)"
   ]
  },
  {
   "cell_type": "markdown",
   "id": "10f04b7c",
   "metadata": {},
   "source": [
    "#### numpy.char.ljust\n",
    "Return an array with the elements of a left-justified in a string of length width.\n",
    "<p style=\"background-color:yellow\">SYNTAX - char.ljust(a, width, fillchar=' ')</p>"
   ]
  },
  {
   "cell_type": "code",
   "execution_count": 123,
   "id": "697ce6ab",
   "metadata": {},
   "outputs": [
    {
     "data": {
      "text/plain": [
       "array(['Tom-------', 'Robert----', 'Christian-', 'Tom-------'],\n",
       "      dtype='<U10')"
      ]
     },
     "execution_count": 123,
     "metadata": {},
     "output_type": "execute_result"
    }
   ],
   "source": [
    "a = np.array([\"Tom\", \"Robert\", \"Christian\", \"Tom\"])\n",
    "np.char.ljust(a, 10, fillchar='-')"
   ]
  },
  {
   "cell_type": "markdown",
   "id": "8d7915c8",
   "metadata": {},
   "source": [
    "[<p style=\"text-align:right\">[Back to Current Topic]</p>](#NumPy---String-Operations)"
   ]
  },
  {
   "cell_type": "markdown",
   "id": "c73790d7",
   "metadata": {},
   "source": [
    "#### numpy.char.lower\n",
    "Return an array with the elements converted to lowercase.\n",
    "<p style=\"background-color:yellow\">SYNTAX - char.lower(a)</p>"
   ]
  },
  {
   "cell_type": "code",
   "execution_count": 124,
   "id": "5cf3fe98",
   "metadata": {},
   "outputs": [
    {
     "data": {
      "text/plain": [
       "array(['tom cruise', 'robert downey', 'christian bale', 'tom hanks'],\n",
       "      dtype='<U14')"
      ]
     },
     "execution_count": 124,
     "metadata": {},
     "output_type": "execute_result"
    }
   ],
   "source": [
    "a = np.array([\"tom cruise\", \"RoberT DowneY\", \"cHRISTIAN bALE\", \"TOM HANKS\"])\n",
    "np.char.lower(a)"
   ]
  },
  {
   "cell_type": "markdown",
   "id": "e16e3bc2",
   "metadata": {},
   "source": [
    "#### numpy.char.lstrip\n",
    "For each element in a, return a copy with the leading characters removed.\n",
    "<p style=\"background-color:yellow\">SYNTAX - char.lstrip(a, chars=None)</p>"
   ]
  },
  {
   "cell_type": "code",
   "execution_count": 125,
   "id": "ef3a148b",
   "metadata": {},
   "outputs": [
    {
     "data": {
      "text/plain": [
       "array(['Tom', 'Robert   ', 'Christian', 'Tom'], dtype='<U9')"
      ]
     },
     "execution_count": 125,
     "metadata": {},
     "output_type": "execute_result"
    }
   ],
   "source": [
    "a = np.array([\"   Tom\", \"Robert   \", \"Christian\", \"Tom\"])\n",
    "np.char.lstrip(a)"
   ]
  },
  {
   "cell_type": "code",
   "execution_count": 126,
   "id": "a14d3218",
   "metadata": {},
   "outputs": [
    {
     "data": {
      "text/plain": [
       "array(['   Tom', 'obert   ', 'Christian', 'om'], dtype='<U9')"
      ]
     },
     "execution_count": 126,
     "metadata": {},
     "output_type": "execute_result"
    }
   ],
   "source": [
    "a = np.array([\"   Tom\", \"Robert   \", \"Christian\", \"Tom\"])\n",
    "np.char.lstrip(a, chars=\"TR\")"
   ]
  },
  {
   "cell_type": "markdown",
   "id": "b6d18d85",
   "metadata": {},
   "source": [
    "#### numpy.char.partition\n",
    "Partition each element in a around sep.\n",
    "<p style=\"background-color:yellow\">SYNTAX - char.partition(a, sep)</p>"
   ]
  },
  {
   "cell_type": "code",
   "execution_count": 127,
   "id": "d5fa8f6b",
   "metadata": {},
   "outputs": [
    {
     "data": {
      "text/plain": [
       "array(['Partition each ', 'el', 'ement in a around sep'], dtype='<U21')"
      ]
     },
     "execution_count": 127,
     "metadata": {},
     "output_type": "execute_result"
    }
   ],
   "source": [
    "a = np.array(\"Partition each element in a around sep\")\n",
    "np.char.partition(a, \"el\")"
   ]
  },
  {
   "cell_type": "markdown",
   "id": "25508c6e",
   "metadata": {},
   "source": [
    "[<p style=\"text-align:right\">[Back to Current Topic]</p>](#NumPy---String-Operations)"
   ]
  },
  {
   "cell_type": "markdown",
   "id": "419cdf2e",
   "metadata": {},
   "source": [
    "#### numpy.char.replace\n",
    "For each element in a, return a copy of the string with all occurrences of substring old replaced by new.\n",
    "<p style=\"background-color:yellow\">SYNTAX - char.replace(a, old, new, count=None)</p>"
   ]
  },
  {
   "cell_type": "code",
   "execution_count": 128,
   "id": "d325f00a",
   "metadata": {},
   "outputs": [
    {
     "data": {
      "text/plain": [
       "array('For 9ach 9l9m9nt in a, r9turn a copy of th9 string with all occurr9nc9s of substring old r9plac9d by n9w',\n",
       "      dtype='<U104')"
      ]
     },
     "execution_count": 128,
     "metadata": {},
     "output_type": "execute_result"
    }
   ],
   "source": [
    "a = np.array(\"For each element in a, return a copy of the string with all occurrences of substring old replaced by new\")\n",
    "np.char.replace(a, \"e\", \"9\")"
   ]
  },
  {
   "cell_type": "markdown",
   "id": "3680c874",
   "metadata": {},
   "source": [
    "#### numpy.char.rjust\n",
    "Return an array with the elements of a right-justified in a string of length width.\n",
    "<p style=\"background-color:yellow\">SYNTAX - char.rjust(a, width, fillchar=' ')</p>"
   ]
  },
  {
   "cell_type": "code",
   "execution_count": 129,
   "id": "025f6812",
   "metadata": {},
   "outputs": [
    {
     "data": {
      "text/plain": [
       "array(['-------Tom', '----Robert', '-Christian', '-------Tom'],\n",
       "      dtype='<U10')"
      ]
     },
     "execution_count": 129,
     "metadata": {},
     "output_type": "execute_result"
    }
   ],
   "source": [
    "a = np.array([\"Tom\", \"Robert\", \"Christian\", \"Tom\"])\n",
    "np.char.rjust(a, 10, fillchar='-')"
   ]
  },
  {
   "cell_type": "markdown",
   "id": "676246ea",
   "metadata": {},
   "source": [
    "#### numpy.char.rpartition\n",
    "Partition (split) each element around the right-most separator.\n",
    "<p style=\"background-color:yellow\">SYNTAX - char.rpartition(a, sep)</p>"
   ]
  },
  {
   "cell_type": "code",
   "execution_count": 130,
   "id": "6e55374e",
   "metadata": {},
   "outputs": [
    {
     "data": {
      "text/plain": [
       "array(['Partition (split) each element around the right-most s', 'e',\n",
       "       'parator'], dtype='<U54')"
      ]
     },
     "execution_count": 130,
     "metadata": {},
     "output_type": "execute_result"
    }
   ],
   "source": [
    "a = np.array(\"Partition (split) each element around the right-most separator\")\n",
    "np.char.rpartition(a, \"e\")"
   ]
  },
  {
   "cell_type": "markdown",
   "id": "56cd672a",
   "metadata": {},
   "source": [
    "[<p style=\"text-align:right\">[Back to Current Topic]</p>](#NumPy---String-Operations)"
   ]
  },
  {
   "cell_type": "markdown",
   "id": "a1af36a7",
   "metadata": {},
   "source": [
    "#### numpy.char.rsplit\n",
    "For each element in a, return a list of the words in the string, using sep as the delimiter string.\n",
    "<p style=\"background-color:yellow\">SYNTAX - char.rsplit(a, sep=None, maxsplit=None)</p>"
   ]
  },
  {
   "cell_type": "code",
   "execution_count": 131,
   "id": "545dc4b1",
   "metadata": {},
   "outputs": [
    {
     "data": {
      "text/plain": [
       "array(list(['For each element in a, return a list of the words in th', ' string, using s', 'p as th', ' d', 'limit', 'r string']),\n",
       "      dtype=object)"
      ]
     },
     "execution_count": 131,
     "metadata": {},
     "output_type": "execute_result"
    }
   ],
   "source": [
    "a = np.array(\"For each element in a, return a list of the words in the string, using sep as the delimiter string\")\n",
    "np.char.rsplit(a, \"e\", 5)"
   ]
  },
  {
   "cell_type": "markdown",
   "id": "61a9464c",
   "metadata": {},
   "source": [
    "#### numpy.char.rstrip\n",
    "For each element in a, return a copy with the trailing characters removed.\n",
    "<p style=\"background-color:yellow\">SYNTAX - char.rstrip(a, chars=None)</p>"
   ]
  },
  {
   "cell_type": "code",
   "execution_count": 132,
   "id": "88ead544",
   "metadata": {},
   "outputs": [
    {
     "data": {
      "text/plain": [
       "array(['   Tom', 'Robert', 'Christian', 'Tom'], dtype='<U9')"
      ]
     },
     "execution_count": 132,
     "metadata": {},
     "output_type": "execute_result"
    }
   ],
   "source": [
    "a = np.array([\"   Tom\", \"Robert   \", \"Christian\", \"Tom\"])\n",
    "np.char.rstrip(a)"
   ]
  },
  {
   "cell_type": "markdown",
   "id": "c4fda8c7",
   "metadata": {},
   "source": [
    "#### numpy.char.split\n",
    "For each element in a, return a list of the words in the string, using sep as the delimiter string.\n",
    "<p style=\"background-color:yellow\">SYNTAX - char.split(a, sep=None, maxsplit=None)</p>"
   ]
  },
  {
   "cell_type": "code",
   "execution_count": 133,
   "id": "3d411529",
   "metadata": {},
   "outputs": [
    {
     "data": {
      "text/plain": [
       "array(list(['For ', 'ach ', 'l', 'm', 'nt in a, r', 'turn a list of the words in the string, using sep as the delimiter string']),\n",
       "      dtype=object)"
      ]
     },
     "execution_count": 133,
     "metadata": {},
     "output_type": "execute_result"
    }
   ],
   "source": [
    "a = np.array(\"For each element in a, return a list of the words in the string, using sep as the delimiter string\")\n",
    "np.char.split(a, \"e\", 5)"
   ]
  },
  {
   "cell_type": "markdown",
   "id": "36d95e3a",
   "metadata": {},
   "source": [
    "[<p style=\"text-align:right\">[Back to Current Topic]</p>](#NumPy---String-Operations)"
   ]
  },
  {
   "cell_type": "markdown",
   "id": "76c14a23",
   "metadata": {},
   "source": [
    "#### numpy.char.splitlines\n",
    "For each element in a, return a list of the lines in the element, breaking at line boundaries.\n",
    "<p style=\"background-color:yellow\">SYNTAX - char.splitlines(a, keepends=None)</p>"
   ]
  },
  {
   "cell_type": "code",
   "execution_count": 134,
   "id": "abff7fc6",
   "metadata": {},
   "outputs": [
    {
     "data": {
      "text/plain": [
       "array(list(['For each element in array.', 'return a list of the lines in the element.', 'breaking at line boundaries.']),\n",
       "      dtype=object)"
      ]
     },
     "execution_count": 134,
     "metadata": {},
     "output_type": "execute_result"
    }
   ],
   "source": [
    "a = np.array(\"For each element in array.\\nreturn a list of the lines in the element.\\nbreaking at line boundaries.\")\n",
    "np.char.splitlines(a)"
   ]
  },
  {
   "cell_type": "markdown",
   "id": "0172c4e4",
   "metadata": {},
   "source": [
    "#### numpy.char.strip\n",
    "For each element in a, return a copy with the leading and trailing characters removed.\n",
    "<p style=\"background-color:yellow\">SYNTAX - char.strip(a, chars=None)</p>"
   ]
  },
  {
   "cell_type": "code",
   "execution_count": 135,
   "id": "8385cb43",
   "metadata": {},
   "outputs": [
    {
     "data": {
      "text/plain": [
       "array(['Tom', 'Robert', 'Christian', 'Tom'], dtype='<U9')"
      ]
     },
     "execution_count": 135,
     "metadata": {},
     "output_type": "execute_result"
    }
   ],
   "source": [
    "a = np.array([\"   Tom\", \"Robert   \", \"Christian\", \"Tom\"])\n",
    "np.char.strip(a)"
   ]
  },
  {
   "cell_type": "markdown",
   "id": "341f8dd1",
   "metadata": {},
   "source": [
    "#### numpy.char.swapcase\n",
    "Return element-wise a copy of the string with uppercase characters converted to lowercase and vice versa.\n",
    "<p style=\"background-color:yellow\">SYNTAX - char.swapcase(a)</p>"
   ]
  },
  {
   "cell_type": "code",
   "execution_count": 136,
   "id": "42f23207",
   "metadata": {},
   "outputs": [
    {
     "data": {
      "text/plain": [
       "array(['TOM CRUISE', 'rOBERt dOWNEy', 'Christian Bale', 'tom hanks'],\n",
       "      dtype='<U14')"
      ]
     },
     "execution_count": 136,
     "metadata": {},
     "output_type": "execute_result"
    }
   ],
   "source": [
    "a = np.array([\"tom cruise\", \"RoberT DowneY\", \"cHRISTIAN bALE\", \"TOM HANKS\"])\n",
    "np.char.swapcase(a)"
   ]
  },
  {
   "cell_type": "markdown",
   "id": "2eab30e2",
   "metadata": {},
   "source": [
    "[<p style=\"text-align:right\">[Back to Current Topic]</p>](#NumPy---String-Operations)"
   ]
  },
  {
   "cell_type": "markdown",
   "id": "26198208",
   "metadata": {},
   "source": [
    "#### numpy.char.title\n",
    "Return element-wise title cased version of string or unicode.\n",
    "Title case words start with uppercase characters, all remaining cased characters are lowercase.\n",
    "<p style=\"background-color:yellow\">SYNTAX - char.title(a)</p>"
   ]
  },
  {
   "cell_type": "code",
   "execution_count": 137,
   "id": "0ade37fb",
   "metadata": {},
   "outputs": [
    {
     "data": {
      "text/plain": [
       "array(['Tom Cruise', 'Robert Downey', 'Christian Bale', 'Tom Hanks'],\n",
       "      dtype='<U14')"
      ]
     },
     "execution_count": 137,
     "metadata": {},
     "output_type": "execute_result"
    }
   ],
   "source": [
    "a = np.array([\"tom cruise\", \"RoberT DowneY\", \"cHRISTIAN bALE\", \"TOM HANKS\"])\n",
    "np.char.title(a)"
   ]
  },
  {
   "cell_type": "markdown",
   "id": "0a8926bd",
   "metadata": {},
   "source": [
    "#### numpy.char.translate\n",
    "For each element in a, return a copy of the string where all characters occurring in the optional argument deletechars are removed, and the remaining characters have been mapped through the given translation table.\n",
    "<p style=\"background-color:yellow\">SYNTAX - char.translate(a, table, deletechars=None)</p>"
   ]
  },
  {
   "cell_type": "code",
   "execution_count": 138,
   "id": "9dcd951e",
   "metadata": {},
   "outputs": [
    {
     "name": "stdout",
     "output_type": "stream",
     "text": [
      "original array is: \n",
      "['That' 'There' 'The']\n",
      "\n",
      "\n",
      "the table is: \n",
      "{84: '#', 104: 'l', 101: 'a', 97: 'o'}\n",
      "\n",
      "\n",
      "after char.translate() function we get: \n",
      "['#lot' '#lara' '#la']\n"
     ]
    }
   ],
   "source": [
    "a = np.array([\"That\", \"There\", \"The\"])\n",
    "print(\"original array is: \")\n",
    "print(a)\n",
    "print('\\n')\n",
    "\n",
    "dictionary = {\"T\": \"#\", \"h\": \"l\", \"e\": \"a\", \"a\": \"o\"}\n",
    "table = str.maketrans(dictionary)\n",
    "print(\"the table is: \")\n",
    "print(table)\n",
    "print('\\n')\n",
    "\n",
    "print(\"after char.translate() function we get: \")\n",
    "print(np.char.translate(a, table, deletechars=None))"
   ]
  },
  {
   "cell_type": "code",
   "execution_count": 139,
   "id": "41125fd8",
   "metadata": {},
   "outputs": [
    {
     "name": "stdout",
     "output_type": "stream",
     "text": [
      "original array is: \n",
      "['Tebjat' 'Dewkjy' 'Jukiea']\n",
      "\n",
      "\n",
      "the table is: \n",
      "{84: 'R', 101: 'o', 107: 'n', 97: 'r', 106: 'e'}\n",
      "\n",
      "\n",
      "after char.translate() function we get: \n",
      "['Robert' 'Downey' 'Junior']\n"
     ]
    }
   ],
   "source": [
    "a = np.array([\"Tebjat\", \"Dewkjy\", \"Jukiea\"])\n",
    "print(\"original array is: \")\n",
    "print(a)\n",
    "print('\\n')\n",
    "\n",
    "dictionary = {\"T\": \"R\", \"e\": \"o\", \"k\": \"n\", \"a\": \"r\", \"j\": \"e\"}\n",
    "table = str.maketrans(dictionary)\n",
    "print(\"the table is: \")\n",
    "print(table)\n",
    "print('\\n')\n",
    "\n",
    "print(\"after char.translate() function we get: \")\n",
    "print(np.char.translate(a, table, deletechars=None))"
   ]
  },
  {
   "cell_type": "markdown",
   "id": "653b0609",
   "metadata": {},
   "source": [
    "[<p style=\"text-align:right\">[Back to Current Topic]</p>](#NumPy---String-Operations)"
   ]
  },
  {
   "cell_type": "markdown",
   "id": "221e94aa",
   "metadata": {},
   "source": [
    "#### numpy.char.upper\n",
    "Return an array with the elements converted to uppercase.\n",
    "<p style=\"background-color:yellow\">SYNTAX - char.upper(a)</p>"
   ]
  },
  {
   "cell_type": "code",
   "execution_count": 140,
   "id": "ba6e246d",
   "metadata": {},
   "outputs": [
    {
     "data": {
      "text/plain": [
       "array(['TOM CRUISE', 'ROBERT DOWNEY', 'CHRISTIAN BALE', 'TOM HANKS'],\n",
       "      dtype='<U14')"
      ]
     },
     "execution_count": 140,
     "metadata": {},
     "output_type": "execute_result"
    }
   ],
   "source": [
    "a = np.array([\"tom cruise\", \"RoberT DowneY\", \"cHRISTIAN bALE\", \"TOM HANKS\"])\n",
    "np.char.upper(a)"
   ]
  },
  {
   "cell_type": "markdown",
   "id": "9f6ee303",
   "metadata": {},
   "source": [
    "#### numpy.char.zfill\n",
    "Return the numeric string left-filled with zeros.\n",
    "<p style=\"background-color:yellow\">SYNTAX - char.zfill(a, width)</p>"
   ]
  },
  {
   "cell_type": "code",
   "execution_count": 141,
   "id": "3d524987",
   "metadata": {},
   "outputs": [
    {
     "name": "stdout",
     "output_type": "stream",
     "text": [
      "['000Tebjat' '000Dewkjy' '000Jukiea']\n"
     ]
    }
   ],
   "source": [
    "a = np.array([\"Tebjat\", \"Dewkjy\", \"Jukiea\"])\n",
    "print(np.char.zfill(a, 9))"
   ]
  },
  {
   "cell_type": "code",
   "execution_count": 142,
   "id": "8613530b",
   "metadata": {},
   "outputs": [
    {
     "name": "stdout",
     "output_type": "stream",
     "text": [
      "['Te' 'De' 'Ju']\n"
     ]
    }
   ],
   "source": [
    "a = np.array([\"Tebjat\", \"Dewkjy\", \"Jukiea\"])\n",
    "print(np.char.zfill(a, 2))"
   ]
  },
  {
   "cell_type": "markdown",
   "id": "b6e501de",
   "metadata": {},
   "source": [
    "#### numpy.char.equal\n",
    "Return (x1 == x2) element-wise.\n",
    "Unlike numpy.equal, this comparison is performed by first stripping whitespace characters from the end of the string. This behavior is provided for backward-compatibility with numarray.\n",
    "<p style=\"background-color:yellow\">SYNTAX - char.equal(x1, x2)</p>"
   ]
  },
  {
   "cell_type": "code",
   "execution_count": 143,
   "id": "180611dc",
   "metadata": {},
   "outputs": [
    {
     "name": "stdout",
     "output_type": "stream",
     "text": [
      "[ True  True  True]\n"
     ]
    }
   ],
   "source": [
    "a = np.array([\"Tebjat\", \"Dewkjy\", \"Jukiea\"])\n",
    "b = np.array([\"Tebjat\", \"Dewkjy\", \"Jukiea     \"])\n",
    "print(np.char.equal(a,b))"
   ]
  },
  {
   "cell_type": "code",
   "execution_count": 144,
   "id": "b8a386bf",
   "metadata": {},
   "outputs": [
    {
     "name": "stdout",
     "output_type": "stream",
     "text": [
      "[ True False  True]\n"
     ]
    }
   ],
   "source": [
    "a = np.array([\"Tebjat\", \"Dewkjy\", \"Jukiea\"])\n",
    "b = np.array([\"Tebjat\", \"    Dewkjy\", \"Jukiea\"])\n",
    "print(np.char.equal(a,b))"
   ]
  },
  {
   "cell_type": "markdown",
   "id": "5d854e02",
   "metadata": {},
   "source": [
    "[<p style=\"text-align:right\">[Back to Current Topic]</p>](#NumPy---String-Operations)"
   ]
  },
  {
   "cell_type": "markdown",
   "id": "fe2543ad",
   "metadata": {},
   "source": [
    "#### numpy.char.not_equal\n",
    "Return (x1 != x2) element-wise.\n",
    "Unlike numpy.not_equal, this comparison is performed by first stripping whitespace characters from the end of the string. This behavior is provided for backward-compatibility with numarray.\n",
    "<p style=\"background-color:yellow\">SYNTAX - char.not_equal(x1, x2)</p>"
   ]
  },
  {
   "cell_type": "code",
   "execution_count": 145,
   "id": "70e9437d",
   "metadata": {},
   "outputs": [
    {
     "name": "stdout",
     "output_type": "stream",
     "text": [
      "[False False False]\n"
     ]
    }
   ],
   "source": [
    "a = np.array([\"Tebjat\", \"Dewkjy\", \"Jukiea\"])\n",
    "b = np.array([\"Tebjat\", \"Dewkjy\", \"Jukiea     \"])\n",
    "print(np.char.not_equal(a,b))"
   ]
  },
  {
   "cell_type": "code",
   "execution_count": 146,
   "id": "2664e70b",
   "metadata": {},
   "outputs": [
    {
     "name": "stdout",
     "output_type": "stream",
     "text": [
      "[False  True False]\n"
     ]
    }
   ],
   "source": [
    "a = np.array([\"Tebjat\", \"Dewkjy\", \"Jukiea\"])\n",
    "b = np.array([\"Tebjat\", \"    Dewkjy\", \"Jukiea\"])\n",
    "print(np.char.not_equal(a,b))"
   ]
  },
  {
   "cell_type": "markdown",
   "id": "bfe537fe",
   "metadata": {},
   "source": [
    "#### numpy.char.greater_equal\n",
    "Return (x1 >= x2) element-wise.\n",
    "Unlike numpy.greater_equal, this comparison is performed by first stripping whitespace characters from the end of the string. This behavior is provided for backward-compatibility with numarray.\n",
    "<p style=\"background-color:yellow\">SYNTAX - char.greater_equal(x1, x2)</p>"
   ]
  },
  {
   "cell_type": "code",
   "execution_count": 147,
   "id": "bc96f268",
   "metadata": {},
   "outputs": [
    {
     "name": "stdout",
     "output_type": "stream",
     "text": [
      "[False  True False  True]\n"
     ]
    }
   ],
   "source": [
    "a = np.array([\"bigger\", \"small\", \"bigger\", \"equal\"])\n",
    "b = np.array([\"small\", \"bigger\", \"smallest\", \"equal\"])\n",
    "print(np.char.greater_equal(a,b))"
   ]
  },
  {
   "cell_type": "markdown",
   "id": "04c13486",
   "metadata": {},
   "source": [
    "#### numpy.char.less_equal\n",
    "Return (x1 <= x2) element-wise.\n",
    "Unlike numpy.less_equal, this comparison is performed by first stripping whitespace characters from the end of the string. This behavior is provided for backward-compatibility with numarray.\n",
    "<p style=\"background-color:yellow\">SYNTAX - char.less_equal(x1, x2)</p>"
   ]
  },
  {
   "cell_type": "code",
   "execution_count": 148,
   "id": "0918038b",
   "metadata": {},
   "outputs": [
    {
     "name": "stdout",
     "output_type": "stream",
     "text": [
      "[ True False  True  True]\n"
     ]
    }
   ],
   "source": [
    "a = np.array([\"bigger\", \"small\", \"bigger\", \"equal\"])\n",
    "b = np.array([\"small\", \"bigger\", \"smallest\", \"equal\"])\n",
    "print(np.char.less_equal(a,b))"
   ]
  },
  {
   "cell_type": "markdown",
   "id": "fbf64595",
   "metadata": {},
   "source": [
    "[<p style=\"text-align:right\">[Back to Current Topic]</p>](#NumPy---String-Operations)"
   ]
  },
  {
   "cell_type": "markdown",
   "id": "fc67a753",
   "metadata": {},
   "source": [
    "#### numpy.char.greater\n",
    "Return (x1 > x2) element-wise.\n",
    "Unlike numpy.greater, this comparison is performed by first stripping whitespace characters from the end of the string. This behavior is provided for backward-compatibility with numarray.\n",
    "<p style=\"background-color:yellow\">SYNTAX - char.greater(x1, x2)</p>"
   ]
  },
  {
   "cell_type": "code",
   "execution_count": 149,
   "id": "47112ac5",
   "metadata": {},
   "outputs": [
    {
     "name": "stdout",
     "output_type": "stream",
     "text": [
      "[False  True False False]\n"
     ]
    }
   ],
   "source": [
    "a = np.array([\"bigger\", \"small\", \"bigger\", \"equal\"])\n",
    "b = np.array([\"small\", \"bigger\", \"smallest\", \"equal\"])\n",
    "print(np.char.greater(a,b))"
   ]
  },
  {
   "cell_type": "markdown",
   "id": "3f44b4c2",
   "metadata": {},
   "source": [
    "#### numpy.char.less\n",
    "Return (x1 < x2) element-wise.\n",
    "Unlike numpy.less, this comparison is performed by first stripping whitespace characters from the end of the string. This behavior is provided for backward-compatibility with numarray.\n",
    "<p style=\"background-color:yellow\">SYNTAX - char.less(x1, x2)</p>"
   ]
  },
  {
   "cell_type": "code",
   "execution_count": 150,
   "id": "bcf3ec1e",
   "metadata": {},
   "outputs": [
    {
     "name": "stdout",
     "output_type": "stream",
     "text": [
      "[ True False  True False]\n"
     ]
    }
   ],
   "source": [
    "a = np.array([\"bigger\", \"small\", \"bigger\", \"equal\"])\n",
    "b = np.array([\"small\", \"bigger\", \"smallest\", \"equal\"])\n",
    "print(np.char.less(a,b))"
   ]
  },
  {
   "cell_type": "markdown",
   "id": "4dbb8de9",
   "metadata": {},
   "source": [
    "#### numpy.char.count\n",
    "Returns an array with the number of non-overlapping occurrences of substring sub in the range [start, end].\n",
    "<p style=\"background-color:yellow\">SYNTAX - char.count(a, sub, start=0, end=None)</p>"
   ]
  },
  {
   "cell_type": "code",
   "execution_count": 151,
   "id": "31f3c788",
   "metadata": {},
   "outputs": [
    {
     "data": {
      "text/plain": [
       "array([1, 0, 0, 0])"
      ]
     },
     "execution_count": 151,
     "metadata": {},
     "output_type": "execute_result"
    }
   ],
   "source": [
    "a = np.array([\"tom cruise\", \"RoberT DowneY\", \"cHRISTIAN bALE\", \"TOM HANKS\"])\n",
    "np.char.count(a, \"tom\")"
   ]
  },
  {
   "cell_type": "markdown",
   "id": "941d0c3c",
   "metadata": {},
   "source": [
    "[<p style=\"text-align:right\">[Back to Current Topic]</p>](#NumPy---String-Operations)"
   ]
  },
  {
   "cell_type": "markdown",
   "id": "0752972d",
   "metadata": {},
   "source": [
    "#### numpy.char.endswith\n",
    "Returns a boolean array which is True where the string element in a ends with suffix, otherwise False.\n",
    "<p style=\"background-color:yellow\">SYNTAX - char.endswith(a, suffix, start=0, end=None)</p>"
   ]
  },
  {
   "cell_type": "code",
   "execution_count": 152,
   "id": "d62ead7d",
   "metadata": {},
   "outputs": [
    {
     "data": {
      "text/plain": [
       "array([ True, False, False, False])"
      ]
     },
     "execution_count": 152,
     "metadata": {},
     "output_type": "execute_result"
    }
   ],
   "source": [
    "a = np.array([\"tom cruise\", \"RoberT DowneY\", \"cHRISTIAN bALE\", \"TOM HANKS\"])\n",
    "np.char.endswith(a, \"e\")"
   ]
  },
  {
   "cell_type": "markdown",
   "id": "86820102",
   "metadata": {},
   "source": [
    "#### numpy.char.find\n",
    "For each element, return the lowest index in the string where substring sub is found.\n",
    "<p style=\"background-color:yellow\">SYNTAX - char.find(a, sub, start=0, end=None)</p>"
   ]
  },
  {
   "cell_type": "code",
   "execution_count": 153,
   "id": "834b9bff",
   "metadata": {},
   "outputs": [
    {
     "data": {
      "text/plain": [
       "array([ 9,  3, -1, -1])"
      ]
     },
     "execution_count": 153,
     "metadata": {},
     "output_type": "execute_result"
    }
   ],
   "source": [
    "a = np.array([\"tom cruise\", \"RoberT DowneY\", \"cHRISTIAN bALE\", \"TOM HANKS\"])\n",
    "np.char.find(a, \"e\")"
   ]
  },
  {
   "cell_type": "markdown",
   "id": "6ec3c09c",
   "metadata": {},
   "source": [
    "#### numpy.char.index\n",
    "Like find, but raises ValueError when the substring is not found.\n",
    "<p style=\"background-color:yellow\">SYNTAX - char.index(a, sub, start=0, end=None)</p>"
   ]
  },
  {
   "cell_type": "code",
   "execution_count": 154,
   "id": "1a4fd530",
   "metadata": {},
   "outputs": [
    {
     "name": "stdout",
     "output_type": "stream",
     "text": [
      "2\n",
      "ValueError: substring not found\n"
     ]
    }
   ],
   "source": [
    "a = np.array(\"Mission Impossible\")\n",
    "print(np.char.index(a, \"ss\"))\n",
    "try:\n",
    "    print(np.char.index(a, \"tom\"))\n",
    "except:\n",
    "    print(\"ValueError: substring not found\")"
   ]
  },
  {
   "cell_type": "markdown",
   "id": "947ba4bd",
   "metadata": {},
   "source": [
    "[<p style=\"text-align:right\">[Back to Current Topic]</p>](#NumPy---String-Operations)"
   ]
  },
  {
   "cell_type": "markdown",
   "id": "30c09061",
   "metadata": {},
   "source": [
    "#### numpy.char.isalpha\n",
    "Returns true for each element if all characters in the string are alphabetic and there is at least one character, false otherwise.\n",
    "<p style=\"background-color:yellow\">SYNTAX - char.isalpha(a)</p>"
   ]
  },
  {
   "cell_type": "code",
   "execution_count": 155,
   "id": "75175df1",
   "metadata": {},
   "outputs": [
    {
     "name": "stdout",
     "output_type": "stream",
     "text": [
      "True\n",
      "False\n"
     ]
    }
   ],
   "source": [
    "a = np.array(\"MissionImpossible\")\n",
    "print(np.char.isalpha(a))\n",
    "b = np.array(\"Mission Impossible\")\n",
    "print(np.char.isalpha(b))"
   ]
  },
  {
   "cell_type": "markdown",
   "id": "586cb22c",
   "metadata": {},
   "source": [
    "#### numpy.char.isalnum\n",
    "Returns true for each element if all characters in the string are alphanumeric and there is at least one character, false otherwise.\n",
    "<p style=\"background-color:yellow\">SYNTAX - char.isalnum(a)</p>"
   ]
  },
  {
   "cell_type": "code",
   "execution_count": 156,
   "id": "932a1d44",
   "metadata": {},
   "outputs": [
    {
     "name": "stdout",
     "output_type": "stream",
     "text": [
      "False\n",
      "True\n"
     ]
    }
   ],
   "source": [
    "a = np.array(\"MissionImpossible-3\")\n",
    "print(np.char.isalnum(a))\n",
    "b = np.array(\"MissionImpossible\")\n",
    "print(np.char.isalnum(b))"
   ]
  },
  {
   "cell_type": "markdown",
   "id": "f5f0da1b",
   "metadata": {},
   "source": [
    "#### numpy.char.isdecimal\n",
    "For each element, return True if there are only decimal characters in the element.\n",
    "<p style=\"background-color:yellow\">SYNTAX - char.isdecimal(a)</p>"
   ]
  },
  {
   "cell_type": "code",
   "execution_count": 157,
   "id": "0e8dda5f",
   "metadata": {},
   "outputs": [
    {
     "name": "stdout",
     "output_type": "stream",
     "text": [
      "True\n",
      "False\n",
      "False\n"
     ]
    }
   ],
   "source": [
    "a = np.array(\"3\")\n",
    "print(np.char.isdecimal(a))\n",
    "b = np.array(\"⅓\")\n",
    "print(np.char.isdecimal(b))\n",
    "c = np.array(\"\\u00b2\")\n",
    "print(np.char.isdecimal(c))"
   ]
  },
  {
   "cell_type": "markdown",
   "id": "cf64dee1",
   "metadata": {},
   "source": [
    "[<p style=\"text-align:right\">[Back to Current Topic]</p>](#NumPy---String-Operations)"
   ]
  },
  {
   "cell_type": "markdown",
   "id": "0f1de0b1",
   "metadata": {},
   "source": [
    "#### numpy.char.isdigit\n",
    "Returns true for each element if all characters in the string are digits and there is at least one character, false otherwise.\n",
    "<p style=\"background-color:yellow\">SYNTAX - char.isdigit(a)</p>"
   ]
  },
  {
   "cell_type": "code",
   "execution_count": 158,
   "id": "b114c78d",
   "metadata": {},
   "outputs": [
    {
     "name": "stdout",
     "output_type": "stream",
     "text": [
      "True\n",
      "False\n",
      "True\n"
     ]
    }
   ],
   "source": [
    "a = np.array(\"3\")\n",
    "print(np.char.isdigit(a))\n",
    "b = np.array(\"⅓\")\n",
    "print(np.char.isdigit(b))\n",
    "c = np.array(\"\\u00b2\")\n",
    "print(np.char.isdigit(c))"
   ]
  },
  {
   "cell_type": "markdown",
   "id": "b1a2d25b",
   "metadata": {},
   "source": [
    "#### numpy.char.islower\n",
    "Returns true for each element if all cased characters in the string are lowercase and there is at least one cased character, false otherwise.\n",
    "<p style=\"background-color:yellow\">SYNTAX - char.islower(a)</p>"
   ]
  },
  {
   "cell_type": "code",
   "execution_count": 159,
   "id": "93f2c31f",
   "metadata": {},
   "outputs": [
    {
     "name": "stdout",
     "output_type": "stream",
     "text": [
      "False\n",
      "True\n"
     ]
    }
   ],
   "source": [
    "a = np.array(\"MissionImpossible\")\n",
    "print(np.char.islower(a))\n",
    "b = np.array(\"mission impossible    part 3\")\n",
    "print(np.char.islower(b))"
   ]
  },
  {
   "cell_type": "markdown",
   "id": "82de66ed",
   "metadata": {},
   "source": [
    "#### numpy.char.isnumeric\n",
    "For each element, return True if there are only numeric characters in the element.\n",
    "<p style=\"background-color:yellow\">SYNTAX - char.isnumeric(a)</p>"
   ]
  },
  {
   "cell_type": "code",
   "execution_count": 160,
   "id": "c6eb5ece",
   "metadata": {},
   "outputs": [
    {
     "name": "stdout",
     "output_type": "stream",
     "text": [
      "True\n",
      "True\n",
      "True\n"
     ]
    }
   ],
   "source": [
    "a = np.array(\"3\")\n",
    "print(np.char.isnumeric(a))\n",
    "b = np.array(\"⅓\")\n",
    "print(np.char.isnumeric(b))\n",
    "c = np.array(\"\\u00b2\")\n",
    "print(np.char.isnumeric(c))"
   ]
  },
  {
   "cell_type": "markdown",
   "id": "28bfaeab",
   "metadata": {},
   "source": [
    "[<p style=\"text-align:right\">[Back to Current Topic]</p>](#NumPy---String-Operations)"
   ]
  },
  {
   "cell_type": "markdown",
   "id": "d7b636c9",
   "metadata": {},
   "source": [
    "#### numpy.char.isspace\n",
    "Returns true for each element if there are only whitespace characters in the string and there is at least one character, false otherwise.\n",
    "<p style=\"background-color:yellow\">SYNTAX - char.isspace(a)</p>"
   ]
  },
  {
   "cell_type": "code",
   "execution_count": 161,
   "id": "2f99e78f",
   "metadata": {},
   "outputs": [
    {
     "name": "stdout",
     "output_type": "stream",
     "text": [
      "False\n",
      "True\n",
      "False\n"
     ]
    }
   ],
   "source": [
    "a = np.array(\"Mission Impossible\")\n",
    "print(np.char.isspace(a))\n",
    "b = np.array(\" \")\n",
    "print(np.char.isspace(b))\n",
    "c = np.array(\"     #   \")\n",
    "print(np.char.isspace(c))"
   ]
  },
  {
   "cell_type": "markdown",
   "id": "9f1a6547",
   "metadata": {},
   "source": [
    "#### numpy.char.istitle\n",
    "Returns true for each element if the element is a titlecased string and there is at least one character, false otherwise.\n",
    "<p style=\"background-color:yellow\">SYNTAX - char.istitle(a)</p>"
   ]
  },
  {
   "cell_type": "code",
   "execution_count": 162,
   "id": "1d27bde9",
   "metadata": {},
   "outputs": [
    {
     "name": "stdout",
     "output_type": "stream",
     "text": [
      "True\n",
      "False\n",
      "False\n"
     ]
    }
   ],
   "source": [
    "a = np.array(\"Mission Impossible\")\n",
    "print(np.char.istitle(a))\n",
    "b = np.array(\"mission impossible\")\n",
    "print(np.char.istitle(b))\n",
    "c = np.array(\"Mission impossible\")\n",
    "print(np.char.istitle(c))"
   ]
  },
  {
   "cell_type": "markdown",
   "id": "178bb8eb",
   "metadata": {},
   "source": [
    "#### numpy.char.isupper\n",
    "Return true for each element if all cased characters in the string are uppercase and there is at least one character, false otherwise.\n",
    "<p style=\"background-color:yellow\">SYNTAX - char.isupper(a)</p>"
   ]
  },
  {
   "cell_type": "code",
   "execution_count": 163,
   "id": "2c5ee39a",
   "metadata": {},
   "outputs": [
    {
     "name": "stdout",
     "output_type": "stream",
     "text": [
      "False\n",
      "True\n",
      "True\n",
      "False\n"
     ]
    }
   ],
   "source": [
    "a = np.array(\"Mission Impossible\")\n",
    "print(np.char.isupper(a))\n",
    "b = np.array(\"MISSION IMPOSSIBLE\")\n",
    "print(np.char.isupper(b))\n",
    "c = np.array(\"M0123456789\")\n",
    "print(np.char.isupper(c))\n",
    "d = np.array(\"0123456789\")\n",
    "print(np.char.isupper(d))"
   ]
  },
  {
   "cell_type": "markdown",
   "id": "eb5039b9",
   "metadata": {},
   "source": [
    "[<p style=\"text-align:right\">[Back to Current Topic]</p>](#NumPy---String-Operations)"
   ]
  },
  {
   "cell_type": "markdown",
   "id": "2d08c5f0",
   "metadata": {},
   "source": [
    "#### numpy.char.rfind\n",
    "For each element in a, return the highest index in the string where substring sub is found, such that sub is contained within [start, end].\n",
    "<p style=\"background-color:yellow\">SYNTAX - char.rfind(a, sub, start=0, end=None)</p>"
   ]
  },
  {
   "cell_type": "code",
   "execution_count": 164,
   "id": "2db28ad4",
   "metadata": {},
   "outputs": [
    {
     "data": {
      "text/plain": [
       "array([ 9, 11, 13, -1])"
      ]
     },
     "execution_count": 164,
     "metadata": {},
     "output_type": "execute_result"
    }
   ],
   "source": [
    "a = np.array([\"Tom Cruise\", \"Robert Downey\", \"Christian Bale\", \"Tom Hanks\"])\n",
    "np.char.rfind(a, \"e\")"
   ]
  },
  {
   "cell_type": "markdown",
   "id": "64981b40",
   "metadata": {},
   "source": [
    "#### numpy.char.rindex\n",
    "Like rfind, but raises ValueError when the substring sub is not found.\n",
    "<p style=\"background-color:yellow\">SYNTAX - char.rindex(a, sub, start=0, end=None)</p>"
   ]
  },
  {
   "cell_type": "code",
   "execution_count": 165,
   "id": "96a52dce",
   "metadata": {},
   "outputs": [
    {
     "name": "stdout",
     "output_type": "stream",
     "text": [
      "12\n",
      "ValueError: substring not found\n"
     ]
    }
   ],
   "source": [
    "a = np.array(\"Mission Impossible\")\n",
    "print(np.char.rindex(a, \"ss\"))\n",
    "try:\n",
    "    print(np.char.rindex(a, \"tom\"))\n",
    "except:\n",
    "    print(\"ValueError: substring not found\")"
   ]
  },
  {
   "cell_type": "markdown",
   "id": "636747c9",
   "metadata": {},
   "source": [
    "#### numpy.char.startswith\n",
    "Returns a boolean array which is True where the string element in a starts with prefix, otherwise False.\n",
    "<p style=\"background-color:yellow\">SYNTAX - char.startswith(a, prefix, start=0, end=None)</p>"
   ]
  },
  {
   "cell_type": "code",
   "execution_count": 166,
   "id": "de6efbcd",
   "metadata": {},
   "outputs": [
    {
     "data": {
      "text/plain": [
       "array([ True, False, False,  True])"
      ]
     },
     "execution_count": 166,
     "metadata": {},
     "output_type": "execute_result"
    }
   ],
   "source": [
    "a = np.array([\"Tom Cruise\", \"Robert Downey\", \"Christian Bale\", \"Tom Hanks\"])\n",
    "np.char.startswith(a, \"T\")"
   ]
  },
  {
   "cell_type": "markdown",
   "id": "3da5c1c6",
   "metadata": {},
   "source": [
    "[<p style=\"text-align:right\">[Back to Current Topic]</p>](#NumPy---String-Operations)"
   ]
  },
  {
   "cell_type": "markdown",
   "id": "a836983f",
   "metadata": {},
   "source": [
    "#### numpy.char.str_len\n",
    "Return len(a) element-wise.\n",
    "<p style=\"background-color:yellow\">SYNTAX - char.str_len(a)</p>"
   ]
  },
  {
   "cell_type": "code",
   "execution_count": 167,
   "id": "63ad8d17",
   "metadata": {},
   "outputs": [
    {
     "data": {
      "text/plain": [
       "array([10, 13, 14,  9])"
      ]
     },
     "execution_count": 167,
     "metadata": {},
     "output_type": "execute_result"
    }
   ],
   "source": [
    "a = np.array([\"Tom Cruise\", \"Robert Downey\", \"Christian Bale\", \"Tom Hanks\"])\n",
    "np.char.str_len(a)"
   ]
  },
  {
   "cell_type": "markdown",
   "id": "eb4d2cba",
   "metadata": {},
   "source": [
    "#### numpy.char.array\n",
    "Create a chararray.\n",
    "<p style=\"background-color:yellow\">SYNTAX - char.array(obj, itemsize=None, copy=True, unicode=None, order=None)</p>"
   ]
  },
  {
   "cell_type": "code",
   "execution_count": 168,
   "id": "16531619",
   "metadata": {},
   "outputs": [
    {
     "data": {
      "text/plain": [
       "chararray(['    Tom     Cruise', '111', '578', 'TomHanks'], dtype='<U24')"
      ]
     },
     "execution_count": 168,
     "metadata": {},
     "output_type": "execute_result"
    }
   ],
   "source": [
    "a = np.array([\"    Tom     Cruise      \", \"1\"*3, 578, \"Tom\"+\"Hanks\"])\n",
    "np.char.array(a)"
   ]
  },
  {
   "cell_type": "markdown",
   "id": "94a00dca",
   "metadata": {},
   "source": [
    "[<p style=\"text-align:right\">[Back to Current Topic]</p>](#NumPy---String-Operations)"
   ]
  },
  {
   "cell_type": "markdown",
   "id": "9eac5df6",
   "metadata": {},
   "source": [
    "[<p style=\"text-align:right\">[Back to top]</p>](#NumPy)"
   ]
  },
  {
   "cell_type": "markdown",
   "id": "0bf1a822",
   "metadata": {},
   "source": [
    "### NumPy - Mathematical Functions\n",
    "- [Trigonometric functions](#Trigonometric-functions)<br>\n",
    "    * [numpy.sin](#numpy.sin)\n",
    "    * [numpy.cos](#numpy.cos)\n",
    "    * [numpy.tan](#numpy.tan)\n",
    "    * [numpy.arcsin](#numpy.arcsin)\n",
    "    * [numpy.arccos](#numpy.arccos)\n",
    "    * [numpy.arctan](#numpy.arctan)\n",
    "    * [numpy.degrees](#numpy.degrees)\n",
    "    * [numpy.radians](#numpy.radians)\n",
    "- [Hyperbolic functions](#Hyperbolic-functions)<br>\n",
    "    * [numpy.sinh](#numpy.sinh)\n",
    "    * [numpy.cosh](#numpy.cosh)\n",
    "    * [numpy.tanh](#numpy.tanh)\n",
    "    * [numpy.arcsinh](#numpy.arcsinh)\n",
    "    * [numpy.arccosh](#numpy.arccosh)\n",
    "    * [numpy.arctanh](#numpy.arctanh)\n",
    "- [Rounding](#Rounding)<br>\n",
    "    * [numpy.around](#numpy.around)\n",
    "    * [numpy.rint](#numpy.rint)\n",
    "    * [numpy.fix](#numpy.fix)\n",
    "    * [numpy.floor](#numpy.floor)\n",
    "    * [numpy.ceil](#numpy.ceil)\n",
    "    * [numpy.trunc](#numpy.trunc)\n",
    "- [Sums, products, differences](#Sums,-products,-differences)<br>\n",
    "    * [numpy.prod](#numpy.prod)\n",
    "    * [numpy.sum](#numpy.sum)\n",
    "    * [numpy.nanprod](#numpy.nanprod)\n",
    "    * [numpy.nansum](#numpy.nansum)\n",
    "    * [numpy.cumprod](#numpy.cumprod)\n",
    "    * [numpy.cumsum](#numpy.cumsum)\n",
    "    * [numpy.nancumprod](#numpy.nancumprod)\n",
    "    * [numpy.nancumsum](#numpy.nancumsum)\n",
    "    * [numpy.diff](#numpy.diff)\n",
    "    * [numpy.ediff1d](#numpy.ediff1d)\n",
    "    * [numpy.cross](#numpy.cross)\n",
    "- [Exponents and logarithms](#Exponents-and-logarithms)<br>\n",
    "    * [numpy.exp](#numpy.exp)\n",
    "    * [numpy.expm1](#numpy.expm1)\n",
    "    * [numpy.exp2](#numpy.exp2)\n",
    "    * [numpy.log](#numpy.log)\n",
    "    * [numpy.log10](#numpy.log10)\n",
    "    * [numpy.log2](#numpy.log2)\n",
    "- [Rational routines](#Rational-routines)<br>\n",
    "    * [numpy.lcm](#numpy.lcm)\n",
    "    * [numpy.gcd](#numpy.gcd)\n",
    "- [Arithmetic operations](#Arithmetic-operations)<br>\n",
    "    * [numpy.add](#numpy.add)\n",
    "    * [numpy.reciprocal](#numpy.reciprocal)\n",
    "    * [numpy.positive](#numpy.positive)\n",
    "    * [numpy.negative](#numpy.negative)\n",
    "    * [numpy.multiply](#numpy.multiply)\n",
    "    * [numpy.divide](#numpy.divide)\n",
    "    * [numpy.power](#numpy.power)\n",
    "    * [numpy.subtract](#numpy.subtract)\n",
    "    * [numpy.true_divide](#numpy.true_divide)\n",
    "    * [numpy.floor_divide](#numpy.floor_divide)\n",
    "    * [numpy.float_power](#numpy.float_power)\n",
    "    * [numpy.fmod](#numpy.fmod)\n",
    "    * [numpy.mod](#numpy.mod)\n",
    "    * [numpy.modf](#numpy.modf)\n",
    "    * [numpy.remainder](#numpy.remainder)\n",
    "    * [numpy.divmod](#numpy.divmod)\n",
    "- [Extrema Finding](#Extrema-Finding)<br>\n",
    "    * [numpy.maximum](#numpy.maximum)\n",
    "    * [numpy.fmax](#numpy.fmax)\n",
    "    * [numpy.amax](#numpy.amax)\n",
    "    * [numpy.nanmax](#numpy.nanmax)\n",
    "    * [numpy.minimum](#numpy.minimum)\n",
    "    * [numpy.fmin](#numpy.fmin)\n",
    "    * [numpy.amin](#numpy.amin)\n",
    "    * [numpy.nanmin](#numpy.nanmin)\n",
    "- [Miscellaneous](#Miscellaneous)<br>\n",
    "    * [numpy.convolve](#numpy.convolve)\n",
    "    * [numpy.clip](#numpy.clip)\n",
    "    * [numpy.sqrt](#numpy.sqrt)\n",
    "    * [numpy.cbrt](#numpy.cbrt)\n",
    "    * [numpy.square](#numpy.square)\n",
    "    * [numpy.absolute](#numpy.absolute)\n",
    "    * [numpy.fabs](#numpy.fabs)\n",
    "    * [numpy.nan_to_num](#numpy.nan_to_num)"
   ]
  },
  {
   "cell_type": "markdown",
   "id": "c6b4f999",
   "metadata": {},
   "source": [
    "### Trigonometric functions"
   ]
  },
  {
   "cell_type": "markdown",
   "id": "18478ad3",
   "metadata": {},
   "source": [
    "#### numpy.sin\n",
    "Trigonometric sine, element-wise.\n",
    "<p style=\"background-color:yellow\">SYNTAX - numpy.sin(x, /, out=None, *, where=True, casting='same_kind', order='K', dtype=None, subok=True[, signature, extobj])</p>"
   ]
  },
  {
   "cell_type": "code",
   "execution_count": 169,
   "id": "c1eab43c",
   "metadata": {},
   "outputs": [
    {
     "data": {
      "text/plain": [
       "1.0"
      ]
     },
     "execution_count": 169,
     "metadata": {},
     "output_type": "execute_result"
    }
   ],
   "source": [
    "np.sin(np.pi/2.)"
   ]
  },
  {
   "cell_type": "code",
   "execution_count": 170,
   "id": "4963045b",
   "metadata": {},
   "outputs": [
    {
     "data": {
      "text/plain": [
       "array([0.        , 0.5       , 0.70710678, 0.8660254 , 1.        ])"
      ]
     },
     "execution_count": 170,
     "metadata": {},
     "output_type": "execute_result"
    }
   ],
   "source": [
    "np.sin(np.array((0., 30., 45., 60., 90.)) * np.pi / 180. )"
   ]
  },
  {
   "cell_type": "code",
   "execution_count": 171,
   "id": "604fe076",
   "metadata": {
    "scrolled": false
   },
   "outputs": [
    {
     "data": {
      "image/png": "[encoded data removed]",
      "text/plain": [
       "<Figure size 640x480 with 1 Axes>"
      ]
     },
     "metadata": {},
     "output_type": "display_data"
    }
   ],
   "source": [
    "import matplotlib.pyplot as plt\n",
    "x = np.linspace(-np.pi, np.pi, 201)\n",
    "plt.plot(x, np.sin(x))\n",
    "plt.xlabel('Angle [rad]')\n",
    "plt.ylabel('sin(x)')\n",
    "plt.axis('tight')\n",
    "plt.show()"
   ]
  },
  {
   "cell_type": "code",
   "execution_count": 172,
   "id": "8611def0",
   "metadata": {},
   "outputs": [
    {
     "data": {
      "image/png": "[encoded data removed]",
      "text/plain": [
       "<Figure size 640x480 with 1 Axes>"
      ]
     },
     "metadata": {},
     "output_type": "display_data"
    }
   ],
   "source": [
    "a = np.arange(360)\n",
    "b = np.sin(a*np.pi / 180)\n",
    "plt.plot(a,b)\n",
    "plt.xlabel('Angle [deg]')\n",
    "plt.ylabel('sin(x)')\n",
    "plt.axis('tight')\n",
    "plt.show()"
   ]
  },
  {
   "cell_type": "markdown",
   "id": "c2de9703",
   "metadata": {},
   "source": [
    "#### numpy.cos\n",
    "Trigonometric cosine, element-wise.\n",
    "<p style=\"background-color:yellow\">SYNTAX - numpy.cos(x, /, out=None, *, where=True, casting='same_kind', order='K', dtype=None, subok=True[, signature, extobj])</p>"
   ]
  },
  {
   "cell_type": "code",
   "execution_count": 173,
   "id": "87e5e07c",
   "metadata": {},
   "outputs": [
    {
     "data": {
      "text/plain": [
       "array([ 1.000000e+00,  6.123234e-17, -1.000000e+00])"
      ]
     },
     "execution_count": 173,
     "metadata": {},
     "output_type": "execute_result"
    }
   ],
   "source": [
    "np.cos(np.array([0, np.pi/2, np.pi]))"
   ]
  },
  {
   "cell_type": "markdown",
   "id": "e56322d5",
   "metadata": {},
   "source": [
    "#### numpy.tan\n",
    "Compute tangent element-wise.\n",
    "<p style=\"background-color:yellow\">SYNTAX - numpy.tan(x, /, out=None, *, where=True, casting='same_kind', order='K', dtype=None, subok=True[, signature, extobj])</p>"
   ]
  },
  {
   "cell_type": "code",
   "execution_count": 174,
   "id": "b12285ae",
   "metadata": {},
   "outputs": [
    {
     "data": {
      "text/plain": [
       "array([ 1.22464680e-16,  1.63312394e+16, -1.22464680e-16])"
      ]
     },
     "execution_count": 174,
     "metadata": {},
     "output_type": "execute_result"
    }
   ],
   "source": [
    "from math import pi\n",
    "np.tan(np.array([-pi,pi/2,pi]))"
   ]
  },
  {
   "cell_type": "markdown",
   "id": "44f391d0",
   "metadata": {},
   "source": [
    "#### numpy.arcsin\n",
    "Inverse sine, element-wise.\n",
    "<p style=\"background-color:yellow\">SYNTAX - numpy.arcsin(x, /, out=None, *, where=True, casting='same_kind', order='K', dtype=None, subok=True[, signature, extobj])</p>"
   ]
  },
  {
   "cell_type": "code",
   "execution_count": 175,
   "id": "ef361faf",
   "metadata": {},
   "outputs": [
    {
     "name": "stdout",
     "output_type": "stream",
     "text": [
      "1.0\n"
     ]
    }
   ],
   "source": [
    "print(np.sin(1.5707963267948966))"
   ]
  },
  {
   "cell_type": "code",
   "execution_count": 176,
   "id": "d96a5533",
   "metadata": {},
   "outputs": [
    {
     "name": "stdout",
     "output_type": "stream",
     "text": [
      "1.5707963267948966\n"
     ]
    }
   ],
   "source": [
    "print(np.arcsin(1))"
   ]
  },
  {
   "cell_type": "markdown",
   "id": "499711bf",
   "metadata": {},
   "source": [
    "#### numpy.arccos\n",
    "Trigonometric inverse cosine, element-wise.\n",
    "<p style=\"background-color:yellow\">SYNTAX - numpy.arccos(x, /, out=None, *, where=True, casting='same_kind', order='K', dtype=None, subok=True[, signature, extobj])</p>"
   ]
  },
  {
   "cell_type": "code",
   "execution_count": 177,
   "id": "8f009648",
   "metadata": {},
   "outputs": [
    {
     "data": {
      "text/plain": [
       "array([0.        , 3.14159265])"
      ]
     },
     "execution_count": 177,
     "metadata": {},
     "output_type": "execute_result"
    }
   ],
   "source": [
    "x = np.arccos([1, -1])\n",
    "x"
   ]
  },
  {
   "cell_type": "code",
   "execution_count": 178,
   "id": "01d913c4",
   "metadata": {
    "scrolled": true
   },
   "outputs": [
    {
     "data": {
      "text/plain": [
       "array([ 1., -1.])"
      ]
     },
     "execution_count": 178,
     "metadata": {},
     "output_type": "execute_result"
    }
   ],
   "source": [
    "np.cos(x)"
   ]
  },
  {
   "cell_type": "markdown",
   "id": "1f3a5337",
   "metadata": {},
   "source": [
    "#### numpy.arctan\n",
    "Trigonometric inverse tangent, element-wise.\n",
    "<p style=\"background-color:yellow\">SYNTAX - numpy.arctan(x, /, out=None, *, where=True, casting='same_kind', order='K', dtype=None, subok=True[, signature, extobj])</p>"
   ]
  },
  {
   "cell_type": "code",
   "execution_count": 179,
   "id": "36da8cc3",
   "metadata": {},
   "outputs": [
    {
     "data": {
      "text/plain": [
       "array([ 0.78539816, -0.78539816])"
      ]
     },
     "execution_count": 179,
     "metadata": {},
     "output_type": "execute_result"
    }
   ],
   "source": [
    "x = np.arctan([1, -1])\n",
    "x"
   ]
  },
  {
   "cell_type": "code",
   "execution_count": 180,
   "id": "a03a6308",
   "metadata": {},
   "outputs": [
    {
     "data": {
      "text/plain": [
       "array([ 1., -1.])"
      ]
     },
     "execution_count": 180,
     "metadata": {},
     "output_type": "execute_result"
    }
   ],
   "source": [
    "np.tan(x)"
   ]
  },
  {
   "cell_type": "markdown",
   "id": "11bc22ad",
   "metadata": {},
   "source": [
    "#### numpy.degrees\n",
    "Convert angles from radians to degrees.\n",
    "<p style=\"background-color:yellow\">SYNTAX - numpy.degrees(x, /, out=None, *, where=True, casting='same_kind', order='K', dtype=None, subok=True[, signature, extobj])</p>"
   ]
  },
  {
   "cell_type": "code",
   "execution_count": 181,
   "id": "4914577f",
   "metadata": {},
   "outputs": [
    {
     "name": "stdout",
     "output_type": "stream",
     "text": [
      "Angles in rad: \n",
      "[0.         0.52359878 1.04719755 1.57079633 2.0943951  2.61799388\n",
      " 3.14159265 3.66519143 4.1887902  4.71238898 5.23598776 5.75958653]\n",
      "\n",
      "Angles in deg: \n",
      "[  0.  30.  60.  90. 120. 150. 180. 210. 240. 270. 300. 330.]\n"
     ]
    }
   ],
   "source": [
    "rad = np.arange(12.)*np.pi/6\n",
    "print(\"Angles in rad: \")\n",
    "print(rad)\n",
    "print()\n",
    "print(\"Angles in deg: \")\n",
    "print(np.degrees(rad))"
   ]
  },
  {
   "cell_type": "code",
   "execution_count": 182,
   "id": "83dd20d9",
   "metadata": {},
   "outputs": [
    {
     "name": "stdout",
     "output_type": "stream",
     "text": [
      "[0. 0. 0. 0. 0. 0. 0. 0. 0. 0. 0. 0.]\n",
      "[  0.  30.  60.  90. 120. 150. 180. 210. 240. 270. 300. 330.]\n"
     ]
    },
    {
     "data": {
      "text/plain": [
       "True"
      ]
     },
     "execution_count": 182,
     "metadata": {},
     "output_type": "execute_result"
    }
   ],
   "source": [
    "out = np.zeros((rad.shape))\n",
    "print(out)\n",
    "r = np.degrees(rad, out)\n",
    "print(r)\n",
    "np.all(r == out)"
   ]
  },
  {
   "cell_type": "markdown",
   "id": "3b730647",
   "metadata": {},
   "source": [
    "#### numpy.radians\n",
    "Convert angles from degrees to radians.\n",
    "<p style=\"background-color:yellow\">SYNTAX - numpy.radians(x, /, out=None, *, where=True, casting='same_kind', order='K', dtype=None, subok=True[, signature, extobj])</p>"
   ]
  },
  {
   "cell_type": "code",
   "execution_count": 183,
   "id": "8a6628cc",
   "metadata": {},
   "outputs": [
    {
     "name": "stdout",
     "output_type": "stream",
     "text": [
      "Angles in deg: \n",
      "[  0.  30.  60.  90. 120. 150. 180. 210. 240. 270. 300. 330.]\n",
      "\n",
      "Angles in rad: \n",
      "[0.         0.52359878 1.04719755 1.57079633 2.0943951  2.61799388\n",
      " 3.14159265 3.66519143 4.1887902  4.71238898 5.23598776 5.75958653]\n"
     ]
    }
   ],
   "source": [
    "deg = np.arange(12.)*30\n",
    "print(\"Angles in deg: \")\n",
    "print(deg)\n",
    "print()\n",
    "print(\"Angles in rad: \")\n",
    "print(np.radians(deg))"
   ]
  },
  {
   "cell_type": "markdown",
   "id": "b0ccf6b8",
   "metadata": {},
   "source": [
    "[<p style=\"text-align:right\">[Back to Current Topic]</p>](#NumPy---Mathematical-Functions)\n",
    "[<p style=\"text-align:right\">[Back to top]</p>](#NumPy)"
   ]
  },
  {
   "cell_type": "markdown",
   "id": "ebfffc34",
   "metadata": {},
   "source": [
    "### Hyperbolic functions"
   ]
  },
  {
   "cell_type": "markdown",
   "id": "a3379d68",
   "metadata": {},
   "source": [
    "#### numpy.sinh\n",
    "Hyperbolic sine, element-wise.\n",
    "<p style=\"background-color:yellow\">SYNTAX - numpy.sinh(x, /, out=None, *, where=True, casting='same_kind', order='K', dtype=None, subok=True[, signature, extobj])</p>"
   ]
  },
  {
   "cell_type": "code",
   "execution_count": 184,
   "id": "1dc09182",
   "metadata": {},
   "outputs": [
    {
     "name": "stdout",
     "output_type": "stream",
     "text": [
      "0.0\n",
      "1j\n",
      "(-0+1.2246467991473532e-16j)\n"
     ]
    }
   ],
   "source": [
    "print(np.sinh(0))\n",
    "print(np.sinh(np.pi*1j/2))\n",
    "print(np.sinh(np.pi*1j)) # (exact value is 0)"
   ]
  },
  {
   "cell_type": "markdown",
   "id": "98846161",
   "metadata": {},
   "source": [
    "#### numpy.cosh\n",
    "Hyperbolic cosine, element-wise.\n",
    "<p style=\"background-color:yellow\">SYNTAX - numpy.cosh(x, /, out=None, *, where=True, casting='same_kind', order='K', dtype=None, subok=True[, signature, extobj])</p>"
   ]
  },
  {
   "cell_type": "code",
   "execution_count": 185,
   "id": "97d239c8",
   "metadata": {},
   "outputs": [
    {
     "data": {
      "text/plain": [
       "1.0"
      ]
     },
     "execution_count": 185,
     "metadata": {},
     "output_type": "execute_result"
    }
   ],
   "source": [
    "np.cos(0)"
   ]
  },
  {
   "cell_type": "code",
   "execution_count": 186,
   "id": "c463f2b6",
   "metadata": {},
   "outputs": [
    {
     "data": {
      "image/png": "[encoded data removed]",
      "text/plain": [
       "<Figure size 640x480 with 1 Axes>"
      ]
     },
     "metadata": {},
     "output_type": "display_data"
    }
   ],
   "source": [
    "import matplotlib.pyplot as plt\n",
    "x = np.linspace(-4, 4, 1000)\n",
    "plt.plot(x, np.cosh(x))\n",
    "plt.show()"
   ]
  },
  {
   "cell_type": "markdown",
   "id": "87b416e0",
   "metadata": {},
   "source": [
    "#### numpy.tanh\n",
    "Compute hyperbolic tangent element-wise.\n",
    "<p style=\"background-color:yellow\">SYNTAX - numpy.tanh(x, /, out=None, *, where=True, casting='same_kind', order='K', dtype=None, subok=True[, signature, extobj])</p>"
   ]
  },
  {
   "cell_type": "code",
   "execution_count": 187,
   "id": "29b32476",
   "metadata": {},
   "outputs": [
    {
     "data": {
      "text/plain": [
       "array([0.+0.00000000e+00j, 0.-1.22464680e-16j, 0.+1.63312394e+16j])"
      ]
     },
     "execution_count": 187,
     "metadata": {},
     "output_type": "execute_result"
    }
   ],
   "source": [
    "np.tanh((0, np.pi*1j, np.pi*1j/2))"
   ]
  },
  {
   "cell_type": "markdown",
   "id": "fb52a7e2",
   "metadata": {},
   "source": [
    "#### numpy.arcsinh\n",
    "Inverse hyperbolic sine element-wise.\n",
    "<p style=\"background-color:yellow\">SYNTAX - numpy.arcsinh(x, /, out=None, *, where=True, casting='same_kind', order='K', dtype=None, subok=True[, signature, extobj])</p>"
   ]
  },
  {
   "cell_type": "markdown",
   "id": "65c91150",
   "metadata": {},
   "source": [
    "#### numpy.arccosh\n",
    "Inverse hyperbolic cosine, element-wise.\n",
    "<p style=\"background-color:yellow\">SYNTAX - numpy.arccosh(x, /, out=None, *, where=True, casting='same_kind', order='K', dtype=None, subok=True[, signature, extobj])</p>"
   ]
  },
  {
   "cell_type": "markdown",
   "id": "3d71f441",
   "metadata": {},
   "source": [
    "#### numpy.arctanh\n",
    "Inverse hyperbolic tangent element-wise.\n",
    "<p style=\"background-color:yellow\">SYNTAX - numpy.arctanh(x, /, out=None, *, where=True, casting='same_kind', order='K', dtype=None, subok=True[, signature, extobj])</p>"
   ]
  },
  {
   "cell_type": "markdown",
   "id": "9a30e606",
   "metadata": {},
   "source": [
    "[<p style=\"text-align:right\">[Back to Current Topic]</p>](#NumPy---Mathematical-Functions)\n",
    "[<p style=\"text-align:right\">[Back to top]</p>](#NumPy)"
   ]
  },
  {
   "cell_type": "markdown",
   "id": "2a3ffc5f",
   "metadata": {},
   "source": [
    "### Rounding"
   ]
  },
  {
   "cell_type": "markdown",
   "id": "55fbf1f5",
   "metadata": {},
   "source": [
    "#### numpy.around\n",
    "Evenly round to the given number of decimals.\n",
    "<p style=\"background-color:yellow\">SYNTAX - numpy.around(a, decimals=0, out=None)</p>"
   ]
  },
  {
   "cell_type": "code",
   "execution_count": 188,
   "id": "f218ae17",
   "metadata": {},
   "outputs": [
    {
     "name": "stdout",
     "output_type": "stream",
     "text": [
      "[0. 2.]\n",
      "\n",
      "[0.4 1.6]\n",
      "\n",
      "[0. 2. 2. 4. 4.]\n",
      "\n",
      "[ 1  2  3 11]\n"
     ]
    }
   ],
   "source": [
    "print(np.around([0.37, 1.64]))\n",
    "print()\n",
    "print(np.around([0.37, 1.64], decimals=1))\n",
    "print()\n",
    "print(np.around([.5, 1.5, 2.5, 3.5, 4.5]))  # rounds to nearest even value\n",
    "print()\n",
    "print(np.around([1,2,3,11], decimals=1))"
   ]
  },
  {
   "cell_type": "markdown",
   "id": "9509e376",
   "metadata": {},
   "source": [
    "#### numpy.rint\n",
    "Round elements of the array to the nearest integer.\n",
    "<p style=\"background-color:yellow\">SYNTAX - numpy.rint(x, /, out=None, *, where=True, casting='same_kind', order='K', dtype=None, subok=True[, signature, extobj])</p>"
   ]
  },
  {
   "cell_type": "code",
   "execution_count": 189,
   "id": "2aade8a2",
   "metadata": {},
   "outputs": [
    {
     "data": {
      "text/plain": [
       "array([-2., -2., -0.,  0.,  2.,  2.,  2.])"
      ]
     },
     "execution_count": 189,
     "metadata": {},
     "output_type": "execute_result"
    }
   ],
   "source": [
    "a = np.array([-1.7, -1.5, -0.2, 0.2, 1.5, 1.7, 2.0])\n",
    "np.rint(a)"
   ]
  },
  {
   "cell_type": "markdown",
   "id": "4ece08a4",
   "metadata": {},
   "source": [
    "#### numpy.fix\n",
    "Round to nearest integer towards zero.\n",
    "<p style=\"background-color:yellow\">SYNTAX - numpy.fix(x, out=None)</p>"
   ]
  },
  {
   "cell_type": "code",
   "execution_count": 190,
   "id": "1976146c",
   "metadata": {},
   "outputs": [
    {
     "data": {
      "text/plain": [
       "array([ 2.,  2., -2., -2.])"
      ]
     },
     "execution_count": 190,
     "metadata": {},
     "output_type": "execute_result"
    }
   ],
   "source": [
    "np.fix([2.1, 2.9, -2.1, -2.9])"
   ]
  },
  {
   "cell_type": "markdown",
   "id": "43559272",
   "metadata": {},
   "source": [
    "#### numpy.floor\n",
    "Return the floor of the input, element-wise.\n",
    "<p style=\"background-color:yellow\">SYNTAX - numpy.floor(x, /, out=None, *, where=True, casting='same_kind', order='K', dtype=None, subok=True[, signature, extobj])</p>"
   ]
  },
  {
   "cell_type": "code",
   "execution_count": 191,
   "id": "e01881c4",
   "metadata": {},
   "outputs": [
    {
     "data": {
      "text/plain": [
       "array([-2., -2., -1.,  0.,  1.,  1.,  2.])"
      ]
     },
     "execution_count": 191,
     "metadata": {},
     "output_type": "execute_result"
    }
   ],
   "source": [
    "a = np.array([-1.7, -1.5, -0.2, 0.2, 1.5, 1.7, 2.0])\n",
    "np.floor(a)"
   ]
  },
  {
   "cell_type": "markdown",
   "id": "516c6389",
   "metadata": {},
   "source": [
    "#### numpy.ceil\n",
    "Return the ceiling of the input, element-wise.\n",
    "<p style=\"background-color:yellow\">SYNTAX - numpy.ceil(x, /, out=None, *, where=True, casting='same_kind', order='K', dtype=None, subok=True[, signature, extobj])</p>"
   ]
  },
  {
   "cell_type": "code",
   "execution_count": 192,
   "id": "1d6241b7",
   "metadata": {},
   "outputs": [
    {
     "data": {
      "text/plain": [
       "array([-1., -1., -0.,  1.,  2.,  2.,  2.])"
      ]
     },
     "execution_count": 192,
     "metadata": {},
     "output_type": "execute_result"
    }
   ],
   "source": [
    "a = np.array([-1.7, -1.5, -0.2, 0.2, 1.5, 1.7, 2.0])\n",
    "np.ceil(a)"
   ]
  },
  {
   "cell_type": "markdown",
   "id": "4942921c",
   "metadata": {},
   "source": [
    "#### numpy.trunc\n",
    "Return the truncated value of the input, element-wise.\n",
    "<p style=\"background-color:yellow\">SYNTAX - numpy.trunc(x, /, out=None, *, where=True, casting='same_kind', order='K', dtype=None, subok=True[, signature, extobj])</p>"
   ]
  },
  {
   "cell_type": "code",
   "execution_count": 193,
   "id": "69f6e0a9",
   "metadata": {},
   "outputs": [
    {
     "data": {
      "text/plain": [
       "array([-1., -1., -0.,  0.,  1.,  1.,  2.])"
      ]
     },
     "execution_count": 193,
     "metadata": {},
     "output_type": "execute_result"
    }
   ],
   "source": [
    "a = np.array([-1.7, -1.5, -0.2, 0.2, 1.5, 1.7, 2.0])\n",
    "np.trunc(a)"
   ]
  },
  {
   "cell_type": "markdown",
   "id": "7c9e8aef",
   "metadata": {},
   "source": [
    "[<p style=\"text-align:right\">[Back to Current Topic]</p>](#NumPy---Mathematical-Functions)\n",
    "[<p style=\"text-align:right\">[Back to top]</p>](#NumPy)"
   ]
  },
  {
   "cell_type": "markdown",
   "id": "67329b1c",
   "metadata": {},
   "source": [
    "### Sums, products, differences"
   ]
  },
  {
   "cell_type": "markdown",
   "id": "25c853b1",
   "metadata": {},
   "source": [
    "#### numpy.prod\n",
    "Return the product of array elements over a given axis.\n",
    "<p style=\"background-color:yellow\">SYNTAX - numpy.prod(a, axis=None, dtype=None, out=None, keepdims=<no value>, initial=<no value>, where=<no value>)</p>"
   ]
  },
  {
   "cell_type": "code",
   "execution_count": 194,
   "id": "4cbaa3df",
   "metadata": {},
   "outputs": [
    {
     "data": {
      "text/plain": [
       "16"
      ]
     },
     "execution_count": 194,
     "metadata": {},
     "output_type": "execute_result"
    }
   ],
   "source": [
    "x = np.array([536870910, 536870910, 536870910, 536870910])\n",
    "# Arithmetic is modular when using integer types, and no error is raised on overflow.\n",
    "np.prod(x)"
   ]
  },
  {
   "cell_type": "code",
   "execution_count": 195,
   "id": "70c0cf32",
   "metadata": {},
   "outputs": [
    {
     "data": {
      "text/plain": [
       "1.0"
      ]
     },
     "execution_count": 195,
     "metadata": {},
     "output_type": "execute_result"
    }
   ],
   "source": [
    "np.prod([])\n",
    "# The product of an empty array is the neutral element 1"
   ]
  },
  {
   "cell_type": "code",
   "execution_count": 196,
   "id": "5508df77",
   "metadata": {},
   "outputs": [
    {
     "data": {
      "text/plain": [
       "2.0"
      ]
     },
     "execution_count": 196,
     "metadata": {},
     "output_type": "execute_result"
    }
   ],
   "source": [
    "np.prod([1.,2.])"
   ]
  },
  {
   "cell_type": "code",
   "execution_count": 197,
   "id": "2c373018",
   "metadata": {},
   "outputs": [
    {
     "name": "stdout",
     "output_type": "stream",
     "text": [
      "Original Array: \n",
      "[[1. 2.]\n",
      " [3. 4.]]\n",
      "\n",
      "np.prod with axis=None\n",
      "24.0\n",
      "\n",
      "np.prod with axis=1\n",
      "[ 2. 12.]\n",
      "\n",
      "np.prod with axis=0\n",
      "[3. 8.]\n"
     ]
    }
   ],
   "source": [
    "a = np.array([[1., 2.], [3., 4.]])\n",
    "print(\"Original Array: \")\n",
    "print(a)\n",
    "print()\n",
    "print(\"np.prod with axis=None\")\n",
    "print(np.prod(a, axis=None))\n",
    "print()\n",
    "print(\"np.prod with axis=1\")\n",
    "print(np.prod(a, axis=1))\n",
    "print()\n",
    "print(\"np.prod with axis=0\")\n",
    "print(np.prod(a, axis=0))"
   ]
  },
  {
   "cell_type": "code",
   "execution_count": 198,
   "id": "817e2f15",
   "metadata": {},
   "outputs": [
    {
     "name": "stdout",
     "output_type": "stream",
     "text": [
      "np.prod ignoring NaN values\n",
      "3.0\n",
      "\n",
      "np.prod considering NaN values\n",
      "nan\n"
     ]
    }
   ],
   "source": [
    "print(\"np.prod ignoring NaN values\")\n",
    "print(np.prod([1., np.nan, 3.], where=[True, False, True]))\n",
    "print()\n",
    "print(\"np.prod considering NaN values\")\n",
    "print(np.prod([1., np.nan, 3.], where=[True, True, True]))"
   ]
  },
  {
   "cell_type": "markdown",
   "id": "86b0ead4",
   "metadata": {},
   "source": [
    "#### numpy.sum\n",
    "Sum of array elements over a given axis.\n",
    "<p style=\"background-color:yellow\">SYNTAX - numpy.sum(a, axis=None, dtype=None, out=None, keepdims=<no value>, initial=<no value>, where=<no value>)</p>"
   ]
  },
  {
   "cell_type": "code",
   "execution_count": 199,
   "id": "2841d677",
   "metadata": {},
   "outputs": [
    {
     "name": "stdout",
     "output_type": "stream",
     "text": [
      "2.0\n",
      "\n",
      "1\n",
      "\n",
      "6\n",
      "\n",
      "[0 6]\n",
      "\n",
      "[1 5]\n",
      "\n",
      "[1. 5.]\n",
      "\n",
      "15\n"
     ]
    }
   ],
   "source": [
    "print(np.sum([0.5, 1.5]))\n",
    "print()\n",
    "print(np.sum([0.5, 0.7, 0.2, 1.5], dtype=np.int32))\n",
    "print()\n",
    "print(np.sum([[0, 1], [0, 5]]))\n",
    "print()\n",
    "print(np.sum([[0, 1], [0, 5]], axis=0))\n",
    "print()\n",
    "print(np.sum([[0, 1], [0, 5]], axis=1))\n",
    "print()\n",
    "print(np.sum([[0, 1], [np.nan, 5]], where=[False, True], axis=1))\n",
    "print()\n",
    "print(np.sum([10], initial=5))"
   ]
  },
  {
   "cell_type": "markdown",
   "id": "d718741d",
   "metadata": {},
   "source": [
    "#### numpy.nanprod\n",
    "Return the product of array elements over a given axis treating Not a Numbers (NaNs) as ones.\n",
    "One is returned for slices that are all-NaN or empty.\n",
    "<p style=\"background-color:yellow\">SYNTAX - numpy.nanprod(a, axis=None, dtype=None, out=None, keepdims=<no value>, initial=<no value>, where=<no value>)</p>"
   ]
  },
  {
   "cell_type": "code",
   "execution_count": 200,
   "id": "1c598e0f",
   "metadata": {},
   "outputs": [
    {
     "name": "stdout",
     "output_type": "stream",
     "text": [
      "1.0\n",
      "\n",
      "6.0\n",
      "\n",
      "[3. 2.]\n"
     ]
    }
   ],
   "source": [
    "print(np.nanprod([1, np.nan]))\n",
    "print()\n",
    "a = np.array([[1, 2], [3, np.nan]])\n",
    "print(np.nanprod(a))\n",
    "print()\n",
    "print(np.nanprod(a, axis=0))"
   ]
  },
  {
   "cell_type": "markdown",
   "id": "b3ac2017",
   "metadata": {},
   "source": [
    "#### numpy.nansum\n",
    "Return the sum of array elements over a given axis treating Not a Numbers (NaNs) as zero.\n",
    "<p style=\"background-color:yellow\">SYNTAX - numpy.nansum(a, axis=None, dtype=None, out=None, keepdims=<no value>, initial=<no value>, where=<no value>)</p>"
   ]
  },
  {
   "cell_type": "code",
   "execution_count": 201,
   "id": "b43becd3",
   "metadata": {},
   "outputs": [
    {
     "name": "stdout",
     "output_type": "stream",
     "text": [
      "Original array : \n",
      "[[ 1.  2.]\n",
      " [ 3. nan]]\n",
      "\n",
      "np.nansum with axis=None\n",
      "6.0\n",
      "\n",
      "np.nansum with axis=0\n",
      "[4. 2.]\n",
      "\n",
      "np.nansum with axis=1\n",
      "[3. 3.]\n"
     ]
    }
   ],
   "source": [
    "a = np.array([[1, 2], [3, np.nan]])\n",
    "print(\"Original array : \")\n",
    "print(a)\n",
    "print()\n",
    "print(\"np.nansum with axis=None\")\n",
    "print(np.nansum(a, axis=None))\n",
    "print()\n",
    "print(\"np.nansum with axis=0\")\n",
    "print(np.nansum(a, axis=0))\n",
    "print()\n",
    "print(\"np.nansum with axis=1\")\n",
    "print(np.nansum(a, axis=1))"
   ]
  },
  {
   "cell_type": "code",
   "execution_count": 202,
   "id": "6f4bf047",
   "metadata": {},
   "outputs": [
    {
     "data": {
      "text/plain": [
       "inf"
      ]
     },
     "execution_count": 202,
     "metadata": {},
     "output_type": "execute_result"
    }
   ],
   "source": [
    "np.nansum([1, np.nan, np.inf])"
   ]
  },
  {
   "cell_type": "markdown",
   "id": "4ae69e54",
   "metadata": {},
   "source": [
    "#### numpy.cumprod\n",
    "Return the cumulative product of elements along a given axis.\n",
    "<p style=\"background-color:yellow\">SYNTAX - numpy.cumprod(a, axis=None, dtype=None, out=None)</p>"
   ]
  },
  {
   "cell_type": "code",
   "execution_count": 203,
   "id": "3df2d940",
   "metadata": {},
   "outputs": [
    {
     "name": "stdout",
     "output_type": "stream",
     "text": [
      "Original array : \n",
      "[[1 2 3]\n",
      " [4 5 6]]\n",
      "\n",
      "np.cumprod with axis=None\n",
      "[  1.   2.   6.  24. 120. 720.]\n",
      "\n",
      "np.cumprod with axis=0\n",
      "[[ 1  2  3]\n",
      " [ 4 10 18]]\n",
      "\n",
      "np.cumprod with axis=1\n",
      "[[  1   2   6]\n",
      " [  4  20 120]]\n"
     ]
    }
   ],
   "source": [
    "a = np.array([[1, 2, 3], [4, 5, 6]])\n",
    "print(\"Original array : \")\n",
    "print(a)\n",
    "print(\"\")\n",
    "print(\"np.cumprod with axis=None\")\n",
    "print(np.cumprod(a, dtype=float))\n",
    "print(\"\")\n",
    "print(\"np.cumprod with axis=0\")\n",
    "print(np.cumprod(a, axis=0))\n",
    "print(\"\")\n",
    "print(\"np.cumprod with axis=1\")\n",
    "print(np.cumprod(a,axis=1))"
   ]
  },
  {
   "cell_type": "markdown",
   "id": "90859b15",
   "metadata": {},
   "source": [
    "#### numpy.cumsum\n",
    "Return the cumulative sum of the elements along a given axis.\n",
    "<p style=\"background-color:yellow\">SYNTAX - numpy.cumsum(a, axis=None, dtype=None, out=None)</p>"
   ]
  },
  {
   "cell_type": "code",
   "execution_count": 204,
   "id": "e679b02a",
   "metadata": {},
   "outputs": [
    {
     "name": "stdout",
     "output_type": "stream",
     "text": [
      "Original array : \n",
      "[[1 2 3]\n",
      " [4 5 6]]\n",
      "\n",
      "np.cumsum with axis=None\n",
      "[ 1.  3.  6. 10. 15. 21.]\n",
      "\n",
      "np.cumsum with axis=0\n",
      "[[1 2 3]\n",
      " [5 7 9]]\n",
      "\n",
      "np.cumsum with axis=1\n",
      "[[ 1  3  6]\n",
      " [ 4  9 15]]\n"
     ]
    }
   ],
   "source": [
    "a = np.array([[1, 2, 3], [4, 5, 6]])\n",
    "print(\"Original array : \")\n",
    "print(a)\n",
    "print(\"\")\n",
    "print(\"np.cumsum with axis=None\")\n",
    "print(np.cumsum(a, dtype=float))\n",
    "print(\"\")\n",
    "print(\"np.cumsum with axis=0\")\n",
    "print(np.cumsum(a, axis=0))\n",
    "print(\"\")\n",
    "print(\"np.cumsum with axis=1\")\n",
    "print(np.cumsum(a,axis=1))"
   ]
  },
  {
   "cell_type": "markdown",
   "id": "a4e96283",
   "metadata": {},
   "source": [
    "#### numpy.nancumprod\n",
    "Return the cumulative product of array elements over a given axis treating Not a Numbers (NaNs) as one. The cumulative product does not change when NaNs are encountered and leading NaNs are replaced by ones.\n",
    "<p style=\"background-color:yellow\">SYNTAX - numpy.nancumprod(a, axis=None, dtype=None, out=None)</p>"
   ]
  },
  {
   "cell_type": "code",
   "execution_count": 205,
   "id": "0f3a585f",
   "metadata": {},
   "outputs": [
    {
     "name": "stdout",
     "output_type": "stream",
     "text": [
      "Original array : \n",
      "[[ 1.  2.]\n",
      " [ 3. nan]]\n",
      "\n",
      "np.nancumprod with axis=None\n",
      "[1. 2. 6. 6.]\n",
      "\n",
      "np.nancumprod with axis=0\n",
      "[[1. 2.]\n",
      " [3. 2.]]\n",
      "\n",
      "np.nancumprod with axis=1\n",
      "[[1. 2.]\n",
      " [3. 3.]]\n"
     ]
    }
   ],
   "source": [
    "a = np.array([[1, 2], [3, np.nan]])\n",
    "print(\"Original array : \")\n",
    "print(a)\n",
    "print(\"\")\n",
    "print(\"np.nancumprod with axis=None\")\n",
    "print(np.nancumprod(a, dtype=float))\n",
    "print(\"\")\n",
    "print(\"np.nancumprod with axis=0\")\n",
    "print(np.nancumprod(a, axis=0))\n",
    "print(\"\")\n",
    "print(\"np.nancumprod with axis=1\")\n",
    "print(np.nancumprod(a,axis=1))"
   ]
  },
  {
   "cell_type": "markdown",
   "id": "ccf33f14",
   "metadata": {},
   "source": [
    "#### numpy.nancumsum\n",
    "Return the cumulative sum of array elements over a given axis treating Not a Numbers (NaNs) as zero. The cumulative sum does not change when NaNs are encountered and leading NaNs are replaced by zeros.\n",
    "<p style=\"background-color:yellow\">SYNTAX - numpy.nancumsum(a, axis=None, dtype=None, out=None)</p>"
   ]
  },
  {
   "cell_type": "code",
   "execution_count": 206,
   "id": "8804f131",
   "metadata": {},
   "outputs": [
    {
     "name": "stdout",
     "output_type": "stream",
     "text": [
      "Original array : \n",
      "[[ 1.  2.]\n",
      " [ 3. nan]]\n",
      "\n",
      "np.nancumsum with axis=None\n",
      "[1. 3. 6. 6.]\n",
      "\n",
      "np.nancumsum with axis=0\n",
      "[[1. 2.]\n",
      " [4. 2.]]\n",
      "\n",
      "np.nancumsum with axis=1\n",
      "[[1. 3.]\n",
      " [3. 3.]]\n"
     ]
    }
   ],
   "source": [
    "a = np.array([[1, 2], [3, np.nan]])\n",
    "print(\"Original array : \")\n",
    "print(a)\n",
    "print(\"\")\n",
    "print(\"np.nancumsum with axis=None\")\n",
    "print(np.nancumsum(a, dtype=float))\n",
    "print(\"\")\n",
    "print(\"np.nancumsum with axis=0\")\n",
    "print(np.nancumsum(a, axis=0))\n",
    "print(\"\")\n",
    "print(\"np.nancumsum with axis=1\")\n",
    "print(np.nancumsum(a,axis=1))"
   ]
  },
  {
   "cell_type": "markdown",
   "id": "856d63c8",
   "metadata": {},
   "source": [
    "#### numpy.diff\n",
    "Calculate the n-th discrete difference along the given axis.\n",
    "The first difference is given by out[i] = a[i+1] - a[i] along the given axis, higher differences are calculated by using diff recursively.\n",
    "<p style=\"background-color:yellow\">SYNTAX - numpy.diff(a, n=1, axis=-1, prepend=<no value>, append=<no value>)</p>"
   ]
  },
  {
   "cell_type": "code",
   "execution_count": 207,
   "id": "a56311ab",
   "metadata": {},
   "outputs": [
    {
     "name": "stdout",
     "output_type": "stream",
     "text": [
      "Original array : \n",
      "[1 2 4 7 0]\n",
      "\n",
      "np.diff with default n value\n",
      "[ 1  2  3 -7]\n",
      "\n",
      "np.diff with with n=2\n",
      "[  1   1 -10]\n"
     ]
    }
   ],
   "source": [
    "a = np.array([1, 2, 4, 7, 0])\n",
    "print(\"Original array : \")\n",
    "print(a)\n",
    "print(\"\")\n",
    "print(\"np.diff with default n value\")\n",
    "print(np.diff(a))\n",
    "print(\"\")\n",
    "print(\"np.diff with with n=2\")\n",
    "print(np.diff(a, n=2))"
   ]
  },
  {
   "cell_type": "code",
   "execution_count": 208,
   "id": "09c695f5",
   "metadata": {},
   "outputs": [
    {
     "name": "stdout",
     "output_type": "stream",
     "text": [
      "Original array : \n",
      "[[ 1  3  6 10]\n",
      " [ 0  5  6  8]]\n",
      "\n",
      "np.diff\n",
      "[[2 3 4]\n",
      " [5 1 2]]\n",
      "\n",
      "np.diff with axis=0\n",
      "[[-1  2  0 -2]]\n"
     ]
    }
   ],
   "source": [
    "a = np.array([[1, 3, 6, 10], [0, 5, 6, 8]])\n",
    "print(\"Original array : \")\n",
    "print(a)\n",
    "print(\"\")\n",
    "print(\"np.diff\")\n",
    "print(np.diff(a))\n",
    "print(\"\")\n",
    "print(\"np.diff with axis=0\")\n",
    "print(np.diff(a, axis=0))"
   ]
  },
  {
   "cell_type": "markdown",
   "id": "48df32e6",
   "metadata": {},
   "source": [
    "#### numpy.ediff1d\n",
    "The differences between consecutive elements of an array.\n",
    "<p style=\"background-color:yellow\">SYNTAX - numpy.ediff1d(ary, to_end=None, to_begin=None)</p>"
   ]
  },
  {
   "cell_type": "code",
   "execution_count": 209,
   "id": "065ebc73",
   "metadata": {},
   "outputs": [
    {
     "name": "stdout",
     "output_type": "stream",
     "text": [
      "Original array : \n",
      "[1 2 4 7 0]\n",
      "\n",
      "np.ediff1d without to_end and to_begin value\n",
      "[ 1  2  3 -7]\n",
      "\n",
      "np.ediff1d with to_end and to_begin value\n",
      "[ 10   1   2   3  -7  55 -99]\n"
     ]
    }
   ],
   "source": [
    "a = np.array([1, 2, 4, 7, 0])\n",
    "print(\"Original array : \")\n",
    "print(a)\n",
    "print(\"\")\n",
    "print(\"np.ediff1d without to_end and to_begin value\")\n",
    "print(np.ediff1d(a))\n",
    "print(\"\")\n",
    "print(\"np.ediff1d with to_end and to_begin value\")\n",
    "print(np.ediff1d(a, to_begin=10, to_end=np.array([55, -99])))"
   ]
  },
  {
   "cell_type": "code",
   "execution_count": 210,
   "id": "418af4b1",
   "metadata": {},
   "outputs": [
    {
     "name": "stdout",
     "output_type": "stream",
     "text": [
      "Original array : \n",
      "[[ 1  3  6 10]\n",
      " [ 0  5  6  8]]\n",
      "\n",
      "np.ediff1d\n",
      "[  2   3   4 -10   5   1   2]\n"
     ]
    }
   ],
   "source": [
    "a = np.array([[1, 3, 6, 10], [0, 5, 6, 8]])\n",
    "print(\"Original array : \")\n",
    "print(a)\n",
    "print(\"\")\n",
    "print(\"np.ediff1d\")\n",
    "print(np.ediff1d(a))"
   ]
  },
  {
   "cell_type": "markdown",
   "id": "512d92ba",
   "metadata": {},
   "source": [
    "#### numpy.cross\n",
    "Return the cross product of two (arrays of) vectors.\n",
    "<p style=\"background-color:yellow\">SYNTAX - numpy.cross(a, b, axisa=-1, axisb=-1, axisc=-1, axis=None)</p>"
   ]
  },
  {
   "cell_type": "code",
   "execution_count": 211,
   "id": "04ebf402",
   "metadata": {},
   "outputs": [
    {
     "data": {
      "text/plain": [
       "array([-3,  6, -3])"
      ]
     },
     "execution_count": 211,
     "metadata": {},
     "output_type": "execute_result"
    }
   ],
   "source": [
    "x = [1, 2, 3]\n",
    "y = [4, 5, 6]\n",
    "np.cross(x, y)"
   ]
  },
  {
   "cell_type": "code",
   "execution_count": 212,
   "id": "bb877b48",
   "metadata": {},
   "outputs": [
    {
     "data": {
      "text/plain": [
       "array([12, -6, -3])"
      ]
     },
     "execution_count": 212,
     "metadata": {},
     "output_type": "execute_result"
    }
   ],
   "source": [
    "x = [1, 2]\n",
    "y = [4, 5, 6]\n",
    "np.cross(x, y)"
   ]
  },
  {
   "cell_type": "code",
   "execution_count": 213,
   "id": "3d0527db",
   "metadata": {},
   "outputs": [
    {
     "data": {
      "text/plain": [
       "array([12, -6, -3])"
      ]
     },
     "execution_count": 213,
     "metadata": {},
     "output_type": "execute_result"
    }
   ],
   "source": [
    "x = [1, 2, 0]\n",
    "y = [4, 5, 6]\n",
    "np.cross(x, y)"
   ]
  },
  {
   "cell_type": "code",
   "execution_count": 214,
   "id": "d4b57fa6",
   "metadata": {},
   "outputs": [
    {
     "data": {
      "text/plain": [
       "array(-3)"
      ]
     },
     "execution_count": 214,
     "metadata": {},
     "output_type": "execute_result"
    }
   ],
   "source": [
    "x = [1,2]\n",
    "y = [4,5]\n",
    "np.cross(x, y)"
   ]
  },
  {
   "cell_type": "code",
   "execution_count": 215,
   "id": "2caa7951",
   "metadata": {},
   "outputs": [
    {
     "data": {
      "text/plain": [
       "array([[-3,  6, -3],\n",
       "       [ 3, -6,  3]])"
      ]
     },
     "execution_count": 215,
     "metadata": {},
     "output_type": "execute_result"
    }
   ],
   "source": [
    "x = np.array([[1,2,3], [4,5,6]])\n",
    "y = np.array([[4,5,6], [1,2,3]])\n",
    "np.cross(x, y)"
   ]
  },
  {
   "cell_type": "code",
   "execution_count": 216,
   "id": "8b2cab57",
   "metadata": {},
   "outputs": [
    {
     "data": {
      "text/plain": [
       "array([[-3,  3],\n",
       "       [ 6, -6],\n",
       "       [-3,  3]])"
      ]
     },
     "execution_count": 216,
     "metadata": {},
     "output_type": "execute_result"
    }
   ],
   "source": [
    "x = np.array([[1,2,3], [4,5,6]])\n",
    "y = np.array([[4,5,6], [1,2,3]])\n",
    "np.cross(x, y, axisc=0)"
   ]
  },
  {
   "cell_type": "code",
   "execution_count": 217,
   "id": "caf24aeb",
   "metadata": {},
   "outputs": [
    {
     "data": {
      "text/plain": [
       "array([[ -6,  12,  -6],\n",
       "       [  0,   0,   0],\n",
       "       [  6, -12,   6]])"
      ]
     },
     "execution_count": 217,
     "metadata": {},
     "output_type": "execute_result"
    }
   ],
   "source": [
    "x = np.array([[1,2,3], [4,5,6], [7, 8, 9]])\n",
    "y = np.array([[7, 8, 9], [4,5,6], [1,2,3]])\n",
    "np.cross(x, y)"
   ]
  },
  {
   "cell_type": "code",
   "execution_count": 218,
   "id": "91533177",
   "metadata": {},
   "outputs": [
    {
     "data": {
      "text/plain": [
       "array([[-24,  48, -24],\n",
       "       [-30,  60, -30],\n",
       "       [-36,  72, -36]])"
      ]
     },
     "execution_count": 218,
     "metadata": {},
     "output_type": "execute_result"
    }
   ],
   "source": [
    "x = np.array([[1,2,3], [4,5,6], [7, 8, 9]])\n",
    "y = np.array([[7, 8, 9], [4,5,6], [1,2,3]])\n",
    "np.cross(x, y, axisa=0, axisb=0)"
   ]
  },
  {
   "cell_type": "markdown",
   "id": "fad29152",
   "metadata": {},
   "source": [
    "[<p style=\"text-align:right\">[Back to Current Topic]</p>](#NumPy---Mathematical-Functions)\n",
    "[<p style=\"text-align:right\">[Back to top]</p>](#NumPy)"
   ]
  },
  {
   "cell_type": "markdown",
   "id": "804e2d5a",
   "metadata": {},
   "source": [
    "### Exponents and logarithms"
   ]
  },
  {
   "cell_type": "markdown",
   "id": "ce7d7641",
   "metadata": {},
   "source": [
    "#### numpy.exp\n",
    "Calculate the exponential of all elements in the input array.\n",
    "<p style=\"background-color:yellow\">SYNTAX - numpy.exp(x, /, out=None, *, where=True, casting='same_kind', order='K', dtype=None, subok=True[, signature, extobj])</p>"
   ]
  },
  {
   "cell_type": "markdown",
   "id": "eaeb7b4a",
   "metadata": {},
   "source": [
    "#### numpy.expm1\n",
    "Calculate exp(x) - 1 for all elements in the array.\n",
    "<p style=\"background-color:yellow\">SYNTAX - numpy.expm1(x, /, out=None, *, where=True, casting='same_kind', order='K', dtype=None, subok=True[, signature, extobj])</p>"
   ]
  },
  {
   "cell_type": "markdown",
   "id": "1773cb5b",
   "metadata": {},
   "source": [
    "#### numpy.exp2\n",
    "Calculate 2**p for all p in the input array.\n",
    "<p style=\"background-color:yellow\">SYNTAX - numpy.exp2(x, /, out=None, *, where=True, casting='same_kind', order='K', dtype=None, subok=True[, signature, extobj])</p>"
   ]
  },
  {
   "cell_type": "markdown",
   "id": "04c6a2d2",
   "metadata": {},
   "source": [
    "#### numpy.log\n",
    "Natural logarithm, element-wise.\n",
    "<p style=\"background-color:yellow\">SYNTAX - numpy.log(x, /, out=None, *, where=True, casting='same_kind', order='K', dtype=None, subok=True[, signature, extobj])</p>"
   ]
  },
  {
   "cell_type": "markdown",
   "id": "ed546e71",
   "metadata": {},
   "source": [
    "#### numpy.log10\n",
    "Return the base 10 logarithm of the input array, element-wise.\n",
    "<p style=\"background-color:yellow\">SYNTAX - numpy.log10(x, /, out=None, *, where=True, casting='same_kind', order='K', dtype=None, subok=True[, signature, extobj])</p>"
   ]
  },
  {
   "cell_type": "markdown",
   "id": "12677c2b",
   "metadata": {},
   "source": [
    "#### numpy.log2\n",
    "Base-2 logarithm of x.\n",
    "<p style=\"background-color:yellow\">SYNTAX - numpy.log2(x, /, out=None, *, where=True, casting='same_kind', order='K', dtype=None, subok=True[, signature, extobj])</p>"
   ]
  },
  {
   "cell_type": "markdown",
   "id": "e66aa137",
   "metadata": {},
   "source": [
    "[<p style=\"text-align:right\">[Back to Current Topic]</p>](#NumPy---Mathematical-Functions)\n",
    "[<p style=\"text-align:right\">[Back to top]</p>](#NumPy)"
   ]
  },
  {
   "cell_type": "markdown",
   "id": "785f48f5",
   "metadata": {},
   "source": [
    "### Rational routines"
   ]
  },
  {
   "cell_type": "markdown",
   "id": "18053319",
   "metadata": {},
   "source": [
    "#### numpy.lcm\n",
    "Returns the lowest common multiple of |x1| and |x2|\n",
    "<p style=\"background-color:yellow\">SYNTAX - numpy.lcm(x1, x2, /, out=None, *, where=True, casting='same_kind', order='K', dtype=None, subok=True[, signature, extobj])</p>"
   ]
  },
  {
   "cell_type": "code",
   "execution_count": 219,
   "id": "4568ee07",
   "metadata": {},
   "outputs": [
    {
     "name": "stdout",
     "output_type": "stream",
     "text": [
      "60\n",
      "\n",
      "60\n",
      "\n",
      "120\n",
      "\n",
      "[ 0 20 20 60 20 20]\n"
     ]
    }
   ],
   "source": [
    "print(np.lcm(12, 20))\n",
    "print()\n",
    "print(np.lcm.reduce([3, 12, 20]))\n",
    "print()\n",
    "print(np.lcm.reduce([40, 12, 20]))\n",
    "print()\n",
    "print(np.lcm(np.arange(6), 20))"
   ]
  },
  {
   "cell_type": "markdown",
   "id": "0110db93",
   "metadata": {},
   "source": [
    "#### numpy.gcd\n",
    "Returns the greatest common divisor of |x1| and |x2|\n",
    "<p style=\"background-color:yellow\">SYNTAX - numpy.gcd(x1, x2, /, out=None, *, where=True, casting='same_kind', order='K', dtype=None, subok=True[, signature, extobj])</p>"
   ]
  },
  {
   "cell_type": "code",
   "execution_count": 220,
   "id": "8acd8ab9",
   "metadata": {
    "scrolled": true
   },
   "outputs": [
    {
     "name": "stdout",
     "output_type": "stream",
     "text": [
      "4\n",
      "\n",
      "5\n",
      "\n",
      "[20  1  2  1  4  5]\n"
     ]
    }
   ],
   "source": [
    "print(np.gcd(12, 20))\n",
    "print()\n",
    "print(np.gcd.reduce([15, 25, 35]))\n",
    "print()\n",
    "print(np.gcd(np.arange(6), 20))"
   ]
  },
  {
   "cell_type": "markdown",
   "id": "39387ef5",
   "metadata": {},
   "source": [
    "[<p style=\"text-align:right\">[Back to Current Topic]</p>](#NumPy---Mathematical-Functions)\n",
    "[<p style=\"text-align:right\">[Back to top]</p>](#NumPy)"
   ]
  },
  {
   "cell_type": "markdown",
   "id": "769c50ad",
   "metadata": {},
   "source": [
    "### Arithmetic operations"
   ]
  },
  {
   "cell_type": "markdown",
   "id": "fd43bd47",
   "metadata": {},
   "source": [
    "#### numpy.add\n",
    "Add arguments element-wise.\n",
    "<p style=\"background-color:yellow\">SYNTAX - numpy.add(x1, x2, /, out=None, *, where=True, casting='same_kind', order='K', dtype=None, subok=True[, signature, extobj])</p>"
   ]
  },
  {
   "cell_type": "markdown",
   "id": "048c2875",
   "metadata": {},
   "source": [
    "#### numpy.reciprocal\n",
    "Return the reciprocal of the argument, element-wise.\n",
    "<p style=\"background-color:yellow\">SYNTAX - numpy.reciprocal(x, /, out=None, *, where=True, casting='same_kind', order='K', dtype=None, subok=True[, signature, extobj])</p>"
   ]
  },
  {
   "cell_type": "markdown",
   "id": "ed49b0c9",
   "metadata": {},
   "source": [
    "#### numpy.positive\n",
    "\n",
    "<p style=\"background-color:yellow\">SYNTAX - numpy.positive(x, /, out=None, *, where=True, casting='same_kind', order='K', dtype=None, subok=True[, signature, extobj])</p>"
   ]
  },
  {
   "cell_type": "markdown",
   "id": "9bb0c2c8",
   "metadata": {},
   "source": [
    "#### numpy.negative\n",
    "<p style=\"background-color:yellow\">SYNTAX - numpy.negative(x, /, out=None, *, where=True, casting='same_kind', order='K', dtype=None, subok=True[, signature, extobj])</p>"
   ]
  },
  {
   "cell_type": "markdown",
   "id": "35fb0ea7",
   "metadata": {},
   "source": [
    "#### numpy.multiply\n",
    "Multiply arguments element-wise.\n",
    "<p style=\"background-color:yellow\">SYNTAX - numpy.multiply(x1, x2, /, out=None, *, where=True, casting='same_kind', order='K', dtype=None, subok=True[, signature, extobj])</p>"
   ]
  },
  {
   "cell_type": "markdown",
   "id": "ccaf0d21",
   "metadata": {},
   "source": [
    "#### numpy.divide\n",
    "Divide arguments element-wise.\n",
    "<p style=\"background-color:yellow\">SYNTAX - numpy.divide(x1, x2, /, out=None, *, where=True, casting='same_kind', order='K', dtype=None, subok=True[, signature, extobj])</p>"
   ]
  },
  {
   "cell_type": "markdown",
   "id": "192e5fcd",
   "metadata": {},
   "source": [
    "#### numpy.power\n",
    "First array elements raised to powers from second array, element-wise.\n",
    "<p style=\"background-color:yellow\">SYNTAX - numpy.power(x1, x2, /, out=None, *, where=True, casting='same_kind', order='K', dtype=None, subok=True[, signature, extobj])</p>"
   ]
  },
  {
   "cell_type": "markdown",
   "id": "5e04add3",
   "metadata": {},
   "source": [
    "#### numpy.subtract\n",
    "Subtract arguments, element-wise.\n",
    "<p style=\"background-color:yellow\">SYNTAX - numpy.subtract(x1, x2, /, out=None, *, where=True, casting='same_kind', order='K', dtype=None, subok=True[, signature, extobj])</p>"
   ]
  },
  {
   "cell_type": "markdown",
   "id": "6e1c97d7",
   "metadata": {},
   "source": [
    "#### numpy.true_divide\n",
    "Divide arguments element-wise.\n",
    "<p style=\"background-color:yellow\">SYNTAX - numpy.true_divide(x1, x2, /, out=None, *, where=True, casting='same_kind', order='K', dtype=None, subok=True[, signature, extobj])</p>"
   ]
  },
  {
   "cell_type": "markdown",
   "id": "d6bf0791",
   "metadata": {},
   "source": [
    "#### numpy.floor_divide\n",
    "Return the largest integer smaller or equal to the division of the inputs. It is equivalent to the Python // operator and pairs with the Python % (remainder), function so that a = a % b + b * (a // b) up to roundoff.\n",
    "<p style=\"background-color:yellow\">SYNTAX - numpy.floor_divide(x1, x2, /, out=None, *, where=True, casting='same_kind', order='K', dtype=None, subok=True[, signature, extobj])</p>"
   ]
  },
  {
   "cell_type": "markdown",
   "id": "a73b2c98",
   "metadata": {},
   "source": [
    "#### numpy.float_power\n",
    "First array elements raised to powers from second array, element-wise.\n",
    "<p style=\"background-color:yellow\">SYNTAX - numpy.float_power(x1, x2, /, out=None, *, where=True, casting='same_kind', order='K', dtype=None, subok=True[, signature, extobj])</p>"
   ]
  },
  {
   "cell_type": "markdown",
   "id": "79e09349",
   "metadata": {},
   "source": [
    "#### numpy.fmod\n",
    "Returns the element-wise remainder of division.\n",
    "This is the NumPy implementation of the C library function fmod, the remainder has the same sign as the dividend x1. It is equivalent to the Matlab(TM) rem function and should not be confused with the Python modulus operator x1 % x2.\n",
    "<p style=\"background-color:yellow\">SYNTAX - numpy.fmod(x1, x2, /, out=None, *, where=True, casting='same_kind', order='K', dtype=None, subok=True[, signature, extobj])</p>"
   ]
  },
  {
   "cell_type": "markdown",
   "id": "ffcc7d92",
   "metadata": {},
   "source": [
    "#### numpy.mod\n",
    "Returns the element-wise remainder of division.\n",
    "Computes the remainder complementary to the floor_divide function. It is equivalent to the Python modulus operator``x1 % x2`` and has the same sign as the divisor x2. The MATLAB function equivalent to np.remainder is mod.\n",
    "<p style=\"background-color:yellow\">SYNTAX - numpy.mod(x1, x2, /, out=None, *, where=True, casting='same_kind', order='K', dtype=None, subok=True[, signature, extobj])</p>"
   ]
  },
  {
   "cell_type": "markdown",
   "id": "f593d5ad",
   "metadata": {},
   "source": [
    "#### numpy.modf\n",
    "Return the fractional and integral parts of an array, element-wise.<br>\n",
    "The fractional and integral parts are negative if the given number is negative.\n",
    "<p style=\"background-color:yellow\">SYNTAX - numpy.modf(x, [out1, out2, ]/, [out=(None, None), ]*, where=True, casting='same_kind', order='K', dtype=None, subok=True[, signature, extobj])</p>"
   ]
  },
  {
   "cell_type": "markdown",
   "id": "145f06b2",
   "metadata": {},
   "source": [
    "#### numpy.remainder\n",
    "Returns the element-wise remainder of division.<br>\n",
    "Computes the remainder complementary to the floor_divide function. It is equivalent to the Python modulus operator``x1 % x2`` and has the same sign as the divisor x2. The MATLAB function equivalent to np.remainder is mod.\n",
    "<p style=\"background-color:yellow\">SYNTAX - numpy.remainder(x1, x2, /, out=None, *, where=True, casting='same_kind', order='K', dtype=None, subok=True[, signature, extobj])</p>"
   ]
  },
  {
   "cell_type": "markdown",
   "id": "3eb9b427",
   "metadata": {},
   "source": [
    "#### numpy.divmod\n",
    "Return element-wise quotient and remainder simultaneously.\n",
    "<p style=\"background-color:yellow\">SYNTAX - numpy.divmod(x1, x2, [out1, out2, ]/, [out=(None, None), ]*, where=True, casting='same_kind', order='K', dtype=None, subok=True[, signature, extobj])</p>"
   ]
  },
  {
   "cell_type": "markdown",
   "id": "cd850566",
   "metadata": {},
   "source": [
    "[<p style=\"text-align:right\">[Back to Current Topic]</p>](#NumPy---Mathematical-Functions)\n",
    "[<p style=\"text-align:right\">[Back to top]</p>](#NumPy)"
   ]
  },
  {
   "cell_type": "markdown",
   "id": "8f12beb0",
   "metadata": {},
   "source": [
    "### Extrema Finding"
   ]
  },
  {
   "cell_type": "markdown",
   "id": "c8b62ec4",
   "metadata": {},
   "source": [
    "#### numpy.maximum\n",
    "Element-wise maximum of array elements.<br>\n",
    "Compare two arrays and returns a new array containing the element-wise maxima. If one of the elements being compared is a NaN, then that element is returned. If both elements are NaNs then the first is returned. The latter distinction is important for complex NaNs, which are defined as at least one of the real or imaginary parts being a NaN. The net effect is that NaNs are propagated.\n",
    "<p style=\"background-color:yellow\">SYNTAX - numpy.maximum(x1, x2, /, out=None, *, where=True, casting='same_kind', order='K', dtype=None, subok=True[, signature, extobj])</p>"
   ]
  },
  {
   "cell_type": "markdown",
   "id": "8e8b180d",
   "metadata": {},
   "source": [
    "#### numpy.fmax\n",
    "Element-wise maximum of array elements.<br>\n",
    "Compare two arrays and returns a new array containing the element-wise maxima. If one of the elements being compared is a NaN, then the non-nan element is returned. If both elements are NaNs then the first is returned. The latter distinction is important for complex NaNs, which are defined as at least one of the real or imaginary parts being a NaN. The net effect is that NaNs are ignored when possible.\n",
    "<p style=\"background-color:yellow\">SYNTAX - numpy.fmax(x1, x2, /, out=None, *, where=True, casting='same_kind', order='K', dtype=None, subok=True[, signature, extobj])</p>"
   ]
  },
  {
   "cell_type": "markdown",
   "id": "6080343b",
   "metadata": {},
   "source": [
    "#### numpy.amax\n",
    "Return the maximum of an array or maximum along an axis.\n",
    "<p style=\"background-color:yellow\">SYNTAX - numpy.amax(a, axis=None, out=None, keepdims=<no value>, initial=<no value>, where=<no value>)</p>"
   ]
  },
  {
   "cell_type": "markdown",
   "id": "30355bb1",
   "metadata": {},
   "source": [
    "#### numpy.nanmax\n",
    "Return the maximum of an array or maximum along an axis, ignoring any NaNs. When all-NaN slices are encountered a RuntimeWarning is raised and NaN is returned for that slice.\n",
    "<p style=\"background-color:yellow\">SYNTAX - numpy.nanmax(a, axis=None, out=None, keepdims=<no value>, initial=<no value>, where=<no value>)</p>"
   ]
  },
  {
   "cell_type": "markdown",
   "id": "5b8c237c",
   "metadata": {},
   "source": [
    "#### numpy.minimum\n",
    "Element-wise minimum of array elements.<br>\n",
    "Compare two arrays and returns a new array containing the element-wise minima. If one of the elements being compared is a NaN, then that element is returned. If both elements are NaNs then the first is returned. The latter distinction is important for complex NaNs, which are defined as at least one of the real or imaginary parts being a NaN. The net effect is that NaNs are propagated.\n",
    "<p style=\"background-color:yellow\">SYNTAX - numpy.minimum(x1, x2, /, out=None, *, where=True, casting='same_kind', order='K', dtype=None, subok=True[, signature, extobj])</p>"
   ]
  },
  {
   "cell_type": "markdown",
   "id": "b8a979d1",
   "metadata": {},
   "source": [
    "#### numpy.fmin\n",
    "Element-wise minimum of array elements.<br>\n",
    "Compare two arrays and returns a new array containing the element-wise minima. If one of the elements being compared is a NaN, then the non-nan element is returned. If both elements are NaNs then the first is returned. The latter distinction is important for complex NaNs, which are defined as at least one of the real or imaginary parts being a NaN. The net effect is that NaNs are ignored when possible.\n",
    "<p style=\"background-color:yellow\">SYNTAX - numpy.fmin(x1, x2, /, out=None, *, where=True, casting='same_kind', order='K', dtype=None, subok=True[, signature, extobj])</p>"
   ]
  },
  {
   "cell_type": "markdown",
   "id": "cafded10",
   "metadata": {},
   "source": [
    "#### numpy.amin\n",
    "Return the minimum of an array or minimum along an axis.\n",
    "<p style=\"background-color:yellow\">SYNTAX - numpy.amin(a, axis=None, out=None, keepdims=<no value>, initial=<no value>, where=<no value>)</p>"
   ]
  },
  {
   "cell_type": "markdown",
   "id": "2a0dfcf3",
   "metadata": {},
   "source": [
    "#### numpy.nanmin\n",
    "Return minimum of an array or minimum along an axis, ignoring any NaNs. When all-NaN slices are encountered a RuntimeWarning is raised and Nan is returned for that slice.\n",
    "<p style=\"background-color:yellow\">SYNTAX - numpy.nanmin(a, axis=None, out=None, keepdims=<no value>, initial=<no value>, where=<no value>)</p>"
   ]
  },
  {
   "cell_type": "markdown",
   "id": "e71147f2",
   "metadata": {},
   "source": [
    "[<p style=\"text-align:right\">[Back to Current Topic]</p>](#NumPy---Mathematical-Functions)\n",
    "[<p style=\"text-align:right\">[Back to top]</p>](#NumPy)"
   ]
  },
  {
   "cell_type": "markdown",
   "id": "b39227bf",
   "metadata": {},
   "source": [
    "### Miscellaneous"
   ]
  },
  {
   "cell_type": "markdown",
   "id": "a3e5e07f",
   "metadata": {},
   "source": [
    "#### numpy.convolve\n",
    "Returns the discrete, linear convolution of two one-dimensional sequences.<br>\n",
    "The convolution operator is often seen in signal processing, where it models the effect of a linear time-invariant system on a signal [1]. In probability theory, the sum of two independent random variables is distributed according to the convolution of their individual distributions.<br>\n",
    "If v is longer than a, the arrays are swapped before computation.\n",
    "<p style=\"background-color:yellow\">SYNTAX - numpy.convolve(a, v, mode='full')</p>"
   ]
  },
  {
   "cell_type": "markdown",
   "id": "cf3a8da9",
   "metadata": {},
   "source": [
    "#### numpy.clip\n",
    "Clip (limit) the values in an array.<br>\n",
    "Given an interval, values outside the interval are clipped to the interval edges. For example, if an interval of [0, 1] is specified, values smaller than 0 become 0, and values larger than 1 become 1.<br>\n",
    "Equivalent to but faster than np.minimum(a_max, np.maximum(a, a_min)).<br>\n",
    "No check is performed to ensure a_min < a_max.\n",
    "<p style=\"background-color:yellow\">SYNTAX - numpy.clip(a, a_min, a_max, out=None, **kwargs)</p>"
   ]
  },
  {
   "cell_type": "markdown",
   "id": "ee30055e",
   "metadata": {},
   "source": [
    "#### numpy.sqrt\n",
    "Return the non-negative square-root of an array, element-wise.\n",
    "<p style=\"background-color:yellow\">SYNTAX - numpy.sqrt(x, /, out=None, *, where=True, casting='same_kind', order='K', dtype=None, subok=True[, signature, extobj])</p>"
   ]
  },
  {
   "cell_type": "markdown",
   "id": "0a742b14",
   "metadata": {},
   "source": [
    "#### numpy.cbrt\n",
    "Return the cube-root of an array, element-wise.\n",
    "<p style=\"background-color:yellow\">SYNTAX - numpy.cbrt(x, /, out=None, *, where=True, casting='same_kind', order='K', dtype=None, subok=True[, signature, extobj])</p>"
   ]
  },
  {
   "cell_type": "markdown",
   "id": "cc6bd0d3",
   "metadata": {},
   "source": [
    "#### numpy.square\n",
    "Return the element-wise square of the input.\n",
    "<p style=\"background-color:yellow\">SYNTAX - numpy.square(x, /, out=None, *, where=True, casting='same_kind', order='K', dtype=None, subok=True[, signature, extobj])</p>"
   ]
  },
  {
   "cell_type": "markdown",
   "id": "6a0a8e66",
   "metadata": {},
   "source": [
    "#### numpy.absolute\n",
    "Calculate the absolute value element-wise.<br>\n",
    "np.abs is a shorthand for this function.\n",
    "<p style=\"background-color:yellow\">SYNTAX - numpy.absolute(x, /, out=None, *, where=True, casting='same_kind', order='K', dtype=None, subok=True[, signature, extobj])</p>"
   ]
  },
  {
   "cell_type": "markdown",
   "id": "ef8bef92",
   "metadata": {},
   "source": [
    "#### numpy.fabs\n",
    "Compute the absolute values element-wise.<br>\n",
    "This function returns the absolute values (positive magnitude) of the data in x. Complex values are not handled, use absolute to find the absolute values of complex data.\n",
    "<p style=\"background-color:yellow\">SYNTAX - numpy.fabs(x, /, out=None, *, where=True, casting='same_kind', order='K', dtype=None, subok=True[, signature, extobj])</p>"
   ]
  },
  {
   "cell_type": "markdown",
   "id": "61de1c1e",
   "metadata": {},
   "source": [
    "#### numpy.nan_to_num\n",
    "Replace NaN with zero and infinity with large finite numbers (default behaviour) or with the numbers defined by the user using the nan, posinf and/or neginf keywords.<br>\n",
    "If x is inexact, NaN is replaced by zero or by the user defined value in nan keyword, infinity is replaced by the largest finite floating point values representable by x.dtype or by the user defined value in posinf keyword and -infinity is replaced by the most negative finite floating point values representable by x.dtype or by the user defined value in neginf keyword.<br>\n",
    "For complex dtypes, the above is applied to each of the real and imaginary components of x separately.<br>\n",
    "If x is not inexact, then no replacements are made.\n",
    "<p style=\"background-color:yellow\">SYNTAX - numpy.nan_to_num(x, copy=True, nan=0.0, posinf=None, neginf=None)</p>"
   ]
  },
  {
   "cell_type": "markdown",
   "id": "91946566",
   "metadata": {},
   "source": [
    "[<p style=\"text-align:right\">[Back to Current Topic]</p>](#NumPy---Mathematical-Functions)\n",
    "[<p style=\"text-align:right\">[Back to top]</p>](#NumPy)"
   ]
  },
  {
   "cell_type": "markdown",
   "id": "62434016",
   "metadata": {},
   "source": [
    "### NumPy - Sort, Search & Counting Functions"
   ]
  },
  {
   "cell_type": "markdown",
   "id": "b41f84c2",
   "metadata": {},
   "source": [
    "#### numpy.sort\n",
    "Return a sorted copy of an array.\n",
    "<p style=\"background-color:yellow\">SYNTAX - numpy.sort(a, axis=-1, kind=None, order=None)</p>"
   ]
  },
  {
   "cell_type": "markdown",
   "id": "09b5a195",
   "metadata": {},
   "source": [
    "#### numpy.argsort\n",
    "Returns the indices that would sort an array.<br>\n",
    "Perform an indirect sort along the given axis using the algorithm specified by the kind keyword. It returns an array of indices of the same shape as a that index data along the given axis in sorted order.\n",
    "<p style=\"background-color:yellow\">SYNTAX - numpy.argsort(a, axis=-1, kind=None, order=None)</p>"
   ]
  },
  {
   "cell_type": "markdown",
   "id": "58a8fe24",
   "metadata": {},
   "source": [
    "#### numpy.lexsort\n",
    "Perform an indirect stable sort using a sequence of keys.<br>\n",
    "Given multiple sorting keys, which can be interpreted as columns in a spreadsheet, lexsort returns an array of integer indices that describes the sort order by multiple columns. The last key in the sequence is used for the primary sort order, the second-to-last key for the secondary sort order, and so on. The keys argument must be a sequence of objects that can be converted to arrays of the same shape. If a 2D array is provided for the keys argument, its rows are interpreted as the sorting keys and sorting is according to the last row, second last row etc.\n",
    "<p style=\"background-color:yellow\">SYNTAX - numpy.lexsort(keys, axis=-1)</p>"
   ]
  },
  {
   "cell_type": "markdown",
   "id": "e24d9af3",
   "metadata": {},
   "source": [
    "#### numpy.argmax\n",
    "Returns the indices of the maximum values along an axis.\n",
    "<p style=\"background-color:yellow\">SYNTAX - numpy.argmax(a, axis=None, out=None, *, keepdims=<no value>)</p>"
   ]
  },
  {
   "cell_type": "markdown",
   "id": "725ede30",
   "metadata": {},
   "source": [
    "#### numpy.argmin\n",
    "Returns the indices of the minimum values along an axis.\n",
    "<p style=\"background-color:yellow\">SYNTAX - numpy.argmin(a, axis=None, out=None, *, keepdims=<no value>)</p>"
   ]
  },
  {
   "cell_type": "markdown",
   "id": "3cbce625",
   "metadata": {},
   "source": [
    "#### numpy.nonzero\n",
    "Return the indices of the elements that are non-zero.<br>\n",
    "Returns a tuple of arrays, one for each dimension of a, containing the indices of the non-zero elements in that dimension. The values in a are always tested and returned in row-major, C-style order.<br>\n",
    "To group the indices by element, rather than dimension, use argwhere, which returns a row for each non-zero element.\n",
    "<p style=\"background-color:yellow\">SYNTAX - numpy.nonzero(a)</p>"
   ]
  },
  {
   "cell_type": "markdown",
   "id": "6a53cfbc",
   "metadata": {},
   "source": [
    "#### numpy.where\n",
    "Return elements chosen from x or y depending on condition.\n",
    "<p style=\"background-color:yellow\">SYNTAX - numpy.where(condition, [x, y, ]/)</p>"
   ]
  },
  {
   "cell_type": "markdown",
   "id": "4742151f",
   "metadata": {},
   "source": [
    "#### numpy.extract\n",
    "Return the elements of an array that satisfy some condition.<br>\n",
    "This is equivalent to np.compress(ravel(condition), ravel(arr)). If condition is boolean np.extract is equivalent to arr[condition].\n",
    "<p style=\"background-color:yellow\">SYNTAX - numpy.extract(condition, arr)</p>"
   ]
  },
  {
   "cell_type": "markdown",
   "id": "fc172b71",
   "metadata": {},
   "source": [
    "#### numpy.count_nonzero\n",
    "Counts the number of non-zero values in the array a.<br>\n",
    "The word “non-zero” is in reference to the Python 2.x built-in method __nonzero__() (renamed __bool__() in Python 3.x) of Python objects that tests an object’s “truthfulness”. For example, any number is considered truthful if it is nonzero, whereas any string is considered truthful if it is not the empty string. Thus, this function (recursively) counts how many elements in a (and in sub-arrays thereof) have their __nonzero__() or __bool__() method evaluated to True.\n",
    "<p style=\"background-color:yellow\">SYNTAX - numpy.count_nonzero(a, axis=None, *, keepdims=False)</p>"
   ]
  },
  {
   "cell_type": "markdown",
   "id": "2f75aeea",
   "metadata": {},
   "source": [
    "[<p style=\"text-align:right\">[Back to Current Topic]</p>](#NumPy---Sort,-Search-&-Counting-Functions)\n",
    "[<p style=\"text-align:right\">[Back to top]</p>](#NumPy)"
   ]
  },
  {
   "cell_type": "markdown",
   "id": "caf8ce4b",
   "metadata": {},
   "source": [
    "[<p style=\"text-align:right\">[Back to top]</p>](#NumPy)"
   ]
  },
  {
   "cell_type": "code",
   "execution_count": null,
   "id": "9dca709a",
   "metadata": {},
   "outputs": [],
   "source": [
    "## Rough Work"
   ]
  },
  {
   "cell_type": "code",
   "execution_count": 237,
   "id": "8a24003c",
   "metadata": {},
   "outputs": [
    {
     "name": "stdout",
     "output_type": "stream",
     "text": [
      "[[ 1  2  3  4  5]\n",
      " [ 6  7  8  9 10]]\n",
      "[[ 1.  2.  3.  4.  5.]\n",
      " [ 6.  7.  8.  9. 10.]]\n"
     ]
    }
   ],
   "source": [
    "a = np.array([[1,2,3,4,5],[6,7,8,9,10]]) \n",
    "print(a)\n",
    "np.savetxt('out.txt',a)\n",
    "b = np.loadtxt('out.txt')\n",
    "print(b)"
   ]
  },
  {
   "cell_type": "code",
   "execution_count": 226,
   "id": "02323ac0",
   "metadata": {},
   "outputs": [
    {
     "name": "stdout",
     "output_type": "stream",
     "text": [
      "1412112370992\n",
      "1412112370992\n"
     ]
    },
    {
     "data": {
      "text/plain": [
       "False"
      ]
     },
     "execution_count": 226,
     "metadata": {},
     "output_type": "execute_result"
    }
   ],
   "source": [
    "import numpy as np\n",
    "a=np.nan\n",
    "b=np.nan\n",
    "print(id(a))\n",
    "print(id(b))\n",
    "a==b"
   ]
  },
  {
   "cell_type": "code",
   "execution_count": 227,
   "id": "d4de7ac3",
   "metadata": {},
   "outputs": [
    {
     "name": "stdout",
     "output_type": "stream",
     "text": [
      "1412056678640\n",
      "1412056678640\n"
     ]
    },
    {
     "data": {
      "text/plain": [
       "True"
      ]
     },
     "execution_count": 227,
     "metadata": {},
     "output_type": "execute_result"
    }
   ],
   "source": [
    "c=1\n",
    "d=1\n",
    "print(id(c))\n",
    "print(id(d))\n",
    "c==d"
   ]
  },
  {
   "cell_type": "code",
   "execution_count": null,
   "id": "98efcb9d",
   "metadata": {},
   "outputs": [],
   "source": []
  }
 ],
 "metadata": {
  "kernelspec": {
   "display_name": "Python 3 (ipykernel)",
   "language": "python",
   "name": "python3"
  },
  "language_info": {
   "codemirror_mode": {
    "name": "ipython",
    "version": 3
   },
   "file_extension": ".py",
   "mimetype": "text/x-python",
   "name": "python",
   "nbconvert_exporter": "python",
   "pygments_lexer": "ipython3",
   "version": "3.10.6"
  }
 },
 "nbformat": 4,
 "nbformat_minor": 5
}
